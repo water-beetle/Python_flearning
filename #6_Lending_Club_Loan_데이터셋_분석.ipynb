{
  "nbformat": 4,
  "nbformat_minor": 0,
  "metadata": {
    "colab": {
      "name": "#6 Lending Club Loan 데이터셋 분석.ipynb",
      "provenance": [],
      "authorship_tag": "ABX9TyNcwPhtjUgOLwVivaJ+HiVV",
      "include_colab_link": true
    },
    "kernelspec": {
      "name": "python3",
      "display_name": "Python 3"
    }
  },
  "cells": [
    {
      "cell_type": "markdown",
      "metadata": {
        "id": "view-in-github",
        "colab_type": "text"
      },
      "source": [
        "<a href=\"https://colab.research.google.com/github/water-beetle/Python_flearning/blob/master/%236_Lending_Club_Loan_%EB%8D%B0%EC%9D%B4%ED%84%B0%EC%85%8B_%EB%B6%84%EC%84%9D.ipynb\" target=\"_parent\"><img src=\"https://colab.research.google.com/assets/colab-badge.svg\" alt=\"Open In Colab\"/></a>"
      ]
    },
    {
      "cell_type": "code",
      "metadata": {
        "id": "pHchABMjXNyg",
        "colab_type": "code",
        "colab": {}
      },
      "source": [
        "import pandas as pd\n",
        "import numpy as np"
      ],
      "execution_count": 0,
      "outputs": []
    },
    {
      "cell_type": "code",
      "metadata": {
        "id": "_vaJgAnVXVLK",
        "colab_type": "code",
        "colab": {
          "base_uri": "https://localhost:8080/",
          "height": 132
        },
        "outputId": "9786dd32-7f29-4891-fd69-db99b4d7403d"
      },
      "source": [
        "from google.colab import drive\n",
        "drive.mount('/content/gdrive/')\n",
        "\n"
      ],
      "execution_count": 2,
      "outputs": [
        {
          "output_type": "stream",
          "text": [
            "Go to this URL in a browser: https://accounts.google.com/o/oauth2/auth?client_id=947318989803-6bn6qk8qdgf4n4g3pfee6491hc0brc4i.apps.googleusercontent.com&redirect_uri=urn%3aietf%3awg%3aoauth%3a2.0%3aoob&response_type=code&scope=email%20https%3a%2f%2fwww.googleapis.com%2fauth%2fdocs.test%20https%3a%2f%2fwww.googleapis.com%2fauth%2fdrive%20https%3a%2f%2fwww.googleapis.com%2fauth%2fdrive.photos.readonly%20https%3a%2f%2fwww.googleapis.com%2fauth%2fpeopleapi.readonly\n",
            "\n",
            "Enter your authorization code:\n",
            "··········\n",
            "Mounted at /content/gdrive/\n"
          ],
          "name": "stdout"
        }
      ]
    },
    {
      "cell_type": "code",
      "metadata": {
        "id": "wjr7CeeaXjeL",
        "colab_type": "code",
        "colab": {
          "base_uri": "https://localhost:8080/",
          "height": 55
        },
        "outputId": "4e276e3d-13a4-48a9-b05f-b4d03f343a56"
      },
      "source": [
        "df = pd.read_csv(\"./gdrive/My Drive/Colab_Notebooks/Python_flearning/Dataset/loan.csv\", sep=\",\")"
      ],
      "execution_count": 8,
      "outputs": [
        {
          "output_type": "stream",
          "text": [
            "/usr/local/lib/python3.6/dist-packages/IPython/core/interactiveshell.py:2718: DtypeWarning: Columns (19,55) have mixed types. Specify dtype option on import or set low_memory=False.\n",
            "  interactivity=interactivity, compiler=compiler, result=result)\n"
          ],
          "name": "stderr"
        }
      ]
    },
    {
      "cell_type": "code",
      "metadata": {
        "id": "_W-Bhn_2YMTS",
        "colab_type": "code",
        "colab": {
          "base_uri": "https://localhost:8080/",
          "height": 36
        },
        "outputId": "90c99c7f-2b79-4b50-81c7-a02f8d9cba9b"
      },
      "source": [
        "df.shape"
      ],
      "execution_count": 12,
      "outputs": [
        {
          "output_type": "execute_result",
          "data": {
            "text/plain": [
              "(887379, 74)"
            ]
          },
          "metadata": {
            "tags": []
          },
          "execution_count": 12
        }
      ]
    },
    {
      "cell_type": "code",
      "metadata": {
        "id": "6SlzMGMcYSLf",
        "colab_type": "code",
        "colab": {
          "base_uri": "https://localhost:8080/",
          "height": 397
        },
        "outputId": "913da758-f759-4f02-8fc8-e679b30b550a"
      },
      "source": [
        "df.columns"
      ],
      "execution_count": 13,
      "outputs": [
        {
          "output_type": "execute_result",
          "data": {
            "text/plain": [
              "Index(['id', 'member_id', 'loan_amnt', 'funded_amnt', 'funded_amnt_inv',\n",
              "       'term', 'int_rate', 'installment', 'grade', 'sub_grade', 'emp_title',\n",
              "       'emp_length', 'home_ownership', 'annual_inc', 'verification_status',\n",
              "       'issue_d', 'loan_status', 'pymnt_plan', 'url', 'desc', 'purpose',\n",
              "       'title', 'zip_code', 'addr_state', 'dti', 'delinq_2yrs',\n",
              "       'earliest_cr_line', 'inq_last_6mths', 'mths_since_last_delinq',\n",
              "       'mths_since_last_record', 'open_acc', 'pub_rec', 'revol_bal',\n",
              "       'revol_util', 'total_acc', 'initial_list_status', 'out_prncp',\n",
              "       'out_prncp_inv', 'total_pymnt', 'total_pymnt_inv', 'total_rec_prncp',\n",
              "       'total_rec_int', 'total_rec_late_fee', 'recoveries',\n",
              "       'collection_recovery_fee', 'last_pymnt_d', 'last_pymnt_amnt',\n",
              "       'next_pymnt_d', 'last_credit_pull_d', 'collections_12_mths_ex_med',\n",
              "       'mths_since_last_major_derog', 'policy_code', 'application_type',\n",
              "       'annual_inc_joint', 'dti_joint', 'verification_status_joint',\n",
              "       'acc_now_delinq', 'tot_coll_amt', 'tot_cur_bal', 'open_acc_6m',\n",
              "       'open_il_6m', 'open_il_12m', 'open_il_24m', 'mths_since_rcnt_il',\n",
              "       'total_bal_il', 'il_util', 'open_rv_12m', 'open_rv_24m', 'max_bal_bc',\n",
              "       'all_util', 'total_rev_hi_lim', 'inq_fi', 'total_cu_tl',\n",
              "       'inq_last_12m'],\n",
              "      dtype='object')"
            ]
          },
          "metadata": {
            "tags": []
          },
          "execution_count": 13
        }
      ]
    },
    {
      "cell_type": "code",
      "metadata": {
        "id": "NJudKfs4YXbT",
        "colab_type": "code",
        "colab": {}
      },
      "source": [
        "df2 = df[[\"loan_amnt\", \"loan_status\", \"grade\", \"int_rate\", \"term\"]]"
      ],
      "execution_count": 0,
      "outputs": []
    },
    {
      "cell_type": "code",
      "metadata": {
        "id": "6Sw4rHngZNw1",
        "colab_type": "code",
        "colab": {
          "base_uri": "https://localhost:8080/",
          "height": 204
        },
        "outputId": "01f42cc4-464b-4e19-e132-760d2a2751c9"
      },
      "source": [
        "df2.head()"
      ],
      "execution_count": 16,
      "outputs": [
        {
          "output_type": "execute_result",
          "data": {
            "text/html": [
              "<div>\n",
              "<style scoped>\n",
              "    .dataframe tbody tr th:only-of-type {\n",
              "        vertical-align: middle;\n",
              "    }\n",
              "\n",
              "    .dataframe tbody tr th {\n",
              "        vertical-align: top;\n",
              "    }\n",
              "\n",
              "    .dataframe thead th {\n",
              "        text-align: right;\n",
              "    }\n",
              "</style>\n",
              "<table border=\"1\" class=\"dataframe\">\n",
              "  <thead>\n",
              "    <tr style=\"text-align: right;\">\n",
              "      <th></th>\n",
              "      <th>loan_amnt</th>\n",
              "      <th>loan_status</th>\n",
              "      <th>grade</th>\n",
              "      <th>int_rate</th>\n",
              "      <th>term</th>\n",
              "    </tr>\n",
              "  </thead>\n",
              "  <tbody>\n",
              "    <tr>\n",
              "      <th>0</th>\n",
              "      <td>5000.0</td>\n",
              "      <td>Fully Paid</td>\n",
              "      <td>B</td>\n",
              "      <td>10.65</td>\n",
              "      <td>36 months</td>\n",
              "    </tr>\n",
              "    <tr>\n",
              "      <th>1</th>\n",
              "      <td>2500.0</td>\n",
              "      <td>Charged Off</td>\n",
              "      <td>C</td>\n",
              "      <td>15.27</td>\n",
              "      <td>60 months</td>\n",
              "    </tr>\n",
              "    <tr>\n",
              "      <th>2</th>\n",
              "      <td>2400.0</td>\n",
              "      <td>Fully Paid</td>\n",
              "      <td>C</td>\n",
              "      <td>15.96</td>\n",
              "      <td>36 months</td>\n",
              "    </tr>\n",
              "    <tr>\n",
              "      <th>3</th>\n",
              "      <td>10000.0</td>\n",
              "      <td>Fully Paid</td>\n",
              "      <td>C</td>\n",
              "      <td>13.49</td>\n",
              "      <td>36 months</td>\n",
              "    </tr>\n",
              "    <tr>\n",
              "      <th>4</th>\n",
              "      <td>3000.0</td>\n",
              "      <td>Current</td>\n",
              "      <td>B</td>\n",
              "      <td>12.69</td>\n",
              "      <td>60 months</td>\n",
              "    </tr>\n",
              "  </tbody>\n",
              "</table>\n",
              "</div>"
            ],
            "text/plain": [
              "   loan_amnt  loan_status grade  int_rate        term\n",
              "0     5000.0   Fully Paid     B     10.65   36 months\n",
              "1     2500.0  Charged Off     C     15.27   60 months\n",
              "2     2400.0   Fully Paid     C     15.96   36 months\n",
              "3    10000.0   Fully Paid     C     13.49   36 months\n",
              "4     3000.0      Current     B     12.69   60 months"
            ]
          },
          "metadata": {
            "tags": []
          },
          "execution_count": 16
        }
      ]
    },
    {
      "cell_type": "code",
      "metadata": {
        "id": "ecDFaCRZZR84",
        "colab_type": "code",
        "colab": {
          "base_uri": "https://localhost:8080/",
          "height": 204
        },
        "outputId": "83db3e1f-6340-4015-a3d5-68dd276997ca"
      },
      "source": [
        "df2.tail()"
      ],
      "execution_count": 17,
      "outputs": [
        {
          "output_type": "execute_result",
          "data": {
            "text/html": [
              "<div>\n",
              "<style scoped>\n",
              "    .dataframe tbody tr th:only-of-type {\n",
              "        vertical-align: middle;\n",
              "    }\n",
              "\n",
              "    .dataframe tbody tr th {\n",
              "        vertical-align: top;\n",
              "    }\n",
              "\n",
              "    .dataframe thead th {\n",
              "        text-align: right;\n",
              "    }\n",
              "</style>\n",
              "<table border=\"1\" class=\"dataframe\">\n",
              "  <thead>\n",
              "    <tr style=\"text-align: right;\">\n",
              "      <th></th>\n",
              "      <th>loan_amnt</th>\n",
              "      <th>loan_status</th>\n",
              "      <th>grade</th>\n",
              "      <th>int_rate</th>\n",
              "      <th>term</th>\n",
              "    </tr>\n",
              "  </thead>\n",
              "  <tbody>\n",
              "    <tr>\n",
              "      <th>887374</th>\n",
              "      <td>10000.0</td>\n",
              "      <td>Current</td>\n",
              "      <td>B</td>\n",
              "      <td>11.99</td>\n",
              "      <td>36 months</td>\n",
              "    </tr>\n",
              "    <tr>\n",
              "      <th>887375</th>\n",
              "      <td>24000.0</td>\n",
              "      <td>Current</td>\n",
              "      <td>B</td>\n",
              "      <td>11.99</td>\n",
              "      <td>36 months</td>\n",
              "    </tr>\n",
              "    <tr>\n",
              "      <th>887376</th>\n",
              "      <td>13000.0</td>\n",
              "      <td>Current</td>\n",
              "      <td>D</td>\n",
              "      <td>15.99</td>\n",
              "      <td>60 months</td>\n",
              "    </tr>\n",
              "    <tr>\n",
              "      <th>887377</th>\n",
              "      <td>12000.0</td>\n",
              "      <td>Current</td>\n",
              "      <td>E</td>\n",
              "      <td>19.99</td>\n",
              "      <td>60 months</td>\n",
              "    </tr>\n",
              "    <tr>\n",
              "      <th>887378</th>\n",
              "      <td>20000.0</td>\n",
              "      <td>Current</td>\n",
              "      <td>B</td>\n",
              "      <td>11.99</td>\n",
              "      <td>36 months</td>\n",
              "    </tr>\n",
              "  </tbody>\n",
              "</table>\n",
              "</div>"
            ],
            "text/plain": [
              "        loan_amnt loan_status grade  int_rate        term\n",
              "887374    10000.0     Current     B     11.99   36 months\n",
              "887375    24000.0     Current     B     11.99   36 months\n",
              "887376    13000.0     Current     D     15.99   60 months\n",
              "887377    12000.0     Current     E     19.99   60 months\n",
              "887378    20000.0     Current     B     11.99   36 months"
            ]
          },
          "metadata": {
            "tags": []
          },
          "execution_count": 17
        }
      ]
    },
    {
      "cell_type": "code",
      "metadata": {
        "id": "brmqmNltZYXA",
        "colab_type": "code",
        "colab": {
          "base_uri": "https://localhost:8080/",
          "height": 112
        },
        "outputId": "b4067e31-4a72-4d6d-e764-0a6b5c7044f0"
      },
      "source": [
        "df[\"loan_status\"].unique()"
      ],
      "execution_count": 18,
      "outputs": [
        {
          "output_type": "execute_result",
          "data": {
            "text/plain": [
              "array(['Fully Paid', 'Charged Off', 'Current', 'Default',\n",
              "       'Late (31-120 days)', 'In Grace Period', 'Late (16-30 days)',\n",
              "       'Does not meet the credit policy. Status:Fully Paid',\n",
              "       'Does not meet the credit policy. Status:Charged Off', 'Issued'],\n",
              "      dtype=object)"
            ]
          },
          "metadata": {
            "tags": []
          },
          "execution_count": 18
        }
      ]
    },
    {
      "cell_type": "code",
      "metadata": {
        "id": "DmrxXEoSZpM8",
        "colab_type": "code",
        "colab": {
          "base_uri": "https://localhost:8080/",
          "height": 36
        },
        "outputId": "2f74bf83-1fe5-4010-ae98-a85aa3af12f1"
      },
      "source": [
        "  df2.shape"
      ],
      "execution_count": 19,
      "outputs": [
        {
          "output_type": "execute_result",
          "data": {
            "text/plain": [
              "(887379, 5)"
            ]
          },
          "metadata": {
            "tags": []
          },
          "execution_count": 19
        }
      ]
    },
    {
      "cell_type": "code",
      "metadata": {
        "id": "aFLwJIexZre3",
        "colab_type": "code",
        "colab": {}
      },
      "source": [
        "df2 = df2.dropna()"
      ],
      "execution_count": 0,
      "outputs": []
    },
    {
      "cell_type": "code",
      "metadata": {
        "id": "BFguN7G_ZwVY",
        "colab_type": "code",
        "colab": {
          "base_uri": "https://localhost:8080/",
          "height": 36
        },
        "outputId": "b91716b9-5539-4cb8-e5fa-38346fd40f53"
      },
      "source": [
        "df2.shape"
      ],
      "execution_count": 21,
      "outputs": [
        {
          "output_type": "execute_result",
          "data": {
            "text/plain": [
              "(887379, 5)"
            ]
          },
          "metadata": {
            "tags": []
          },
          "execution_count": 21
        }
      ]
    },
    {
      "cell_type": "code",
      "metadata": {
        "id": "yaMAe2y_ZyQm",
        "colab_type": "code",
        "colab": {}
      },
      "source": [
        "term_to_loan_amnt_dict = {}\n",
        "uniq_terms = df2[\"term\"].unique()"
      ],
      "execution_count": 0,
      "outputs": []
    },
    {
      "cell_type": "code",
      "metadata": {
        "id": "vRZaWBRnaGDr",
        "colab_type": "code",
        "colab": {}
      },
      "source": [
        "for term in uniq_terms:\n",
        "  loan_amt_sum = df2.loc[df2[\"term\"] == term, \"loan_amnt\"].sum()\n",
        "  term_to_loan_amnt_dict[term] = loan_amt_sum\n"
      ],
      "execution_count": 0,
      "outputs": []
    },
    {
      "cell_type": "code",
      "metadata": {
        "id": "RkDq-OKqaRYz",
        "colab_type": "code",
        "colab": {
          "base_uri": "https://localhost:8080/",
          "height": 36
        },
        "outputId": "8dbf3648-c353-4dfc-c400-def403ca4ba4"
      },
      "source": [
        "term_to_loan_amnt_dict"
      ],
      "execution_count": 31,
      "outputs": [
        {
          "output_type": "execute_result",
          "data": {
            "text/plain": [
              "{' 36 months': 7752507375.0, ' 60 months': 5341004575.0}"
            ]
          },
          "metadata": {
            "tags": []
          },
          "execution_count": 31
        }
      ]
    },
    {
      "cell_type": "code",
      "metadata": {
        "id": "JCHwdLVybY5y",
        "colab_type": "code",
        "colab": {}
      },
      "source": [
        "term_to_loan_amnt = pd.Series(term_to_loan_amnt_dict)"
      ],
      "execution_count": 0,
      "outputs": []
    },
    {
      "cell_type": "code",
      "metadata": {
        "id": "gwqtSX2abmIi",
        "colab_type": "code",
        "colab": {
          "base_uri": "https://localhost:8080/",
          "height": 74
        },
        "outputId": "10433285-c5bf-4012-803a-30c695d5c449"
      },
      "source": [
        "term_to_loan_amnt"
      ],
      "execution_count": 33,
      "outputs": [
        {
          "output_type": "execute_result",
          "data": {
            "text/plain": [
              " 36 months    7.752507e+09\n",
              " 60 months    5.341005e+09\n",
              "dtype: float64"
            ]
          },
          "metadata": {
            "tags": []
          },
          "execution_count": 33
        }
      ]
    },
    {
      "cell_type": "code",
      "metadata": {
        "id": "umaD48p-bnWj",
        "colab_type": "code",
        "colab": {}
      },
      "source": [
        "total_status_category = df2[\"loan_status\"].unique()\n",
        "bad_status_category = total_status_category[[1,3,4,6,8]]"
      ],
      "execution_count": 0,
      "outputs": []
    },
    {
      "cell_type": "code",
      "metadata": {
        "id": "betrQSYUcLCL",
        "colab_type": "code",
        "colab": {
          "base_uri": "https://localhost:8080/",
          "height": 93
        },
        "outputId": "32734a2d-a525-455e-b952-fd14c2458177"
      },
      "source": [
        "bad_status_category"
      ],
      "execution_count": 35,
      "outputs": [
        {
          "output_type": "execute_result",
          "data": {
            "text/plain": [
              "array(['Charged Off', 'Default', 'Late (31-120 days)',\n",
              "       'Late (16-30 days)',\n",
              "       'Does not meet the credit policy. Status:Charged Off'],\n",
              "      dtype=object)"
            ]
          },
          "metadata": {
            "tags": []
          },
          "execution_count": 35
        }
      ]
    },
    {
      "cell_type": "code",
      "metadata": {
        "id": "exHtTWH6cLpp",
        "colab_type": "code",
        "colab": {}
      },
      "source": [
        "df2[\"bad_loan_status\"] =df2[\"loan_status\"].isin(bad_status_category)"
      ],
      "execution_count": 0,
      "outputs": []
    },
    {
      "cell_type": "code",
      "metadata": {
        "id": "XNyVaLKecW2V",
        "colab_type": "code",
        "colab": {
          "base_uri": "https://localhost:8080/",
          "height": 204
        },
        "outputId": "0645baad-0518-47ea-c5bb-b69321f7fd43"
      },
      "source": [
        "df2.head()"
      ],
      "execution_count": 37,
      "outputs": [
        {
          "output_type": "execute_result",
          "data": {
            "text/html": [
              "<div>\n",
              "<style scoped>\n",
              "    .dataframe tbody tr th:only-of-type {\n",
              "        vertical-align: middle;\n",
              "    }\n",
              "\n",
              "    .dataframe tbody tr th {\n",
              "        vertical-align: top;\n",
              "    }\n",
              "\n",
              "    .dataframe thead th {\n",
              "        text-align: right;\n",
              "    }\n",
              "</style>\n",
              "<table border=\"1\" class=\"dataframe\">\n",
              "  <thead>\n",
              "    <tr style=\"text-align: right;\">\n",
              "      <th></th>\n",
              "      <th>loan_amnt</th>\n",
              "      <th>loan_status</th>\n",
              "      <th>grade</th>\n",
              "      <th>int_rate</th>\n",
              "      <th>term</th>\n",
              "      <th>bad_loan_status</th>\n",
              "    </tr>\n",
              "  </thead>\n",
              "  <tbody>\n",
              "    <tr>\n",
              "      <th>0</th>\n",
              "      <td>5000.0</td>\n",
              "      <td>Fully Paid</td>\n",
              "      <td>B</td>\n",
              "      <td>10.65</td>\n",
              "      <td>36 months</td>\n",
              "      <td>False</td>\n",
              "    </tr>\n",
              "    <tr>\n",
              "      <th>1</th>\n",
              "      <td>2500.0</td>\n",
              "      <td>Charged Off</td>\n",
              "      <td>C</td>\n",
              "      <td>15.27</td>\n",
              "      <td>60 months</td>\n",
              "      <td>True</td>\n",
              "    </tr>\n",
              "    <tr>\n",
              "      <th>2</th>\n",
              "      <td>2400.0</td>\n",
              "      <td>Fully Paid</td>\n",
              "      <td>C</td>\n",
              "      <td>15.96</td>\n",
              "      <td>36 months</td>\n",
              "      <td>False</td>\n",
              "    </tr>\n",
              "    <tr>\n",
              "      <th>3</th>\n",
              "      <td>10000.0</td>\n",
              "      <td>Fully Paid</td>\n",
              "      <td>C</td>\n",
              "      <td>13.49</td>\n",
              "      <td>36 months</td>\n",
              "      <td>False</td>\n",
              "    </tr>\n",
              "    <tr>\n",
              "      <th>4</th>\n",
              "      <td>3000.0</td>\n",
              "      <td>Current</td>\n",
              "      <td>B</td>\n",
              "      <td>12.69</td>\n",
              "      <td>60 months</td>\n",
              "      <td>False</td>\n",
              "    </tr>\n",
              "  </tbody>\n",
              "</table>\n",
              "</div>"
            ],
            "text/plain": [
              "   loan_amnt  loan_status grade  int_rate        term  bad_loan_status\n",
              "0     5000.0   Fully Paid     B     10.65   36 months            False\n",
              "1     2500.0  Charged Off     C     15.27   60 months             True\n",
              "2     2400.0   Fully Paid     C     15.96   36 months            False\n",
              "3    10000.0   Fully Paid     C     13.49   36 months            False\n",
              "4     3000.0      Current     B     12.69   60 months            False"
            ]
          },
          "metadata": {
            "tags": []
          },
          "execution_count": 37
        }
      ]
    },
    {
      "cell_type": "code",
      "metadata": {
        "id": "QlmooTVTccuG",
        "colab_type": "code",
        "colab": {}
      },
      "source": [
        "bad_loan_status_to_grade = df2.loc[df2[\"bad_loan_status\"] == True, \"grade\"].value_counts()"
      ],
      "execution_count": 0,
      "outputs": []
    },
    {
      "cell_type": "code",
      "metadata": {
        "id": "ltCCMItrcsQv",
        "colab_type": "code",
        "colab": {
          "base_uri": "https://localhost:8080/",
          "height": 169
        },
        "outputId": "d720a62c-b497-42c1-8881-f7d06226ba76"
      },
      "source": [
        "bad_loan_status_to_grade"
      ],
      "execution_count": 41,
      "outputs": [
        {
          "output_type": "execute_result",
          "data": {
            "text/plain": [
              "C    17167\n",
              "D    14454\n",
              "B    12216\n",
              "E     8837\n",
              "F     4029\n",
              "A     3298\n",
              "G     1175\n",
              "Name: grade, dtype: int64"
            ]
          },
          "metadata": {
            "tags": []
          },
          "execution_count": 41
        }
      ]
    },
    {
      "cell_type": "code",
      "metadata": {
        "id": "_dHPZ2I5cwt6",
        "colab_type": "code",
        "colab": {
          "base_uri": "https://localhost:8080/",
          "height": 169
        },
        "outputId": "ad255774-86db-46f6-abc3-b8b520412a60"
      },
      "source": [
        "bad_loan_status_to_grade.sort_index()"
      ],
      "execution_count": 42,
      "outputs": [
        {
          "output_type": "execute_result",
          "data": {
            "text/plain": [
              "A     3298\n",
              "B    12216\n",
              "C    17167\n",
              "D    14454\n",
              "E     8837\n",
              "F     4029\n",
              "G     1175\n",
              "Name: grade, dtype: int64"
            ]
          },
          "metadata": {
            "tags": []
          },
          "execution_count": 42
        }
      ]
    },
    {
      "cell_type": "code",
      "metadata": {
        "id": "Xjn59BuLc9cf",
        "colab_type": "code",
        "colab": {
          "base_uri": "https://localhost:8080/",
          "height": 36
        },
        "outputId": "e998c205-31f9-499a-fcf3-c7cd9c5e866d"
      },
      "source": [
        "df2[\"loan_amnt\"].corr(df2[\"int_rate\"])"
      ],
      "execution_count": 44,
      "outputs": [
        {
          "output_type": "execute_result",
          "data": {
            "text/plain": [
              "0.14502309929883933"
            ]
          },
          "metadata": {
            "tags": []
          },
          "execution_count": 44
        }
      ]
    },
    {
      "cell_type": "code",
      "metadata": {
        "id": "5gbjdNmudJ_V",
        "colab_type": "code",
        "colab": {
          "base_uri": "https://localhost:8080/",
          "height": 169
        },
        "outputId": "d0a9affd-c791-48f6-8395-faea4bf03a19"
      },
      "source": [
        "bad_loan_status_to_grade"
      ],
      "execution_count": 45,
      "outputs": [
        {
          "output_type": "execute_result",
          "data": {
            "text/plain": [
              "C    17167\n",
              "D    14454\n",
              "B    12216\n",
              "E     8837\n",
              "F     4029\n",
              "A     3298\n",
              "G     1175\n",
              "Name: grade, dtype: int64"
            ]
          },
          "metadata": {
            "tags": []
          },
          "execution_count": 45
        }
      ]
    },
    {
      "cell_type": "code",
      "metadata": {
        "id": "b3RkjCPcdb46",
        "colab_type": "code",
        "colab": {
          "base_uri": "https://localhost:8080/",
          "height": 75
        },
        "outputId": "e6b9a17e-39da-4b07-ebee-c95988fddce9"
      },
      "source": [
        "bad_loan_status_to_grade.to_csv(\"bad_loan_status.csv\", sep=\",\")"
      ],
      "execution_count": 46,
      "outputs": [
        {
          "output_type": "stream",
          "text": [
            "/usr/local/lib/python3.6/dist-packages/ipykernel_launcher.py:1: FutureWarning: The signature of `Series.to_csv` was aligned to that of `DataFrame.to_csv`, and argument 'header' will change its default value from False to True: please pass an explicit value to suppress this warning.\n",
            "  \"\"\"Entry point for launching an IPython kernel.\n"
          ],
          "name": "stderr"
        }
      ]
    },
    {
      "cell_type": "code",
      "metadata": {
        "id": "ob9ravY2dk6C",
        "colab_type": "code",
        "colab": {}
      },
      "source": [
        ""
      ],
      "execution_count": 0,
      "outputs": []
    }
  ]
}