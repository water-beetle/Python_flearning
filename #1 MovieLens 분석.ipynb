{
  "nbformat": 4,
  "nbformat_minor": 0,
  "metadata": {
    "colab": {
      "name": "#1 MovieLens 분석.ipynb",
      "provenance": [],
      "authorship_tag": "ABX9TyP+anfbAKiNedj3yd1j0pQv",
      "include_colab_link": true
    },
    "kernelspec": {
      "name": "python3",
      "display_name": "Python 3"
    }
  },
  "cells": [
    {
      "cell_type": "markdown",
      "metadata": {
        "id": "view-in-github",
        "colab_type": "text"
      },
      "source": [
        "<a href=\"https://colab.research.google.com/github/water-beetle/Python_flearning/blob/master/_1_MovieLens_%EB%B6%84%EC%84%9D.ipynb\" target=\"_parent\"><img src=\"https://colab.research.google.com/assets/colab-badge.svg\" alt=\"Open In Colab\"/></a>"
      ]
    },
    {
      "cell_type": "code",
      "metadata": {
        "id": "ky4IjJ3is1Fk",
        "colab_type": "code",
        "colab": {}
      },
      "source": [
        "import numpy as np"
      ],
      "execution_count": 0,
      "outputs": []
    },
    {
      "cell_type": "code",
      "metadata": {
        "colab_type": "code",
        "outputId": "49690d4f-940a-4305-ec41-1de6358f7cf3",
        "id": "ALP9JbiJ3ZuH",
        "colab": {
          "base_uri": "https://localhost:8080/",
          "height": 132
        }
      },
      "source": [
        "#구글과 연동, !ls -R로 Dataset 위치 발견\n",
        "from google.colab import drive\n",
        "drive.mount('/content/gdrive/')"
      ],
      "execution_count": 0,
      "outputs": [
        {
          "output_type": "stream",
          "text": [
            "Go to this URL in a browser: https://accounts.google.com/o/oauth2/auth?client_id=947318989803-6bn6qk8qdgf4n4g3pfee6491hc0brc4i.apps.googleusercontent.com&redirect_uri=urn%3aietf%3awg%3aoauth%3a2.0%3aoob&response_type=code&scope=email%20https%3a%2f%2fwww.googleapis.com%2fauth%2fdocs.test%20https%3a%2f%2fwww.googleapis.com%2fauth%2fdrive%20https%3a%2f%2fwww.googleapis.com%2fauth%2fdrive.photos.readonly%20https%3a%2f%2fwww.googleapis.com%2fauth%2fpeopleapi.readonly\n",
            "\n",
            "Enter your authorization code:\n",
            "··········\n",
            "Mounted at /content/gdrive/\n"
          ],
          "name": "stdout"
        }
      ]
    },
    {
      "cell_type": "code",
      "metadata": {
        "id": "kIY9QFQBzy4F",
        "colab_type": "code",
        "colab": {}
      },
      "source": [
        "#loadtxt를 이용해 데이터 가져옴\n",
        "data = np.loadtxt(\"./gdrive/My Drive/Colab_Notebooks/Python_flearning/Dataset/s.dat\", delimiter=\"::\", dtype=np.int64)"
      ],
      "execution_count": 0,
      "outputs": []
    },
    {
      "cell_type": "code",
      "metadata": {
        "id": "O1_iko9Q0kd2",
        "colab_type": "code",
        "colab": {
          "base_uri": "https://localhost:8080/",
          "height": 112
        },
        "outputId": "e7c621cd-c5dd-44fb-8322-fd2e091f2ce6"
      },
      "source": [
        "data[:5, :]"
      ],
      "execution_count": 13,
      "outputs": [
        {
          "output_type": "execute_result",
          "data": {
            "text/plain": [
              "array([[        1,      1193,         5, 978300760],\n",
              "       [        1,       661,         3, 978302109],\n",
              "       [        1,       914,         3, 978301968],\n",
              "       [        1,      3408,         4, 978300275],\n",
              "       [        1,      2355,         5, 978824291]])"
            ]
          },
          "metadata": {
            "tags": []
          },
          "execution_count": 13
        }
      ]
    },
    {
      "cell_type": "code",
      "metadata": {
        "id": "9P2Oiu6m3jpi",
        "colab_type": "code",
        "colab": {
          "base_uri": "https://localhost:8080/",
          "height": 36
        },
        "outputId": "e6257491-9e13-4dcf-b724-6c564e1e554a"
      },
      "source": [
        "data.shape"
      ],
      "execution_count": 14,
      "outputs": [
        {
          "output_type": "execute_result",
          "data": {
            "text/plain": [
              "(1000209, 4)"
            ]
          },
          "metadata": {
            "tags": []
          },
          "execution_count": 14
        }
      ]
    },
    {
      "cell_type": "code",
      "metadata": {
        "id": "JL0ud_3a35-T",
        "colab_type": "code",
        "colab": {}
      },
      "source": [
        "mean_rating_total = data[:,2].mean()"
      ],
      "execution_count": 0,
      "outputs": []
    },
    {
      "cell_type": "code",
      "metadata": {
        "id": "Hp8dEYlB39WJ",
        "colab_type": "code",
        "colab": {
          "base_uri": "https://localhost:8080/",
          "height": 36
        },
        "outputId": "4fe0e645-758c-420d-d03c-d77b1e3dee65"
      },
      "source": [
        "mean_rating_total"
      ],
      "execution_count": 19,
      "outputs": [
        {
          "output_type": "execute_result",
          "data": {
            "text/plain": [
              "3.581564453029317"
            ]
          },
          "metadata": {
            "tags": []
          },
          "execution_count": 19
        }
      ]
    },
    {
      "cell_type": "code",
      "metadata": {
        "id": "fXllhdzn4IJZ",
        "colab_type": "code",
        "colab": {}
      },
      "source": [
        "user_ids = np.unique(data[:, 0])"
      ],
      "execution_count": 0,
      "outputs": []
    },
    {
      "cell_type": "code",
      "metadata": {
        "id": "lvLV0flR4c3W",
        "colab_type": "code",
        "colab": {
          "base_uri": "https://localhost:8080/",
          "height": 36
        },
        "outputId": "806f04ed-0e8a-4332-c328-5dcdb5977399"
      },
      "source": [
        "user_ids.shape"
      ],
      "execution_count": 22,
      "outputs": [
        {
          "output_type": "execute_result",
          "data": {
            "text/plain": [
              "(6040,)"
            ]
          },
          "metadata": {
            "tags": []
          },
          "execution_count": 22
        }
      ]
    },
    {
      "cell_type": "code",
      "metadata": {
        "id": "la9Cps524ewh",
        "colab_type": "code",
        "colab": {}
      },
      "source": [
        "mean_rating_by_user_list = []\n",
        "for user_id in user_ids:\n",
        "  data_for_user = data[data[:,0] == user_id, :]\n",
        "  mean_rating_for_user = data_for_user[:,2].mean()\n",
        "  mean_rating_by_user_list.append([user_id, mean_rating_for_user])"
      ],
      "execution_count": 0,
      "outputs": []
    },
    {
      "cell_type": "code",
      "metadata": {
        "id": "DkjSC-t04vT5",
        "colab_type": "code",
        "colab": {
          "base_uri": "https://localhost:8080/",
          "height": 112
        },
        "outputId": "f05fe5e3-b7aa-446a-dbef-f468ba91f7fb"
      },
      "source": [
        "mean_rating_by_user_list[:5]"
      ],
      "execution_count": 29,
      "outputs": [
        {
          "output_type": "execute_result",
          "data": {
            "text/plain": [
              "[[1, 4.188679245283019],\n",
              " [2, 3.7131782945736433],\n",
              " [3, 3.9019607843137254],\n",
              " [4, 4.190476190476191],\n",
              " [5, 3.1464646464646466]]"
            ]
          },
          "metadata": {
            "tags": []
          },
          "execution_count": 29
        }
      ]
    },
    {
      "cell_type": "code",
      "metadata": {
        "id": "81ZS6_k76trO",
        "colab_type": "code",
        "colab": {}
      },
      "source": [
        "mean_rating_by_user_array = np.array(mean_rating_by_user_list, dtype=np.float32)"
      ],
      "execution_count": 0,
      "outputs": []
    },
    {
      "cell_type": "code",
      "metadata": {
        "id": "-XNGHI6m6-1J",
        "colab_type": "code",
        "colab": {
          "base_uri": "https://localhost:8080/",
          "height": 36
        },
        "outputId": "77394de9-b8bd-417e-d829-e8521f4ad164"
      },
      "source": [
        "mean_rating_by_user_array.shape"
      ],
      "execution_count": 31,
      "outputs": [
        {
          "output_type": "execute_result",
          "data": {
            "text/plain": [
              "(6040, 2)"
            ]
          },
          "metadata": {
            "tags": []
          },
          "execution_count": 31
        }
      ]
    },
    {
      "cell_type": "code",
      "metadata": {
        "id": "zgoWTLFM7DBZ",
        "colab_type": "code",
        "colab": {}
      },
      "source": [
        "np.savetxt(\"mean_rating_by_user.csv\", mean_rating_by_user_array, fmt=\"%.3f\", delimiter=\",\")"
      ],
      "execution_count": 0,
      "outputs": []
    }
  ]
}
