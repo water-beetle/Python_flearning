{
  "nbformat": 4,
  "nbformat_minor": 0,
  "metadata": {
    "colab": {
      "name": "#17 pandas 데이터 그룹화를 이용한 2016 US Election.ipynb",
      "provenance": [],
      "authorship_tag": "ABX9TyMvCZhFnt0Y+NH67MDaAzLW",
      "include_colab_link": true
    },
    "kernelspec": {
      "name": "python3",
      "display_name": "Python 3"
    }
  },
  "cells": [
    {
      "cell_type": "markdown",
      "metadata": {
        "id": "view-in-github",
        "colab_type": "text"
      },
      "source": [
        "<a href=\"https://colab.research.google.com/github/water-beetle/Python_flearning/blob/master/%2317%20pandas_%EB%8D%B0%EC%9D%B4%ED%84%B0_%EA%B7%B8%EB%A3%B9%ED%99%94%EB%A5%BC_%EC%9D%B4%EC%9A%A9%ED%95%9C_2016_US_Election.ipynb\" target=\"_parent\"><img src=\"https://colab.research.google.com/assets/colab-badge.svg\" alt=\"Open In Colab\"/></a>"
      ]
    },
    {
      "cell_type": "code",
      "metadata": {
        "id": "J7JTZOuFl18j",
        "colab_type": "code",
        "colab": {}
      },
      "source": [
        "%matplotlib inline\n",
        "import pandas as pd\n",
        "import numpy as np\n",
        "import matplotlib.pyplot as plt\n",
        "import matplotlib"
      ],
      "execution_count": 0,
      "outputs": []
    },
    {
      "cell_type": "code",
      "metadata": {
        "id": "1mU31z6smzyZ",
        "colab_type": "code",
        "colab": {
          "base_uri": "https://localhost:8080/",
          "height": 132
        },
        "outputId": "4276d748-e0f3-41cb-ecd3-5dd14325f21f"
      },
      "source": [
        "from google.colab import drive\n",
        "drive.mount('/content/gdrive/')"
      ],
      "execution_count": 2,
      "outputs": [
        {
          "output_type": "stream",
          "text": [
            "Go to this URL in a browser: https://accounts.google.com/o/oauth2/auth?client_id=947318989803-6bn6qk8qdgf4n4g3pfee6491hc0brc4i.apps.googleusercontent.com&redirect_uri=urn%3aietf%3awg%3aoauth%3a2.0%3aoob&response_type=code&scope=email%20https%3a%2f%2fwww.googleapis.com%2fauth%2fdocs.test%20https%3a%2f%2fwww.googleapis.com%2fauth%2fdrive%20https%3a%2f%2fwww.googleapis.com%2fauth%2fdrive.photos.readonly%20https%3a%2f%2fwww.googleapis.com%2fauth%2fpeopleapi.readonly\n",
            "\n",
            "Enter your authorization code:\n",
            "··········\n",
            "Mounted at /content/gdrive/\n"
          ],
          "name": "stdout"
        }
      ]
    },
    {
      "cell_type": "code",
      "metadata": {
        "id": "IVqKDtwfntqa",
        "colab_type": "code",
        "colab": {}
      },
      "source": [
        "primary = pd.read_csv(\"./gdrive/My Drive/Colab_Notebooks/Python_flearning/Dataset/primary_results.csv\", sep=\",\")\n",
        "counties = pd.read_csv(\"./gdrive/My Drive/Colab_Notebooks/Python_flearning/Dataset/county_facts.csv\", sep=\",\")"
      ],
      "execution_count": 0,
      "outputs": []
    },
    {
      "cell_type": "code",
      "metadata": {
        "id": "hoy6_S8RoGnU",
        "colab_type": "code",
        "colab": {
          "base_uri": "https://localhost:8080/",
          "height": 204
        },
        "outputId": "9f9dc93b-9d73-469b-d0e5-ab45c06026d8"
      },
      "source": [
        "primary.head()"
      ],
      "execution_count": 5,
      "outputs": [
        {
          "output_type": "execute_result",
          "data": {
            "text/html": [
              "<div>\n",
              "<style scoped>\n",
              "    .dataframe tbody tr th:only-of-type {\n",
              "        vertical-align: middle;\n",
              "    }\n",
              "\n",
              "    .dataframe tbody tr th {\n",
              "        vertical-align: top;\n",
              "    }\n",
              "\n",
              "    .dataframe thead th {\n",
              "        text-align: right;\n",
              "    }\n",
              "</style>\n",
              "<table border=\"1\" class=\"dataframe\">\n",
              "  <thead>\n",
              "    <tr style=\"text-align: right;\">\n",
              "      <th></th>\n",
              "      <th>state</th>\n",
              "      <th>state_abbreviation</th>\n",
              "      <th>county</th>\n",
              "      <th>fips</th>\n",
              "      <th>party</th>\n",
              "      <th>candidate</th>\n",
              "      <th>votes</th>\n",
              "      <th>fraction_votes</th>\n",
              "    </tr>\n",
              "  </thead>\n",
              "  <tbody>\n",
              "    <tr>\n",
              "      <th>0</th>\n",
              "      <td>Alabama</td>\n",
              "      <td>AL</td>\n",
              "      <td>Autauga</td>\n",
              "      <td>1001.0</td>\n",
              "      <td>Democrat</td>\n",
              "      <td>Bernie Sanders</td>\n",
              "      <td>544</td>\n",
              "      <td>0.182</td>\n",
              "    </tr>\n",
              "    <tr>\n",
              "      <th>1</th>\n",
              "      <td>Alabama</td>\n",
              "      <td>AL</td>\n",
              "      <td>Autauga</td>\n",
              "      <td>1001.0</td>\n",
              "      <td>Democrat</td>\n",
              "      <td>Hillary Clinton</td>\n",
              "      <td>2387</td>\n",
              "      <td>0.800</td>\n",
              "    </tr>\n",
              "    <tr>\n",
              "      <th>2</th>\n",
              "      <td>Alabama</td>\n",
              "      <td>AL</td>\n",
              "      <td>Baldwin</td>\n",
              "      <td>1003.0</td>\n",
              "      <td>Democrat</td>\n",
              "      <td>Bernie Sanders</td>\n",
              "      <td>2694</td>\n",
              "      <td>0.329</td>\n",
              "    </tr>\n",
              "    <tr>\n",
              "      <th>3</th>\n",
              "      <td>Alabama</td>\n",
              "      <td>AL</td>\n",
              "      <td>Baldwin</td>\n",
              "      <td>1003.0</td>\n",
              "      <td>Democrat</td>\n",
              "      <td>Hillary Clinton</td>\n",
              "      <td>5290</td>\n",
              "      <td>0.647</td>\n",
              "    </tr>\n",
              "    <tr>\n",
              "      <th>4</th>\n",
              "      <td>Alabama</td>\n",
              "      <td>AL</td>\n",
              "      <td>Barbour</td>\n",
              "      <td>1005.0</td>\n",
              "      <td>Democrat</td>\n",
              "      <td>Bernie Sanders</td>\n",
              "      <td>222</td>\n",
              "      <td>0.078</td>\n",
              "    </tr>\n",
              "  </tbody>\n",
              "</table>\n",
              "</div>"
            ],
            "text/plain": [
              "     state state_abbreviation   county  ...        candidate votes fraction_votes\n",
              "0  Alabama                 AL  Autauga  ...   Bernie Sanders   544          0.182\n",
              "1  Alabama                 AL  Autauga  ...  Hillary Clinton  2387          0.800\n",
              "2  Alabama                 AL  Baldwin  ...   Bernie Sanders  2694          0.329\n",
              "3  Alabama                 AL  Baldwin  ...  Hillary Clinton  5290          0.647\n",
              "4  Alabama                 AL  Barbour  ...   Bernie Sanders   222          0.078\n",
              "\n",
              "[5 rows x 8 columns]"
            ]
          },
          "metadata": {
            "tags": []
          },
          "execution_count": 5
        }
      ]
    },
    {
      "cell_type": "code",
      "metadata": {
        "id": "ZVP2-nlSoJin",
        "colab_type": "code",
        "colab": {
          "base_uri": "https://localhost:8080/",
          "height": 292
        },
        "outputId": "d889b5b9-32ed-485a-97e7-8d886efb1657"
      },
      "source": [
        "counties.head()"
      ],
      "execution_count": 6,
      "outputs": [
        {
          "output_type": "execute_result",
          "data": {
            "text/html": [
              "<div>\n",
              "<style scoped>\n",
              "    .dataframe tbody tr th:only-of-type {\n",
              "        vertical-align: middle;\n",
              "    }\n",
              "\n",
              "    .dataframe tbody tr th {\n",
              "        vertical-align: top;\n",
              "    }\n",
              "\n",
              "    .dataframe thead th {\n",
              "        text-align: right;\n",
              "    }\n",
              "</style>\n",
              "<table border=\"1\" class=\"dataframe\">\n",
              "  <thead>\n",
              "    <tr style=\"text-align: right;\">\n",
              "      <th></th>\n",
              "      <th>fips</th>\n",
              "      <th>area_name</th>\n",
              "      <th>state_abbreviation</th>\n",
              "      <th>PST045214</th>\n",
              "      <th>PST040210</th>\n",
              "      <th>PST120214</th>\n",
              "      <th>POP010210</th>\n",
              "      <th>AGE135214</th>\n",
              "      <th>AGE295214</th>\n",
              "      <th>AGE775214</th>\n",
              "      <th>SEX255214</th>\n",
              "      <th>RHI125214</th>\n",
              "      <th>RHI225214</th>\n",
              "      <th>RHI325214</th>\n",
              "      <th>RHI425214</th>\n",
              "      <th>RHI525214</th>\n",
              "      <th>RHI625214</th>\n",
              "      <th>RHI725214</th>\n",
              "      <th>RHI825214</th>\n",
              "      <th>POP715213</th>\n",
              "      <th>POP645213</th>\n",
              "      <th>POP815213</th>\n",
              "      <th>EDU635213</th>\n",
              "      <th>EDU685213</th>\n",
              "      <th>VET605213</th>\n",
              "      <th>LFE305213</th>\n",
              "      <th>HSG010214</th>\n",
              "      <th>HSG445213</th>\n",
              "      <th>HSG096213</th>\n",
              "      <th>HSG495213</th>\n",
              "      <th>HSD410213</th>\n",
              "      <th>HSD310213</th>\n",
              "      <th>INC910213</th>\n",
              "      <th>INC110213</th>\n",
              "      <th>PVY020213</th>\n",
              "      <th>BZA010213</th>\n",
              "      <th>BZA110213</th>\n",
              "      <th>BZA115213</th>\n",
              "      <th>NES010213</th>\n",
              "      <th>SBO001207</th>\n",
              "      <th>SBO315207</th>\n",
              "      <th>SBO115207</th>\n",
              "      <th>SBO215207</th>\n",
              "      <th>SBO515207</th>\n",
              "      <th>SBO415207</th>\n",
              "      <th>SBO015207</th>\n",
              "      <th>MAN450207</th>\n",
              "      <th>WTN220207</th>\n",
              "      <th>RTN130207</th>\n",
              "      <th>RTN131207</th>\n",
              "      <th>AFN120207</th>\n",
              "      <th>BPS030214</th>\n",
              "      <th>LND110210</th>\n",
              "      <th>POP060210</th>\n",
              "    </tr>\n",
              "  </thead>\n",
              "  <tbody>\n",
              "    <tr>\n",
              "      <th>0</th>\n",
              "      <td>0</td>\n",
              "      <td>United States</td>\n",
              "      <td>NaN</td>\n",
              "      <td>318857056</td>\n",
              "      <td>308758105</td>\n",
              "      <td>3.3</td>\n",
              "      <td>308745538</td>\n",
              "      <td>6.2</td>\n",
              "      <td>23.1</td>\n",
              "      <td>14.5</td>\n",
              "      <td>50.8</td>\n",
              "      <td>77.4</td>\n",
              "      <td>13.2</td>\n",
              "      <td>1.2</td>\n",
              "      <td>5.4</td>\n",
              "      <td>0.2</td>\n",
              "      <td>2.5</td>\n",
              "      <td>17.4</td>\n",
              "      <td>62.1</td>\n",
              "      <td>84.9</td>\n",
              "      <td>12.9</td>\n",
              "      <td>20.7</td>\n",
              "      <td>86.0</td>\n",
              "      <td>28.8</td>\n",
              "      <td>21263779</td>\n",
              "      <td>25.5</td>\n",
              "      <td>133957180</td>\n",
              "      <td>64.9</td>\n",
              "      <td>26.0</td>\n",
              "      <td>176700</td>\n",
              "      <td>115610216</td>\n",
              "      <td>2.63</td>\n",
              "      <td>28155</td>\n",
              "      <td>53046</td>\n",
              "      <td>15.4</td>\n",
              "      <td>7488353</td>\n",
              "      <td>118266253</td>\n",
              "      <td>2.0</td>\n",
              "      <td>23005620</td>\n",
              "      <td>27092908</td>\n",
              "      <td>7.1</td>\n",
              "      <td>0.9</td>\n",
              "      <td>5.7</td>\n",
              "      <td>0.1</td>\n",
              "      <td>8.3</td>\n",
              "      <td>28.8</td>\n",
              "      <td>5319456312</td>\n",
              "      <td>4174286516</td>\n",
              "      <td>3917663456</td>\n",
              "      <td>12990</td>\n",
              "      <td>613795732</td>\n",
              "      <td>1046363</td>\n",
              "      <td>3531905.43</td>\n",
              "      <td>87.4</td>\n",
              "    </tr>\n",
              "    <tr>\n",
              "      <th>1</th>\n",
              "      <td>1000</td>\n",
              "      <td>Alabama</td>\n",
              "      <td>NaN</td>\n",
              "      <td>4849377</td>\n",
              "      <td>4780127</td>\n",
              "      <td>1.4</td>\n",
              "      <td>4779736</td>\n",
              "      <td>6.1</td>\n",
              "      <td>22.8</td>\n",
              "      <td>15.3</td>\n",
              "      <td>51.5</td>\n",
              "      <td>69.7</td>\n",
              "      <td>26.7</td>\n",
              "      <td>0.7</td>\n",
              "      <td>1.3</td>\n",
              "      <td>0.1</td>\n",
              "      <td>1.5</td>\n",
              "      <td>4.1</td>\n",
              "      <td>66.2</td>\n",
              "      <td>85.0</td>\n",
              "      <td>3.5</td>\n",
              "      <td>5.2</td>\n",
              "      <td>83.1</td>\n",
              "      <td>22.6</td>\n",
              "      <td>388865</td>\n",
              "      <td>24.2</td>\n",
              "      <td>2207912</td>\n",
              "      <td>69.7</td>\n",
              "      <td>15.9</td>\n",
              "      <td>122500</td>\n",
              "      <td>1838683</td>\n",
              "      <td>2.55</td>\n",
              "      <td>23680</td>\n",
              "      <td>43253</td>\n",
              "      <td>18.6</td>\n",
              "      <td>97578</td>\n",
              "      <td>1603100</td>\n",
              "      <td>1.1</td>\n",
              "      <td>311578</td>\n",
              "      <td>382350</td>\n",
              "      <td>14.8</td>\n",
              "      <td>0.8</td>\n",
              "      <td>1.8</td>\n",
              "      <td>0.1</td>\n",
              "      <td>1.2</td>\n",
              "      <td>28.1</td>\n",
              "      <td>112858843</td>\n",
              "      <td>52252752</td>\n",
              "      <td>57344851</td>\n",
              "      <td>12364</td>\n",
              "      <td>6426342</td>\n",
              "      <td>13369</td>\n",
              "      <td>50645.33</td>\n",
              "      <td>94.4</td>\n",
              "    </tr>\n",
              "    <tr>\n",
              "      <th>2</th>\n",
              "      <td>1001</td>\n",
              "      <td>Autauga County</td>\n",
              "      <td>AL</td>\n",
              "      <td>55395</td>\n",
              "      <td>54571</td>\n",
              "      <td>1.5</td>\n",
              "      <td>54571</td>\n",
              "      <td>6.0</td>\n",
              "      <td>25.2</td>\n",
              "      <td>13.8</td>\n",
              "      <td>51.4</td>\n",
              "      <td>77.9</td>\n",
              "      <td>18.7</td>\n",
              "      <td>0.5</td>\n",
              "      <td>1.1</td>\n",
              "      <td>0.1</td>\n",
              "      <td>1.8</td>\n",
              "      <td>2.7</td>\n",
              "      <td>75.6</td>\n",
              "      <td>85.0</td>\n",
              "      <td>1.6</td>\n",
              "      <td>3.5</td>\n",
              "      <td>85.6</td>\n",
              "      <td>20.9</td>\n",
              "      <td>5922</td>\n",
              "      <td>26.2</td>\n",
              "      <td>22751</td>\n",
              "      <td>76.8</td>\n",
              "      <td>8.3</td>\n",
              "      <td>136200</td>\n",
              "      <td>20071</td>\n",
              "      <td>2.71</td>\n",
              "      <td>24571</td>\n",
              "      <td>53682</td>\n",
              "      <td>12.1</td>\n",
              "      <td>817</td>\n",
              "      <td>10120</td>\n",
              "      <td>2.1</td>\n",
              "      <td>2947</td>\n",
              "      <td>4067</td>\n",
              "      <td>15.2</td>\n",
              "      <td>0.0</td>\n",
              "      <td>1.3</td>\n",
              "      <td>0.0</td>\n",
              "      <td>0.7</td>\n",
              "      <td>31.7</td>\n",
              "      <td>0</td>\n",
              "      <td>0</td>\n",
              "      <td>598175</td>\n",
              "      <td>12003</td>\n",
              "      <td>88157</td>\n",
              "      <td>131</td>\n",
              "      <td>594.44</td>\n",
              "      <td>91.8</td>\n",
              "    </tr>\n",
              "    <tr>\n",
              "      <th>3</th>\n",
              "      <td>1003</td>\n",
              "      <td>Baldwin County</td>\n",
              "      <td>AL</td>\n",
              "      <td>200111</td>\n",
              "      <td>182265</td>\n",
              "      <td>9.8</td>\n",
              "      <td>182265</td>\n",
              "      <td>5.6</td>\n",
              "      <td>22.2</td>\n",
              "      <td>18.7</td>\n",
              "      <td>51.2</td>\n",
              "      <td>87.1</td>\n",
              "      <td>9.6</td>\n",
              "      <td>0.7</td>\n",
              "      <td>0.9</td>\n",
              "      <td>0.1</td>\n",
              "      <td>1.6</td>\n",
              "      <td>4.6</td>\n",
              "      <td>83.0</td>\n",
              "      <td>82.1</td>\n",
              "      <td>3.6</td>\n",
              "      <td>5.5</td>\n",
              "      <td>89.1</td>\n",
              "      <td>27.7</td>\n",
              "      <td>19346</td>\n",
              "      <td>25.9</td>\n",
              "      <td>107374</td>\n",
              "      <td>72.6</td>\n",
              "      <td>24.4</td>\n",
              "      <td>168600</td>\n",
              "      <td>73283</td>\n",
              "      <td>2.52</td>\n",
              "      <td>26766</td>\n",
              "      <td>50221</td>\n",
              "      <td>13.9</td>\n",
              "      <td>4871</td>\n",
              "      <td>54988</td>\n",
              "      <td>3.7</td>\n",
              "      <td>16508</td>\n",
              "      <td>19035</td>\n",
              "      <td>2.7</td>\n",
              "      <td>0.4</td>\n",
              "      <td>1.0</td>\n",
              "      <td>0.0</td>\n",
              "      <td>1.3</td>\n",
              "      <td>27.3</td>\n",
              "      <td>1410273</td>\n",
              "      <td>0</td>\n",
              "      <td>2966489</td>\n",
              "      <td>17166</td>\n",
              "      <td>436955</td>\n",
              "      <td>1384</td>\n",
              "      <td>1589.78</td>\n",
              "      <td>114.6</td>\n",
              "    </tr>\n",
              "    <tr>\n",
              "      <th>4</th>\n",
              "      <td>1005</td>\n",
              "      <td>Barbour County</td>\n",
              "      <td>AL</td>\n",
              "      <td>26887</td>\n",
              "      <td>27457</td>\n",
              "      <td>-2.1</td>\n",
              "      <td>27457</td>\n",
              "      <td>5.7</td>\n",
              "      <td>21.2</td>\n",
              "      <td>16.5</td>\n",
              "      <td>46.6</td>\n",
              "      <td>50.2</td>\n",
              "      <td>47.6</td>\n",
              "      <td>0.6</td>\n",
              "      <td>0.5</td>\n",
              "      <td>0.2</td>\n",
              "      <td>0.9</td>\n",
              "      <td>4.5</td>\n",
              "      <td>46.6</td>\n",
              "      <td>84.8</td>\n",
              "      <td>2.9</td>\n",
              "      <td>5.0</td>\n",
              "      <td>73.7</td>\n",
              "      <td>13.4</td>\n",
              "      <td>2120</td>\n",
              "      <td>24.6</td>\n",
              "      <td>11799</td>\n",
              "      <td>67.7</td>\n",
              "      <td>10.6</td>\n",
              "      <td>89200</td>\n",
              "      <td>9200</td>\n",
              "      <td>2.66</td>\n",
              "      <td>16829</td>\n",
              "      <td>32911</td>\n",
              "      <td>26.7</td>\n",
              "      <td>464</td>\n",
              "      <td>6611</td>\n",
              "      <td>-5.6</td>\n",
              "      <td>1546</td>\n",
              "      <td>1667</td>\n",
              "      <td>0.0</td>\n",
              "      <td>0.0</td>\n",
              "      <td>0.0</td>\n",
              "      <td>0.0</td>\n",
              "      <td>0.0</td>\n",
              "      <td>27.0</td>\n",
              "      <td>0</td>\n",
              "      <td>0</td>\n",
              "      <td>188337</td>\n",
              "      <td>6334</td>\n",
              "      <td>0</td>\n",
              "      <td>8</td>\n",
              "      <td>884.88</td>\n",
              "      <td>31.0</td>\n",
              "    </tr>\n",
              "  </tbody>\n",
              "</table>\n",
              "</div>"
            ],
            "text/plain": [
              "   fips       area_name state_abbreviation  ...  BPS030214   LND110210  POP060210\n",
              "0     0   United States                NaN  ...    1046363  3531905.43       87.4\n",
              "1  1000         Alabama                NaN  ...      13369    50645.33       94.4\n",
              "2  1001  Autauga County                 AL  ...        131      594.44       91.8\n",
              "3  1003  Baldwin County                 AL  ...       1384     1589.78      114.6\n",
              "4  1005  Barbour County                 AL  ...          8      884.88       31.0\n",
              "\n",
              "[5 rows x 54 columns]"
            ]
          },
          "metadata": {
            "tags": []
          },
          "execution_count": 6
        }
      ]
    },
    {
      "cell_type": "code",
      "metadata": {
        "id": "Re7n21rYoNrp",
        "colab_type": "code",
        "colab": {
          "base_uri": "https://localhost:8080/",
          "height": 74
        },
        "outputId": "776aef22-fbb7-4119-a5e3-1541a839f9a4"
      },
      "source": [
        "primary.columns"
      ],
      "execution_count": 7,
      "outputs": [
        {
          "output_type": "execute_result",
          "data": {
            "text/plain": [
              "Index(['state', 'state_abbreviation', 'county', 'fips', 'party', 'candidate',\n",
              "       'votes', 'fraction_votes'],\n",
              "      dtype='object')"
            ]
          },
          "metadata": {
            "tags": []
          },
          "execution_count": 7
        }
      ]
    },
    {
      "cell_type": "code",
      "metadata": {
        "id": "vEkJFqrJod9V",
        "colab_type": "code",
        "colab": {
          "base_uri": "https://localhost:8080/",
          "height": 36
        },
        "outputId": "addb5590-3a42-4ea8-b6b9-819d61d16f9d"
      },
      "source": [
        "primary.shape"
      ],
      "execution_count": 8,
      "outputs": [
        {
          "output_type": "execute_result",
          "data": {
            "text/plain": [
              "(24611, 8)"
            ]
          },
          "metadata": {
            "tags": []
          },
          "execution_count": 8
        }
      ]
    },
    {
      "cell_type": "code",
      "metadata": {
        "id": "e48Fu85NoenT",
        "colab_type": "code",
        "colab": {
          "base_uri": "https://localhost:8080/",
          "height": 245
        },
        "outputId": "ebb9dc6e-3ee3-40f4-bcf0-b9ad9cc3b789"
      },
      "source": [
        "counties.columns"
      ],
      "execution_count": 9,
      "outputs": [
        {
          "output_type": "execute_result",
          "data": {
            "text/plain": [
              "Index(['fips', 'area_name', 'state_abbreviation', 'PST045214', 'PST040210',\n",
              "       'PST120214', 'POP010210', 'AGE135214', 'AGE295214', 'AGE775214',\n",
              "       'SEX255214', 'RHI125214', 'RHI225214', 'RHI325214', 'RHI425214',\n",
              "       'RHI525214', 'RHI625214', 'RHI725214', 'RHI825214', 'POP715213',\n",
              "       'POP645213', 'POP815213', 'EDU635213', 'EDU685213', 'VET605213',\n",
              "       'LFE305213', 'HSG010214', 'HSG445213', 'HSG096213', 'HSG495213',\n",
              "       'HSD410213', 'HSD310213', 'INC910213', 'INC110213', 'PVY020213',\n",
              "       'BZA010213', 'BZA110213', 'BZA115213', 'NES010213', 'SBO001207',\n",
              "       'SBO315207', 'SBO115207', 'SBO215207', 'SBO515207', 'SBO415207',\n",
              "       'SBO015207', 'MAN450207', 'WTN220207', 'RTN130207', 'RTN131207',\n",
              "       'AFN120207', 'BPS030214', 'LND110210', 'POP060210'],\n",
              "      dtype='object')"
            ]
          },
          "metadata": {
            "tags": []
          },
          "execution_count": 9
        }
      ]
    },
    {
      "cell_type": "code",
      "metadata": {
        "id": "BivwQEpqoffj",
        "colab_type": "code",
        "colab": {
          "base_uri": "https://localhost:8080/",
          "height": 36
        },
        "outputId": "33e0ad81-1db0-4e03-f696-13f67936037f"
      },
      "source": [
        "counties.shape"
      ],
      "execution_count": 10,
      "outputs": [
        {
          "output_type": "execute_result",
          "data": {
            "text/plain": [
              "(3195, 54)"
            ]
          },
          "metadata": {
            "tags": []
          },
          "execution_count": 10
        }
      ]
    },
    {
      "cell_type": "markdown",
      "metadata": {
        "id": "saq2Hfwkoiqw",
        "colab_type": "text"
      },
      "source": [
        "**각 후보의 전체지역에서의 득표수**"
      ]
    },
    {
      "cell_type": "code",
      "metadata": {
        "id": "s-2fif-dolMr",
        "colab_type": "code",
        "colab": {
          "base_uri": "https://localhost:8080/",
          "height": 204
        },
        "outputId": "16df5375-641b-4c2a-8665-9e4235c7cd1d"
      },
      "source": [
        "primary.head()"
      ],
      "execution_count": 11,
      "outputs": [
        {
          "output_type": "execute_result",
          "data": {
            "text/html": [
              "<div>\n",
              "<style scoped>\n",
              "    .dataframe tbody tr th:only-of-type {\n",
              "        vertical-align: middle;\n",
              "    }\n",
              "\n",
              "    .dataframe tbody tr th {\n",
              "        vertical-align: top;\n",
              "    }\n",
              "\n",
              "    .dataframe thead th {\n",
              "        text-align: right;\n",
              "    }\n",
              "</style>\n",
              "<table border=\"1\" class=\"dataframe\">\n",
              "  <thead>\n",
              "    <tr style=\"text-align: right;\">\n",
              "      <th></th>\n",
              "      <th>state</th>\n",
              "      <th>state_abbreviation</th>\n",
              "      <th>county</th>\n",
              "      <th>fips</th>\n",
              "      <th>party</th>\n",
              "      <th>candidate</th>\n",
              "      <th>votes</th>\n",
              "      <th>fraction_votes</th>\n",
              "    </tr>\n",
              "  </thead>\n",
              "  <tbody>\n",
              "    <tr>\n",
              "      <th>0</th>\n",
              "      <td>Alabama</td>\n",
              "      <td>AL</td>\n",
              "      <td>Autauga</td>\n",
              "      <td>1001.0</td>\n",
              "      <td>Democrat</td>\n",
              "      <td>Bernie Sanders</td>\n",
              "      <td>544</td>\n",
              "      <td>0.182</td>\n",
              "    </tr>\n",
              "    <tr>\n",
              "      <th>1</th>\n",
              "      <td>Alabama</td>\n",
              "      <td>AL</td>\n",
              "      <td>Autauga</td>\n",
              "      <td>1001.0</td>\n",
              "      <td>Democrat</td>\n",
              "      <td>Hillary Clinton</td>\n",
              "      <td>2387</td>\n",
              "      <td>0.800</td>\n",
              "    </tr>\n",
              "    <tr>\n",
              "      <th>2</th>\n",
              "      <td>Alabama</td>\n",
              "      <td>AL</td>\n",
              "      <td>Baldwin</td>\n",
              "      <td>1003.0</td>\n",
              "      <td>Democrat</td>\n",
              "      <td>Bernie Sanders</td>\n",
              "      <td>2694</td>\n",
              "      <td>0.329</td>\n",
              "    </tr>\n",
              "    <tr>\n",
              "      <th>3</th>\n",
              "      <td>Alabama</td>\n",
              "      <td>AL</td>\n",
              "      <td>Baldwin</td>\n",
              "      <td>1003.0</td>\n",
              "      <td>Democrat</td>\n",
              "      <td>Hillary Clinton</td>\n",
              "      <td>5290</td>\n",
              "      <td>0.647</td>\n",
              "    </tr>\n",
              "    <tr>\n",
              "      <th>4</th>\n",
              "      <td>Alabama</td>\n",
              "      <td>AL</td>\n",
              "      <td>Barbour</td>\n",
              "      <td>1005.0</td>\n",
              "      <td>Democrat</td>\n",
              "      <td>Bernie Sanders</td>\n",
              "      <td>222</td>\n",
              "      <td>0.078</td>\n",
              "    </tr>\n",
              "  </tbody>\n",
              "</table>\n",
              "</div>"
            ],
            "text/plain": [
              "     state state_abbreviation   county  ...        candidate votes fraction_votes\n",
              "0  Alabama                 AL  Autauga  ...   Bernie Sanders   544          0.182\n",
              "1  Alabama                 AL  Autauga  ...  Hillary Clinton  2387          0.800\n",
              "2  Alabama                 AL  Baldwin  ...   Bernie Sanders  2694          0.329\n",
              "3  Alabama                 AL  Baldwin  ...  Hillary Clinton  5290          0.647\n",
              "4  Alabama                 AL  Barbour  ...   Bernie Sanders   222          0.078\n",
              "\n",
              "[5 rows x 8 columns]"
            ]
          },
          "metadata": {
            "tags": []
          },
          "execution_count": 11
        }
      ]
    },
    {
      "cell_type": "code",
      "metadata": {
        "id": "pKh_oNWEopEL",
        "colab_type": "code",
        "colab": {
          "base_uri": "https://localhost:8080/",
          "height": 112
        },
        "outputId": "9bb53a55-a83d-4647-85eb-83444c3d2cf5"
      },
      "source": [
        "primary[\"candidate\"].unique()"
      ],
      "execution_count": 12,
      "outputs": [
        {
          "output_type": "execute_result",
          "data": {
            "text/plain": [
              "array(['Bernie Sanders', 'Hillary Clinton', 'Ben Carson', 'Donald Trump',\n",
              "       'John Kasich', 'Marco Rubio', 'Ted Cruz', ' Uncommitted',\n",
              "       \"Martin O'Malley\", 'Carly Fiorina', 'Chris Christie', 'Jeb Bush',\n",
              "       'Mike Huckabee', 'Rand Paul', 'Rick Santorum', ' No Preference'],\n",
              "      dtype=object)"
            ]
          },
          "metadata": {
            "tags": []
          },
          "execution_count": 12
        }
      ]
    },
    {
      "cell_type": "code",
      "metadata": {
        "id": "_qnhR_PHox79",
        "colab_type": "code",
        "colab": {}
      },
      "source": [
        "candidate_to_vites_s = primary.groupby(\"candidate\")[\"votes\"].sum().sort_values()"
      ],
      "execution_count": 0,
      "outputs": []
    },
    {
      "cell_type": "code",
      "metadata": {
        "id": "zvi6gw33o7hQ",
        "colab_type": "code",
        "colab": {
          "base_uri": "https://localhost:8080/",
          "height": 296
        },
        "outputId": "5cc519c5-0198-47cd-8f64-c66297e5a94c"
      },
      "source": [
        "candidate_to_vites_s.plot(kind = \"barh\", fontsize = 8)"
      ],
      "execution_count": 20,
      "outputs": [
        {
          "output_type": "execute_result",
          "data": {
            "text/plain": [
              "<matplotlib.axes._subplots.AxesSubplot at 0x7f16529c8f60>"
            ]
          },
          "metadata": {
            "tags": []
          },
          "execution_count": 20
        },
        {
          "output_type": "display_data",
          "data": {
            "image/png": "[encoded data removed]",
            "text/plain": [
              "<Figure size 432x288 with 1 Axes>"
            ]
          },
          "metadata": {
            "tags": []
          }
        }
      ]
    },
    {
      "cell_type": "code",
      "metadata": {
        "id": "SGCY2EeOpKC5",
        "colab_type": "code",
        "colab": {
          "base_uri": "https://localhost:8080/",
          "height": 204
        },
        "outputId": "3a16b914-18db-478c-8e50-23d81591877a"
      },
      "source": [
        "  primary.head()"
      ],
      "execution_count": 21,
      "outputs": [
        {
          "output_type": "execute_result",
          "data": {
            "text/html": [
              "<div>\n",
              "<style scoped>\n",
              "    .dataframe tbody tr th:only-of-type {\n",
              "        vertical-align: middle;\n",
              "    }\n",
              "\n",
              "    .dataframe tbody tr th {\n",
              "        vertical-align: top;\n",
              "    }\n",
              "\n",
              "    .dataframe thead th {\n",
              "        text-align: right;\n",
              "    }\n",
              "</style>\n",
              "<table border=\"1\" class=\"dataframe\">\n",
              "  <thead>\n",
              "    <tr style=\"text-align: right;\">\n",
              "      <th></th>\n",
              "      <th>state</th>\n",
              "      <th>state_abbreviation</th>\n",
              "      <th>county</th>\n",
              "      <th>fips</th>\n",
              "      <th>party</th>\n",
              "      <th>candidate</th>\n",
              "      <th>votes</th>\n",
              "      <th>fraction_votes</th>\n",
              "    </tr>\n",
              "  </thead>\n",
              "  <tbody>\n",
              "    <tr>\n",
              "      <th>0</th>\n",
              "      <td>Alabama</td>\n",
              "      <td>AL</td>\n",
              "      <td>Autauga</td>\n",
              "      <td>1001.0</td>\n",
              "      <td>Democrat</td>\n",
              "      <td>Bernie Sanders</td>\n",
              "      <td>544</td>\n",
              "      <td>0.182</td>\n",
              "    </tr>\n",
              "    <tr>\n",
              "      <th>1</th>\n",
              "      <td>Alabama</td>\n",
              "      <td>AL</td>\n",
              "      <td>Autauga</td>\n",
              "      <td>1001.0</td>\n",
              "      <td>Democrat</td>\n",
              "      <td>Hillary Clinton</td>\n",
              "      <td>2387</td>\n",
              "      <td>0.800</td>\n",
              "    </tr>\n",
              "    <tr>\n",
              "      <th>2</th>\n",
              "      <td>Alabama</td>\n",
              "      <td>AL</td>\n",
              "      <td>Baldwin</td>\n",
              "      <td>1003.0</td>\n",
              "      <td>Democrat</td>\n",
              "      <td>Bernie Sanders</td>\n",
              "      <td>2694</td>\n",
              "      <td>0.329</td>\n",
              "    </tr>\n",
              "    <tr>\n",
              "      <th>3</th>\n",
              "      <td>Alabama</td>\n",
              "      <td>AL</td>\n",
              "      <td>Baldwin</td>\n",
              "      <td>1003.0</td>\n",
              "      <td>Democrat</td>\n",
              "      <td>Hillary Clinton</td>\n",
              "      <td>5290</td>\n",
              "      <td>0.647</td>\n",
              "    </tr>\n",
              "    <tr>\n",
              "      <th>4</th>\n",
              "      <td>Alabama</td>\n",
              "      <td>AL</td>\n",
              "      <td>Barbour</td>\n",
              "      <td>1005.0</td>\n",
              "      <td>Democrat</td>\n",
              "      <td>Bernie Sanders</td>\n",
              "      <td>222</td>\n",
              "      <td>0.078</td>\n",
              "    </tr>\n",
              "  </tbody>\n",
              "</table>\n",
              "</div>"
            ],
            "text/plain": [
              "     state state_abbreviation   county  ...        candidate votes fraction_votes\n",
              "0  Alabama                 AL  Autauga  ...   Bernie Sanders   544          0.182\n",
              "1  Alabama                 AL  Autauga  ...  Hillary Clinton  2387          0.800\n",
              "2  Alabama                 AL  Baldwin  ...   Bernie Sanders  2694          0.329\n",
              "3  Alabama                 AL  Baldwin  ...  Hillary Clinton  5290          0.647\n",
              "4  Alabama                 AL  Barbour  ...   Bernie Sanders   222          0.078\n",
              "\n",
              "[5 rows x 8 columns]"
            ]
          },
          "metadata": {
            "tags": []
          },
          "execution_count": 21
        }
      ]
    },
    {
      "cell_type": "code",
      "metadata": {
        "id": "bzZrddhFpZBr",
        "colab_type": "code",
        "colab": {}
      },
      "source": [
        "state_party_to_vote_s = primary.groupby([\"state\", \"party\"])[\"votes\"].sum()"
      ],
      "execution_count": 0,
      "outputs": []
    },
    {
      "cell_type": "code",
      "metadata": {
        "id": "1A6GEVYVpf4S",
        "colab_type": "code",
        "colab": {
          "base_uri": "https://localhost:8080/",
          "height": 150
        },
        "outputId": "16c5e060-d15e-4577-866e-360200c14f6e"
      },
      "source": [
        "state_party_to_vote_s.head()"
      ],
      "execution_count": 35,
      "outputs": [
        {
          "output_type": "execute_result",
          "data": {
            "text/plain": [
              "state    party     \n",
              "Alabama  Democrat      386327\n",
              "         Republican    837632\n",
              "Alaska   Democrat         539\n",
              "         Republican     21930\n",
              "Arizona  Democrat      399097\n",
              "Name: votes, dtype: int64"
            ]
          },
          "metadata": {
            "tags": []
          },
          "execution_count": 35
        }
      ]
    },
    {
      "cell_type": "code",
      "metadata": {
        "id": "h_Ymv1gYpqWc",
        "colab_type": "code",
        "colab": {}
      },
      "source": [
        "state_to_votes_s = primary.groupby(\"state\")[\"votes\"].sum()"
      ],
      "execution_count": 0,
      "outputs": []
    },
    {
      "cell_type": "code",
      "metadata": {
        "id": "bC821QM3p5Hn",
        "colab_type": "code",
        "colab": {
          "base_uri": "https://localhost:8080/",
          "height": 150
        },
        "outputId": "3548abff-191c-4f1e-8e3a-d7dd2b79f18b"
      },
      "source": [
        "state_to_votes_s.head()"
      ],
      "execution_count": 27,
      "outputs": [
        {
          "output_type": "execute_result",
          "data": {
            "text/plain": [
              "state\n",
              "Alabama       1223959\n",
              "Alaska          22469\n",
              "Arizona        834200\n",
              "Arkansas       605971\n",
              "California    4938197\n",
              "Name: votes, dtype: int64"
            ]
          },
          "metadata": {
            "tags": []
          },
          "execution_count": 27
        }
      ]
    },
    {
      "cell_type": "code",
      "metadata": {
        "id": "Npyn5mfkp7W0",
        "colab_type": "code",
        "colab": {}
      },
      "source": [
        "state_party_to_vote_pcts_s = state_party_to_vote_s / state_to_votes_s"
      ],
      "execution_count": 0,
      "outputs": []
    },
    {
      "cell_type": "code",
      "metadata": {
        "id": "QJvM41LBqGSZ",
        "colab_type": "code",
        "colab": {
          "base_uri": "https://localhost:8080/",
          "height": 264
        },
        "outputId": "2b983dbf-b267-4377-8caa-cfd9de1d35f6"
      },
      "source": [
        "state_party_to_vote_pcts_s"
      ],
      "execution_count": 29,
      "outputs": [
        {
          "output_type": "execute_result",
          "data": {
            "text/plain": [
              "state          party     \n",
              "Alabama        Democrat      0.315637\n",
              "               Republican    0.684363\n",
              "Alaska         Democrat      0.023989\n",
              "               Republican    0.976011\n",
              "Arizona        Democrat      0.478419\n",
              "                               ...   \n",
              "West Virginia  Republican    0.472291\n",
              "Wisconsin      Democrat      0.482638\n",
              "               Republican    0.517362\n",
              "Wyoming        Democrat      0.236686\n",
              "               Republican    0.763314\n",
              "Name: votes, Length: 95, dtype: float64"
            ]
          },
          "metadata": {
            "tags": []
          },
          "execution_count": 29
        }
      ]
    },
    {
      "cell_type": "code",
      "metadata": {
        "id": "hyyLG4JNqHgr",
        "colab_type": "code",
        "colab": {
          "base_uri": "https://localhost:8080/",
          "height": 283
        },
        "outputId": "92c1a531-a62f-4402-8117-f7d16831a5e5"
      },
      "source": [
        "state_party_to_vote_pcts_s.unstack().head().plot(kind = \"barh\", stacked = True, fontsize = 8)"
      ],
      "execution_count": 37,
      "outputs": [
        {
          "output_type": "execute_result",
          "data": {
            "text/plain": [
              "<matplotlib.axes._subplots.AxesSubplot at 0x7f164f7f2588>"
            ]
          },
          "metadata": {
            "tags": []
          },
          "execution_count": 37
        },
        {
          "output_type": "display_data",
          "data": {
            "image/png": "[encoded data removed]",
            "text/plain": [
              "<Figure size 432x288 with 1 Axes>"
            ]
          },
          "metadata": {
            "tags": []
          }
        }
      ]
    },
    {
      "cell_type": "markdown",
      "metadata": {
        "id": "_9v8OqgFqtKm",
        "colab_type": "text"
      },
      "source": [
        "** 백인 유권자 비율 **"
      ]
    },
    {
      "cell_type": "code",
      "metadata": {
        "id": "PIXeVdwnqQpx",
        "colab_type": "code",
        "colab": {}
      },
      "source": [
        "func = lambda agg_df: agg_df.sort_values(\"votes\", ascending=False).iloc[0]"
      ],
      "execution_count": 0,
      "outputs": []
    },
    {
      "cell_type": "code",
      "metadata": {
        "id": "poPRljbwraM5",
        "colab_type": "code",
        "colab": {
          "base_uri": "https://localhost:8080/",
          "height": 204
        },
        "outputId": "b59f4417-2614-4473-e832-9f98f7eb6f49"
      },
      "source": [
        "primary.head()"
      ],
      "execution_count": 40,
      "outputs": [
        {
          "output_type": "execute_result",
          "data": {
            "text/html": [
              "<div>\n",
              "<style scoped>\n",
              "    .dataframe tbody tr th:only-of-type {\n",
              "        vertical-align: middle;\n",
              "    }\n",
              "\n",
              "    .dataframe tbody tr th {\n",
              "        vertical-align: top;\n",
              "    }\n",
              "\n",
              "    .dataframe thead th {\n",
              "        text-align: right;\n",
              "    }\n",
              "</style>\n",
              "<table border=\"1\" class=\"dataframe\">\n",
              "  <thead>\n",
              "    <tr style=\"text-align: right;\">\n",
              "      <th></th>\n",
              "      <th>state</th>\n",
              "      <th>state_abbreviation</th>\n",
              "      <th>county</th>\n",
              "      <th>fips</th>\n",
              "      <th>party</th>\n",
              "      <th>candidate</th>\n",
              "      <th>votes</th>\n",
              "      <th>fraction_votes</th>\n",
              "    </tr>\n",
              "  </thead>\n",
              "  <tbody>\n",
              "    <tr>\n",
              "      <th>0</th>\n",
              "      <td>Alabama</td>\n",
              "      <td>AL</td>\n",
              "      <td>Autauga</td>\n",
              "      <td>1001.0</td>\n",
              "      <td>Democrat</td>\n",
              "      <td>Bernie Sanders</td>\n",
              "      <td>544</td>\n",
              "      <td>0.182</td>\n",
              "    </tr>\n",
              "    <tr>\n",
              "      <th>1</th>\n",
              "      <td>Alabama</td>\n",
              "      <td>AL</td>\n",
              "      <td>Autauga</td>\n",
              "      <td>1001.0</td>\n",
              "      <td>Democrat</td>\n",
              "      <td>Hillary Clinton</td>\n",
              "      <td>2387</td>\n",
              "      <td>0.800</td>\n",
              "    </tr>\n",
              "    <tr>\n",
              "      <th>2</th>\n",
              "      <td>Alabama</td>\n",
              "      <td>AL</td>\n",
              "      <td>Baldwin</td>\n",
              "      <td>1003.0</td>\n",
              "      <td>Democrat</td>\n",
              "      <td>Bernie Sanders</td>\n",
              "      <td>2694</td>\n",
              "      <td>0.329</td>\n",
              "    </tr>\n",
              "    <tr>\n",
              "      <th>3</th>\n",
              "      <td>Alabama</td>\n",
              "      <td>AL</td>\n",
              "      <td>Baldwin</td>\n",
              "      <td>1003.0</td>\n",
              "      <td>Democrat</td>\n",
              "      <td>Hillary Clinton</td>\n",
              "      <td>5290</td>\n",
              "      <td>0.647</td>\n",
              "    </tr>\n",
              "    <tr>\n",
              "      <th>4</th>\n",
              "      <td>Alabama</td>\n",
              "      <td>AL</td>\n",
              "      <td>Barbour</td>\n",
              "      <td>1005.0</td>\n",
              "      <td>Democrat</td>\n",
              "      <td>Bernie Sanders</td>\n",
              "      <td>222</td>\n",
              "      <td>0.078</td>\n",
              "    </tr>\n",
              "  </tbody>\n",
              "</table>\n",
              "</div>"
            ],
            "text/plain": [
              "     state state_abbreviation   county  ...        candidate votes fraction_votes\n",
              "0  Alabama                 AL  Autauga  ...   Bernie Sanders   544          0.182\n",
              "1  Alabama                 AL  Autauga  ...  Hillary Clinton  2387          0.800\n",
              "2  Alabama                 AL  Baldwin  ...   Bernie Sanders  2694          0.329\n",
              "3  Alabama                 AL  Baldwin  ...  Hillary Clinton  5290          0.647\n",
              "4  Alabama                 AL  Barbour  ...   Bernie Sanders   222          0.078\n",
              "\n",
              "[5 rows x 8 columns]"
            ]
          },
          "metadata": {
            "tags": []
          },
          "execution_count": 40
        }
      ]
    },
    {
      "cell_type": "code",
      "metadata": {
        "id": "Od2qMW6HrfQy",
        "colab_type": "code",
        "colab": {}
      },
      "source": [
        "winners = primary.groupby(\"fips\").agg(func)"
      ],
      "execution_count": 0,
      "outputs": []
    },
    {
      "cell_type": "code",
      "metadata": {
        "id": "G0AvrKrvrmJA",
        "colab_type": "code",
        "colab": {
          "base_uri": "https://localhost:8080/",
          "height": 235
        },
        "outputId": "42a420fd-983b-4c41-8fde-2e83682c2f35"
      },
      "source": [
        "winners.head()"
      ],
      "execution_count": 43,
      "outputs": [
        {
          "output_type": "execute_result",
          "data": {
            "text/html": [
              "<div>\n",
              "<style scoped>\n",
              "    .dataframe tbody tr th:only-of-type {\n",
              "        vertical-align: middle;\n",
              "    }\n",
              "\n",
              "    .dataframe tbody tr th {\n",
              "        vertical-align: top;\n",
              "    }\n",
              "\n",
              "    .dataframe thead th {\n",
              "        text-align: right;\n",
              "    }\n",
              "</style>\n",
              "<table border=\"1\" class=\"dataframe\">\n",
              "  <thead>\n",
              "    <tr style=\"text-align: right;\">\n",
              "      <th></th>\n",
              "      <th>state</th>\n",
              "      <th>state_abbreviation</th>\n",
              "      <th>county</th>\n",
              "      <th>party</th>\n",
              "      <th>candidate</th>\n",
              "      <th>votes</th>\n",
              "      <th>fraction_votes</th>\n",
              "    </tr>\n",
              "    <tr>\n",
              "      <th>fips</th>\n",
              "      <th></th>\n",
              "      <th></th>\n",
              "      <th></th>\n",
              "      <th></th>\n",
              "      <th></th>\n",
              "      <th></th>\n",
              "      <th></th>\n",
              "    </tr>\n",
              "  </thead>\n",
              "  <tbody>\n",
              "    <tr>\n",
              "      <th>1001.0</th>\n",
              "      <td>Alabama</td>\n",
              "      <td>AL</td>\n",
              "      <td>Autauga</td>\n",
              "      <td>Republican</td>\n",
              "      <td>Donald Trump</td>\n",
              "      <td>5387</td>\n",
              "      <td>0.445</td>\n",
              "    </tr>\n",
              "    <tr>\n",
              "      <th>1003.0</th>\n",
              "      <td>Alabama</td>\n",
              "      <td>AL</td>\n",
              "      <td>Baldwin</td>\n",
              "      <td>Republican</td>\n",
              "      <td>Donald Trump</td>\n",
              "      <td>23618</td>\n",
              "      <td>0.469</td>\n",
              "    </tr>\n",
              "    <tr>\n",
              "      <th>1005.0</th>\n",
              "      <td>Alabama</td>\n",
              "      <td>AL</td>\n",
              "      <td>Barbour</td>\n",
              "      <td>Democrat</td>\n",
              "      <td>Hillary Clinton</td>\n",
              "      <td>2567</td>\n",
              "      <td>0.906</td>\n",
              "    </tr>\n",
              "    <tr>\n",
              "      <th>1007.0</th>\n",
              "      <td>Alabama</td>\n",
              "      <td>AL</td>\n",
              "      <td>Bibb</td>\n",
              "      <td>Republican</td>\n",
              "      <td>Donald Trump</td>\n",
              "      <td>1959</td>\n",
              "      <td>0.494</td>\n",
              "    </tr>\n",
              "    <tr>\n",
              "      <th>1009.0</th>\n",
              "      <td>Alabama</td>\n",
              "      <td>AL</td>\n",
              "      <td>Blount</td>\n",
              "      <td>Republican</td>\n",
              "      <td>Donald Trump</td>\n",
              "      <td>7390</td>\n",
              "      <td>0.487</td>\n",
              "    </tr>\n",
              "  </tbody>\n",
              "</table>\n",
              "</div>"
            ],
            "text/plain": [
              "          state state_abbreviation  ...  votes fraction_votes\n",
              "fips                                ...                      \n",
              "1001.0  Alabama                 AL  ...   5387          0.445\n",
              "1003.0  Alabama                 AL  ...  23618          0.469\n",
              "1005.0  Alabama                 AL  ...   2567          0.906\n",
              "1007.0  Alabama                 AL  ...   1959          0.494\n",
              "1009.0  Alabama                 AL  ...   7390          0.487\n",
              "\n",
              "[5 rows x 7 columns]"
            ]
          },
          "metadata": {
            "tags": []
          },
          "execution_count": 43
        }
      ]
    },
    {
      "cell_type": "code",
      "metadata": {
        "id": "OZOovt3wrrb8",
        "colab_type": "code",
        "colab": {
          "base_uri": "https://localhost:8080/",
          "height": 292
        },
        "outputId": "36336762-00a2-4ce3-f486-a94bd2cfcce3"
      },
      "source": [
        "counties.head()"
      ],
      "execution_count": 44,
      "outputs": [
        {
          "output_type": "execute_result",
          "data": {
            "text/html": [
              "<div>\n",
              "<style scoped>\n",
              "    .dataframe tbody tr th:only-of-type {\n",
              "        vertical-align: middle;\n",
              "    }\n",
              "\n",
              "    .dataframe tbody tr th {\n",
              "        vertical-align: top;\n",
              "    }\n",
              "\n",
              "    .dataframe thead th {\n",
              "        text-align: right;\n",
              "    }\n",
              "</style>\n",
              "<table border=\"1\" class=\"dataframe\">\n",
              "  <thead>\n",
              "    <tr style=\"text-align: right;\">\n",
              "      <th></th>\n",
              "      <th>fips</th>\n",
              "      <th>area_name</th>\n",
              "      <th>state_abbreviation</th>\n",
              "      <th>PST045214</th>\n",
              "      <th>PST040210</th>\n",
              "      <th>PST120214</th>\n",
              "      <th>POP010210</th>\n",
              "      <th>AGE135214</th>\n",
              "      <th>AGE295214</th>\n",
              "      <th>AGE775214</th>\n",
              "      <th>SEX255214</th>\n",
              "      <th>RHI125214</th>\n",
              "      <th>RHI225214</th>\n",
              "      <th>RHI325214</th>\n",
              "      <th>RHI425214</th>\n",
              "      <th>RHI525214</th>\n",
              "      <th>RHI625214</th>\n",
              "      <th>RHI725214</th>\n",
              "      <th>RHI825214</th>\n",
              "      <th>POP715213</th>\n",
              "      <th>POP645213</th>\n",
              "      <th>POP815213</th>\n",
              "      <th>EDU635213</th>\n",
              "      <th>EDU685213</th>\n",
              "      <th>VET605213</th>\n",
              "      <th>LFE305213</th>\n",
              "      <th>HSG010214</th>\n",
              "      <th>HSG445213</th>\n",
              "      <th>HSG096213</th>\n",
              "      <th>HSG495213</th>\n",
              "      <th>HSD410213</th>\n",
              "      <th>HSD310213</th>\n",
              "      <th>INC910213</th>\n",
              "      <th>INC110213</th>\n",
              "      <th>PVY020213</th>\n",
              "      <th>BZA010213</th>\n",
              "      <th>BZA110213</th>\n",
              "      <th>BZA115213</th>\n",
              "      <th>NES010213</th>\n",
              "      <th>SBO001207</th>\n",
              "      <th>SBO315207</th>\n",
              "      <th>SBO115207</th>\n",
              "      <th>SBO215207</th>\n",
              "      <th>SBO515207</th>\n",
              "      <th>SBO415207</th>\n",
              "      <th>SBO015207</th>\n",
              "      <th>MAN450207</th>\n",
              "      <th>WTN220207</th>\n",
              "      <th>RTN130207</th>\n",
              "      <th>RTN131207</th>\n",
              "      <th>AFN120207</th>\n",
              "      <th>BPS030214</th>\n",
              "      <th>LND110210</th>\n",
              "      <th>POP060210</th>\n",
              "    </tr>\n",
              "  </thead>\n",
              "  <tbody>\n",
              "    <tr>\n",
              "      <th>0</th>\n",
              "      <td>0</td>\n",
              "      <td>United States</td>\n",
              "      <td>NaN</td>\n",
              "      <td>318857056</td>\n",
              "      <td>308758105</td>\n",
              "      <td>3.3</td>\n",
              "      <td>308745538</td>\n",
              "      <td>6.2</td>\n",
              "      <td>23.1</td>\n",
              "      <td>14.5</td>\n",
              "      <td>50.8</td>\n",
              "      <td>77.4</td>\n",
              "      <td>13.2</td>\n",
              "      <td>1.2</td>\n",
              "      <td>5.4</td>\n",
              "      <td>0.2</td>\n",
              "      <td>2.5</td>\n",
              "      <td>17.4</td>\n",
              "      <td>62.1</td>\n",
              "      <td>84.9</td>\n",
              "      <td>12.9</td>\n",
              "      <td>20.7</td>\n",
              "      <td>86.0</td>\n",
              "      <td>28.8</td>\n",
              "      <td>21263779</td>\n",
              "      <td>25.5</td>\n",
              "      <td>133957180</td>\n",
              "      <td>64.9</td>\n",
              "      <td>26.0</td>\n",
              "      <td>176700</td>\n",
              "      <td>115610216</td>\n",
              "      <td>2.63</td>\n",
              "      <td>28155</td>\n",
              "      <td>53046</td>\n",
              "      <td>15.4</td>\n",
              "      <td>7488353</td>\n",
              "      <td>118266253</td>\n",
              "      <td>2.0</td>\n",
              "      <td>23005620</td>\n",
              "      <td>27092908</td>\n",
              "      <td>7.1</td>\n",
              "      <td>0.9</td>\n",
              "      <td>5.7</td>\n",
              "      <td>0.1</td>\n",
              "      <td>8.3</td>\n",
              "      <td>28.8</td>\n",
              "      <td>5319456312</td>\n",
              "      <td>4174286516</td>\n",
              "      <td>3917663456</td>\n",
              "      <td>12990</td>\n",
              "      <td>613795732</td>\n",
              "      <td>1046363</td>\n",
              "      <td>3531905.43</td>\n",
              "      <td>87.4</td>\n",
              "    </tr>\n",
              "    <tr>\n",
              "      <th>1</th>\n",
              "      <td>1000</td>\n",
              "      <td>Alabama</td>\n",
              "      <td>NaN</td>\n",
              "      <td>4849377</td>\n",
              "      <td>4780127</td>\n",
              "      <td>1.4</td>\n",
              "      <td>4779736</td>\n",
              "      <td>6.1</td>\n",
              "      <td>22.8</td>\n",
              "      <td>15.3</td>\n",
              "      <td>51.5</td>\n",
              "      <td>69.7</td>\n",
              "      <td>26.7</td>\n",
              "      <td>0.7</td>\n",
              "      <td>1.3</td>\n",
              "      <td>0.1</td>\n",
              "      <td>1.5</td>\n",
              "      <td>4.1</td>\n",
              "      <td>66.2</td>\n",
              "      <td>85.0</td>\n",
              "      <td>3.5</td>\n",
              "      <td>5.2</td>\n",
              "      <td>83.1</td>\n",
              "      <td>22.6</td>\n",
              "      <td>388865</td>\n",
              "      <td>24.2</td>\n",
              "      <td>2207912</td>\n",
              "      <td>69.7</td>\n",
              "      <td>15.9</td>\n",
              "      <td>122500</td>\n",
              "      <td>1838683</td>\n",
              "      <td>2.55</td>\n",
              "      <td>23680</td>\n",
              "      <td>43253</td>\n",
              "      <td>18.6</td>\n",
              "      <td>97578</td>\n",
              "      <td>1603100</td>\n",
              "      <td>1.1</td>\n",
              "      <td>311578</td>\n",
              "      <td>382350</td>\n",
              "      <td>14.8</td>\n",
              "      <td>0.8</td>\n",
              "      <td>1.8</td>\n",
              "      <td>0.1</td>\n",
              "      <td>1.2</td>\n",
              "      <td>28.1</td>\n",
              "      <td>112858843</td>\n",
              "      <td>52252752</td>\n",
              "      <td>57344851</td>\n",
              "      <td>12364</td>\n",
              "      <td>6426342</td>\n",
              "      <td>13369</td>\n",
              "      <td>50645.33</td>\n",
              "      <td>94.4</td>\n",
              "    </tr>\n",
              "    <tr>\n",
              "      <th>2</th>\n",
              "      <td>1001</td>\n",
              "      <td>Autauga County</td>\n",
              "      <td>AL</td>\n",
              "      <td>55395</td>\n",
              "      <td>54571</td>\n",
              "      <td>1.5</td>\n",
              "      <td>54571</td>\n",
              "      <td>6.0</td>\n",
              "      <td>25.2</td>\n",
              "      <td>13.8</td>\n",
              "      <td>51.4</td>\n",
              "      <td>77.9</td>\n",
              "      <td>18.7</td>\n",
              "      <td>0.5</td>\n",
              "      <td>1.1</td>\n",
              "      <td>0.1</td>\n",
              "      <td>1.8</td>\n",
              "      <td>2.7</td>\n",
              "      <td>75.6</td>\n",
              "      <td>85.0</td>\n",
              "      <td>1.6</td>\n",
              "      <td>3.5</td>\n",
              "      <td>85.6</td>\n",
              "      <td>20.9</td>\n",
              "      <td>5922</td>\n",
              "      <td>26.2</td>\n",
              "      <td>22751</td>\n",
              "      <td>76.8</td>\n",
              "      <td>8.3</td>\n",
              "      <td>136200</td>\n",
              "      <td>20071</td>\n",
              "      <td>2.71</td>\n",
              "      <td>24571</td>\n",
              "      <td>53682</td>\n",
              "      <td>12.1</td>\n",
              "      <td>817</td>\n",
              "      <td>10120</td>\n",
              "      <td>2.1</td>\n",
              "      <td>2947</td>\n",
              "      <td>4067</td>\n",
              "      <td>15.2</td>\n",
              "      <td>0.0</td>\n",
              "      <td>1.3</td>\n",
              "      <td>0.0</td>\n",
              "      <td>0.7</td>\n",
              "      <td>31.7</td>\n",
              "      <td>0</td>\n",
              "      <td>0</td>\n",
              "      <td>598175</td>\n",
              "      <td>12003</td>\n",
              "      <td>88157</td>\n",
              "      <td>131</td>\n",
              "      <td>594.44</td>\n",
              "      <td>91.8</td>\n",
              "    </tr>\n",
              "    <tr>\n",
              "      <th>3</th>\n",
              "      <td>1003</td>\n",
              "      <td>Baldwin County</td>\n",
              "      <td>AL</td>\n",
              "      <td>200111</td>\n",
              "      <td>182265</td>\n",
              "      <td>9.8</td>\n",
              "      <td>182265</td>\n",
              "      <td>5.6</td>\n",
              "      <td>22.2</td>\n",
              "      <td>18.7</td>\n",
              "      <td>51.2</td>\n",
              "      <td>87.1</td>\n",
              "      <td>9.6</td>\n",
              "      <td>0.7</td>\n",
              "      <td>0.9</td>\n",
              "      <td>0.1</td>\n",
              "      <td>1.6</td>\n",
              "      <td>4.6</td>\n",
              "      <td>83.0</td>\n",
              "      <td>82.1</td>\n",
              "      <td>3.6</td>\n",
              "      <td>5.5</td>\n",
              "      <td>89.1</td>\n",
              "      <td>27.7</td>\n",
              "      <td>19346</td>\n",
              "      <td>25.9</td>\n",
              "      <td>107374</td>\n",
              "      <td>72.6</td>\n",
              "      <td>24.4</td>\n",
              "      <td>168600</td>\n",
              "      <td>73283</td>\n",
              "      <td>2.52</td>\n",
              "      <td>26766</td>\n",
              "      <td>50221</td>\n",
              "      <td>13.9</td>\n",
              "      <td>4871</td>\n",
              "      <td>54988</td>\n",
              "      <td>3.7</td>\n",
              "      <td>16508</td>\n",
              "      <td>19035</td>\n",
              "      <td>2.7</td>\n",
              "      <td>0.4</td>\n",
              "      <td>1.0</td>\n",
              "      <td>0.0</td>\n",
              "      <td>1.3</td>\n",
              "      <td>27.3</td>\n",
              "      <td>1410273</td>\n",
              "      <td>0</td>\n",
              "      <td>2966489</td>\n",
              "      <td>17166</td>\n",
              "      <td>436955</td>\n",
              "      <td>1384</td>\n",
              "      <td>1589.78</td>\n",
              "      <td>114.6</td>\n",
              "    </tr>\n",
              "    <tr>\n",
              "      <th>4</th>\n",
              "      <td>1005</td>\n",
              "      <td>Barbour County</td>\n",
              "      <td>AL</td>\n",
              "      <td>26887</td>\n",
              "      <td>27457</td>\n",
              "      <td>-2.1</td>\n",
              "      <td>27457</td>\n",
              "      <td>5.7</td>\n",
              "      <td>21.2</td>\n",
              "      <td>16.5</td>\n",
              "      <td>46.6</td>\n",
              "      <td>50.2</td>\n",
              "      <td>47.6</td>\n",
              "      <td>0.6</td>\n",
              "      <td>0.5</td>\n",
              "      <td>0.2</td>\n",
              "      <td>0.9</td>\n",
              "      <td>4.5</td>\n",
              "      <td>46.6</td>\n",
              "      <td>84.8</td>\n",
              "      <td>2.9</td>\n",
              "      <td>5.0</td>\n",
              "      <td>73.7</td>\n",
              "      <td>13.4</td>\n",
              "      <td>2120</td>\n",
              "      <td>24.6</td>\n",
              "      <td>11799</td>\n",
              "      <td>67.7</td>\n",
              "      <td>10.6</td>\n",
              "      <td>89200</td>\n",
              "      <td>9200</td>\n",
              "      <td>2.66</td>\n",
              "      <td>16829</td>\n",
              "      <td>32911</td>\n",
              "      <td>26.7</td>\n",
              "      <td>464</td>\n",
              "      <td>6611</td>\n",
              "      <td>-5.6</td>\n",
              "      <td>1546</td>\n",
              "      <td>1667</td>\n",
              "      <td>0.0</td>\n",
              "      <td>0.0</td>\n",
              "      <td>0.0</td>\n",
              "      <td>0.0</td>\n",
              "      <td>0.0</td>\n",
              "      <td>27.0</td>\n",
              "      <td>0</td>\n",
              "      <td>0</td>\n",
              "      <td>188337</td>\n",
              "      <td>6334</td>\n",
              "      <td>0</td>\n",
              "      <td>8</td>\n",
              "      <td>884.88</td>\n",
              "      <td>31.0</td>\n",
              "    </tr>\n",
              "  </tbody>\n",
              "</table>\n",
              "</div>"
            ],
            "text/plain": [
              "   fips       area_name state_abbreviation  ...  BPS030214   LND110210  POP060210\n",
              "0     0   United States                NaN  ...    1046363  3531905.43       87.4\n",
              "1  1000         Alabama                NaN  ...      13369    50645.33       94.4\n",
              "2  1001  Autauga County                 AL  ...        131      594.44       91.8\n",
              "3  1003  Baldwin County                 AL  ...       1384     1589.78      114.6\n",
              "4  1005  Barbour County                 AL  ...          8      884.88       31.0\n",
              "\n",
              "[5 rows x 54 columns]"
            ]
          },
          "metadata": {
            "tags": []
          },
          "execution_count": 44
        }
      ]
    },
    {
      "cell_type": "code",
      "metadata": {
        "id": "hJStb0QGr8wQ",
        "colab_type": "code",
        "colab": {
          "base_uri": "https://localhost:8080/",
          "height": 245
        },
        "outputId": "15aecbab-b69b-4440-8f29-4428fe935e9f"
      },
      "source": [
        "#RHI825214 - 백인유권자\n",
        "counties.columns"
      ],
      "execution_count": 47,
      "outputs": [
        {
          "output_type": "execute_result",
          "data": {
            "text/plain": [
              "Index(['fips', 'area_name', 'state_abbreviation', 'PST045214', 'PST040210',\n",
              "       'PST120214', 'POP010210', 'AGE135214', 'AGE295214', 'AGE775214',\n",
              "       'SEX255214', 'RHI125214', 'RHI225214', 'RHI325214', 'RHI425214',\n",
              "       'RHI525214', 'RHI625214', 'RHI725214', 'RHI825214', 'POP715213',\n",
              "       'POP645213', 'POP815213', 'EDU635213', 'EDU685213', 'VET605213',\n",
              "       'LFE305213', 'HSG010214', 'HSG445213', 'HSG096213', 'HSG495213',\n",
              "       'HSD410213', 'HSD310213', 'INC910213', 'INC110213', 'PVY020213',\n",
              "       'BZA010213', 'BZA110213', 'BZA115213', 'NES010213', 'SBO001207',\n",
              "       'SBO315207', 'SBO115207', 'SBO215207', 'SBO515207', 'SBO415207',\n",
              "       'SBO015207', 'MAN450207', 'WTN220207', 'RTN130207', 'RTN131207',\n",
              "       'AFN120207', 'BPS030214', 'LND110210', 'POP060210'],\n",
              "      dtype='object')"
            ]
          },
          "metadata": {
            "tags": []
          },
          "execution_count": 47
        }
      ]
    },
    {
      "cell_type": "code",
      "metadata": {
        "id": "z5PV6yuHr_lE",
        "colab_type": "code",
        "colab": {
          "base_uri": "https://localhost:8080/",
          "height": 131
        },
        "outputId": "9fbc3873-2328-476b-ee65-9753b8cbbc54"
      },
      "source": [
        "counties[\"RHI825214\"].head()"
      ],
      "execution_count": 48,
      "outputs": [
        {
          "output_type": "execute_result",
          "data": {
            "text/plain": [
              "0    62.1\n",
              "1    66.2\n",
              "2    75.6\n",
              "3    83.0\n",
              "4    46.6\n",
              "Name: RHI825214, dtype: float64"
            ]
          },
          "metadata": {
            "tags": []
          },
          "execution_count": 48
        }
      ]
    },
    {
      "cell_type": "code",
      "metadata": {
        "id": "bjBykgChskKP",
        "colab_type": "code",
        "colab": {
          "base_uri": "https://localhost:8080/",
          "height": 235
        },
        "outputId": "7784d59a-0d61-4360-aba0-286f89ef2c78"
      },
      "source": [
        "winners.head()"
      ],
      "execution_count": 51,
      "outputs": [
        {
          "output_type": "execute_result",
          "data": {
            "text/html": [
              "<div>\n",
              "<style scoped>\n",
              "    .dataframe tbody tr th:only-of-type {\n",
              "        vertical-align: middle;\n",
              "    }\n",
              "\n",
              "    .dataframe tbody tr th {\n",
              "        vertical-align: top;\n",
              "    }\n",
              "\n",
              "    .dataframe thead th {\n",
              "        text-align: right;\n",
              "    }\n",
              "</style>\n",
              "<table border=\"1\" class=\"dataframe\">\n",
              "  <thead>\n",
              "    <tr style=\"text-align: right;\">\n",
              "      <th></th>\n",
              "      <th>state</th>\n",
              "      <th>state_abbreviation</th>\n",
              "      <th>county</th>\n",
              "      <th>party</th>\n",
              "      <th>candidate</th>\n",
              "      <th>votes</th>\n",
              "      <th>fraction_votes</th>\n",
              "    </tr>\n",
              "    <tr>\n",
              "      <th>fips</th>\n",
              "      <th></th>\n",
              "      <th></th>\n",
              "      <th></th>\n",
              "      <th></th>\n",
              "      <th></th>\n",
              "      <th></th>\n",
              "      <th></th>\n",
              "    </tr>\n",
              "  </thead>\n",
              "  <tbody>\n",
              "    <tr>\n",
              "      <th>1001.0</th>\n",
              "      <td>Alabama</td>\n",
              "      <td>AL</td>\n",
              "      <td>Autauga</td>\n",
              "      <td>Republican</td>\n",
              "      <td>Donald Trump</td>\n",
              "      <td>5387</td>\n",
              "      <td>0.445</td>\n",
              "    </tr>\n",
              "    <tr>\n",
              "      <th>1003.0</th>\n",
              "      <td>Alabama</td>\n",
              "      <td>AL</td>\n",
              "      <td>Baldwin</td>\n",
              "      <td>Republican</td>\n",
              "      <td>Donald Trump</td>\n",
              "      <td>23618</td>\n",
              "      <td>0.469</td>\n",
              "    </tr>\n",
              "    <tr>\n",
              "      <th>1005.0</th>\n",
              "      <td>Alabama</td>\n",
              "      <td>AL</td>\n",
              "      <td>Barbour</td>\n",
              "      <td>Democrat</td>\n",
              "      <td>Hillary Clinton</td>\n",
              "      <td>2567</td>\n",
              "      <td>0.906</td>\n",
              "    </tr>\n",
              "    <tr>\n",
              "      <th>1007.0</th>\n",
              "      <td>Alabama</td>\n",
              "      <td>AL</td>\n",
              "      <td>Bibb</td>\n",
              "      <td>Republican</td>\n",
              "      <td>Donald Trump</td>\n",
              "      <td>1959</td>\n",
              "      <td>0.494</td>\n",
              "    </tr>\n",
              "    <tr>\n",
              "      <th>1009.0</th>\n",
              "      <td>Alabama</td>\n",
              "      <td>AL</td>\n",
              "      <td>Blount</td>\n",
              "      <td>Republican</td>\n",
              "      <td>Donald Trump</td>\n",
              "      <td>7390</td>\n",
              "      <td>0.487</td>\n",
              "    </tr>\n",
              "  </tbody>\n",
              "</table>\n",
              "</div>"
            ],
            "text/plain": [
              "          state state_abbreviation  ...  votes fraction_votes\n",
              "fips                                ...                      \n",
              "1001.0  Alabama                 AL  ...   5387          0.445\n",
              "1003.0  Alabama                 AL  ...  23618          0.469\n",
              "1005.0  Alabama                 AL  ...   2567          0.906\n",
              "1007.0  Alabama                 AL  ...   1959          0.494\n",
              "1009.0  Alabama                 AL  ...   7390          0.487\n",
              "\n",
              "[5 rows x 7 columns]"
            ]
          },
          "metadata": {
            "tags": []
          },
          "execution_count": 51
        }
      ]
    },
    {
      "cell_type": "code",
      "metadata": {
        "id": "-APfXLjcslkx",
        "colab_type": "code",
        "colab": {
          "base_uri": "https://localhost:8080/",
          "height": 419
        },
        "outputId": "38330763-c8ba-472d-85a0-183d761990a3"
      },
      "source": [
        "counties[[\"fips\", \"RHI825214\"]]"
      ],
      "execution_count": 54,
      "outputs": [
        {
          "output_type": "execute_result",
          "data": {
            "text/html": [
              "<div>\n",
              "<style scoped>\n",
              "    .dataframe tbody tr th:only-of-type {\n",
              "        vertical-align: middle;\n",
              "    }\n",
              "\n",
              "    .dataframe tbody tr th {\n",
              "        vertical-align: top;\n",
              "    }\n",
              "\n",
              "    .dataframe thead th {\n",
              "        text-align: right;\n",
              "    }\n",
              "</style>\n",
              "<table border=\"1\" class=\"dataframe\">\n",
              "  <thead>\n",
              "    <tr style=\"text-align: right;\">\n",
              "      <th></th>\n",
              "      <th>fips</th>\n",
              "      <th>RHI825214</th>\n",
              "    </tr>\n",
              "  </thead>\n",
              "  <tbody>\n",
              "    <tr>\n",
              "      <th>0</th>\n",
              "      <td>0</td>\n",
              "      <td>62.1</td>\n",
              "    </tr>\n",
              "    <tr>\n",
              "      <th>1</th>\n",
              "      <td>1000</td>\n",
              "      <td>66.2</td>\n",
              "    </tr>\n",
              "    <tr>\n",
              "      <th>2</th>\n",
              "      <td>1001</td>\n",
              "      <td>75.6</td>\n",
              "    </tr>\n",
              "    <tr>\n",
              "      <th>3</th>\n",
              "      <td>1003</td>\n",
              "      <td>83.0</td>\n",
              "    </tr>\n",
              "    <tr>\n",
              "      <th>4</th>\n",
              "      <td>1005</td>\n",
              "      <td>46.6</td>\n",
              "    </tr>\n",
              "    <tr>\n",
              "      <th>...</th>\n",
              "      <td>...</td>\n",
              "      <td>...</td>\n",
              "    </tr>\n",
              "    <tr>\n",
              "      <th>3190</th>\n",
              "      <td>56037</td>\n",
              "      <td>79.7</td>\n",
              "    </tr>\n",
              "    <tr>\n",
              "      <th>3191</th>\n",
              "      <td>56039</td>\n",
              "      <td>80.9</td>\n",
              "    </tr>\n",
              "    <tr>\n",
              "      <th>3192</th>\n",
              "      <td>56041</td>\n",
              "      <td>87.3</td>\n",
              "    </tr>\n",
              "    <tr>\n",
              "      <th>3193</th>\n",
              "      <td>56043</td>\n",
              "      <td>82.7</td>\n",
              "    </tr>\n",
              "    <tr>\n",
              "      <th>3194</th>\n",
              "      <td>56045</td>\n",
              "      <td>91.5</td>\n",
              "    </tr>\n",
              "  </tbody>\n",
              "</table>\n",
              "<p>3195 rows × 2 columns</p>\n",
              "</div>"
            ],
            "text/plain": [
              "       fips  RHI825214\n",
              "0         0       62.1\n",
              "1      1000       66.2\n",
              "2      1001       75.6\n",
              "3      1003       83.0\n",
              "4      1005       46.6\n",
              "...     ...        ...\n",
              "3190  56037       79.7\n",
              "3191  56039       80.9\n",
              "3192  56041       87.3\n",
              "3193  56043       82.7\n",
              "3194  56045       91.5\n",
              "\n",
              "[3195 rows x 2 columns]"
            ]
          },
          "metadata": {
            "tags": []
          },
          "execution_count": 54
        }
      ]
    },
    {
      "cell_type": "markdown",
      "metadata": {
        "id": "iSLSFieCs1k2",
        "colab_type": "text"
      },
      "source": [
        "*counties[[\"fips\", \"RHI825214\"]]에서는 fips column기준, winners에는 fips index기준이므로\n",
        " left_index = True, right_on = \"fips\"*"
      ]
    },
    {
      "cell_type": "code",
      "metadata": {
        "id": "nXPA3o0_sJYn",
        "colab_type": "code",
        "colab": {}
      },
      "source": [
        "winners_county_races = pd.merge(winners, counties[[\"fips\", \"RHI825214\"]],\n",
        "         left_index = True, right_on = \"fips\", how = \"left\")"
      ],
      "execution_count": 0,
      "outputs": []
    },
    {
      "cell_type": "code",
      "metadata": {
        "id": "-5nq3xgosT9m",
        "colab_type": "code",
        "colab": {
          "base_uri": "https://localhost:8080/",
          "height": 204
        },
        "outputId": "c61c5602-2929-4c50-8133-5756135c7860"
      },
      "source": [
        "winners_county_races.head()"
      ],
      "execution_count": 56,
      "outputs": [
        {
          "output_type": "execute_result",
          "data": {
            "text/html": [
              "<div>\n",
              "<style scoped>\n",
              "    .dataframe tbody tr th:only-of-type {\n",
              "        vertical-align: middle;\n",
              "    }\n",
              "\n",
              "    .dataframe tbody tr th {\n",
              "        vertical-align: top;\n",
              "    }\n",
              "\n",
              "    .dataframe thead th {\n",
              "        text-align: right;\n",
              "    }\n",
              "</style>\n",
              "<table border=\"1\" class=\"dataframe\">\n",
              "  <thead>\n",
              "    <tr style=\"text-align: right;\">\n",
              "      <th></th>\n",
              "      <th>state</th>\n",
              "      <th>state_abbreviation</th>\n",
              "      <th>county</th>\n",
              "      <th>party</th>\n",
              "      <th>candidate</th>\n",
              "      <th>votes</th>\n",
              "      <th>fraction_votes</th>\n",
              "      <th>fips</th>\n",
              "      <th>RHI825214</th>\n",
              "    </tr>\n",
              "  </thead>\n",
              "  <tbody>\n",
              "    <tr>\n",
              "      <th>2.0</th>\n",
              "      <td>Alabama</td>\n",
              "      <td>AL</td>\n",
              "      <td>Autauga</td>\n",
              "      <td>Republican</td>\n",
              "      <td>Donald Trump</td>\n",
              "      <td>5387</td>\n",
              "      <td>0.445</td>\n",
              "      <td>1001.0</td>\n",
              "      <td>75.6</td>\n",
              "    </tr>\n",
              "    <tr>\n",
              "      <th>3.0</th>\n",
              "      <td>Alabama</td>\n",
              "      <td>AL</td>\n",
              "      <td>Baldwin</td>\n",
              "      <td>Republican</td>\n",
              "      <td>Donald Trump</td>\n",
              "      <td>23618</td>\n",
              "      <td>0.469</td>\n",
              "      <td>1003.0</td>\n",
              "      <td>83.0</td>\n",
              "    </tr>\n",
              "    <tr>\n",
              "      <th>4.0</th>\n",
              "      <td>Alabama</td>\n",
              "      <td>AL</td>\n",
              "      <td>Barbour</td>\n",
              "      <td>Democrat</td>\n",
              "      <td>Hillary Clinton</td>\n",
              "      <td>2567</td>\n",
              "      <td>0.906</td>\n",
              "      <td>1005.0</td>\n",
              "      <td>46.6</td>\n",
              "    </tr>\n",
              "    <tr>\n",
              "      <th>5.0</th>\n",
              "      <td>Alabama</td>\n",
              "      <td>AL</td>\n",
              "      <td>Bibb</td>\n",
              "      <td>Republican</td>\n",
              "      <td>Donald Trump</td>\n",
              "      <td>1959</td>\n",
              "      <td>0.494</td>\n",
              "      <td>1007.0</td>\n",
              "      <td>74.5</td>\n",
              "    </tr>\n",
              "    <tr>\n",
              "      <th>6.0</th>\n",
              "      <td>Alabama</td>\n",
              "      <td>AL</td>\n",
              "      <td>Blount</td>\n",
              "      <td>Republican</td>\n",
              "      <td>Donald Trump</td>\n",
              "      <td>7390</td>\n",
              "      <td>0.487</td>\n",
              "      <td>1009.0</td>\n",
              "      <td>87.8</td>\n",
              "    </tr>\n",
              "  </tbody>\n",
              "</table>\n",
              "</div>"
            ],
            "text/plain": [
              "       state state_abbreviation   county  ... fraction_votes    fips  RHI825214\n",
              "2.0  Alabama                 AL  Autauga  ...          0.445  1001.0       75.6\n",
              "3.0  Alabama                 AL  Baldwin  ...          0.469  1003.0       83.0\n",
              "4.0  Alabama                 AL  Barbour  ...          0.906  1005.0       46.6\n",
              "5.0  Alabama                 AL     Bibb  ...          0.494  1007.0       74.5\n",
              "6.0  Alabama                 AL   Blount  ...          0.487  1009.0       87.8\n",
              "\n",
              "[5 rows x 9 columns]"
            ]
          },
          "metadata": {
            "tags": []
          },
          "execution_count": 56
        }
      ]
    },
    {
      "cell_type": "code",
      "metadata": {
        "id": "ZpkG8fastQGk",
        "colab_type": "code",
        "colab": {}
      },
      "source": [
        "winners_county_races = winners_county_races.rename(columns = {\"RHI825214\" : \"white_pcts\"})"
      ],
      "execution_count": 0,
      "outputs": []
    },
    {
      "cell_type": "code",
      "metadata": {
        "id": "jD9_r16atc4W",
        "colab_type": "code",
        "colab": {}
      },
      "source": [
        "  winners_county_white_pcts = winners_county_races.groupby([\"party\", \"candidate\"])[\"white_pcts\"].mean()"
      ],
      "execution_count": 0,
      "outputs": []
    },
    {
      "cell_type": "code",
      "metadata": {
        "id": "rPHC8i9vurU8",
        "colab_type": "code",
        "colab": {
          "base_uri": "https://localhost:8080/",
          "height": 150
        },
        "outputId": "10a713aa-e87a-40f7-9fdd-76898a08d32a"
      },
      "source": [
        "winners_county_white_pcts.head()"
      ],
      "execution_count": 63,
      "outputs": [
        {
          "output_type": "execute_result",
          "data": {
            "text/plain": [
              "party       candidate      \n",
              "Democrat     No Preference           NaN\n",
              "            Bernie Sanders     81.220541\n",
              "            Hillary Clinton    54.609481\n",
              "Republican  Donald Trump       84.008129\n",
              "            John Kasich        89.226415\n",
              "Name: white_pcts, dtype: float64"
            ]
          },
          "metadata": {
            "tags": []
          },
          "execution_count": 63
        }
      ]
    },
    {
      "cell_type": "code",
      "metadata": {
        "id": "4ARBy70VutWa",
        "colab_type": "code",
        "colab": {
          "base_uri": "https://localhost:8080/",
          "height": 264
        },
        "outputId": "5a805cde-e07b-447f-f653-7697c3eab810"
      },
      "source": [
        "ax = winners_county_white_pcts.plot(kind = \"barh\", fontsize = 8)"
      ],
      "execution_count": 66,
      "outputs": [
        {
          "output_type": "display_data",
          "data": {
            "image/png": "[encoded data removed]",
            "text/plain": [
              "<Figure size 432x288 with 1 Axes>"
            ]
          },
          "metadata": {
            "tags": []
          }
        }
      ]
    },
    {
      "cell_type": "code",
      "metadata": {
        "id": "D-X0Rre_u6G5",
        "colab_type": "code",
        "colab": {
          "base_uri": "https://localhost:8080/",
          "height": 36
        },
        "outputId": "b6836136-745e-4f0b-d6d1-3e9cc8bff959"
      },
      "source": [
        "ax.set_xlim([50, 100])\n",
        "plt.tight_layout()"
      ],
      "execution_count": 67,
      "outputs": [
        {
          "output_type": "display_data",
          "data": {
            "text/plain": [
              "<Figure size 432x288 with 0 Axes>"
            ]
          },
          "metadata": {
            "tags": []
          }
        }
      ]
    },
    {
      "cell_type": "code",
      "metadata": {
        "id": "D4XX54D1vE_A",
        "colab_type": "code",
        "colab": {
          "base_uri": "https://localhost:8080/",
          "height": 36
        },
        "outputId": "42a73ec1-f1c0-4284-e97a-17e682418c63"
      },
      "source": [
        "ax"
      ],
      "execution_count": 69,
      "outputs": [
        {
          "output_type": "execute_result",
          "data": {
            "text/plain": [
              "<matplotlib.axes._subplots.AxesSubplot at 0x7f164eef30b8>"
            ]
          },
          "metadata": {
            "tags": []
          },
          "execution_count": 69
        }
      ]
    },
    {
      "cell_type": "markdown",
      "metadata": {
        "id": "URkH7NTzvZM3",
        "colab_type": "text"
      },
      "source": [
        "**Pivot Table**\n",
        "*-데이터셋에 대하여 그룹화에 기반한 통계량을 계산하는 작업이 더 편리해짐*"
      ]
    },
    {
      "cell_type": "code",
      "metadata": {
        "id": "USRh4UIEvIsT",
        "colab_type": "code",
        "colab": {}
      },
      "source": [
        "# values : 통계량을 계산할 열 , index와 column인자는 각각 그 값을 피벗 테이블의 인덱스와 컬럼으로 사용할 열, aggfunc : 적용할 통계 함수\n",
        "total_votes = primary.pivot_table(values = \"votes\", index = \"state\", columns = \"candidate\", aggfunc= \"sum\", fill_value=0)"
      ],
      "execution_count": 0,
      "outputs": []
    },
    {
      "cell_type": "code",
      "metadata": {
        "id": "OLPzMrgCvsWO",
        "colab_type": "code",
        "colab": {
          "base_uri": "https://localhost:8080/",
          "height": 252
        },
        "outputId": "af35b9eb-24cf-4605-853c-071285202702"
      },
      "source": [
        "total_votes.head()"
      ],
      "execution_count": 73,
      "outputs": [
        {
          "output_type": "execute_result",
          "data": {
            "text/html": [
              "<div>\n",
              "<style scoped>\n",
              "    .dataframe tbody tr th:only-of-type {\n",
              "        vertical-align: middle;\n",
              "    }\n",
              "\n",
              "    .dataframe tbody tr th {\n",
              "        vertical-align: top;\n",
              "    }\n",
              "\n",
              "    .dataframe thead th {\n",
              "        text-align: right;\n",
              "    }\n",
              "</style>\n",
              "<table border=\"1\" class=\"dataframe\">\n",
              "  <thead>\n",
              "    <tr style=\"text-align: right;\">\n",
              "      <th>candidate</th>\n",
              "      <th>No Preference</th>\n",
              "      <th>Uncommitted</th>\n",
              "      <th>Ben Carson</th>\n",
              "      <th>Bernie Sanders</th>\n",
              "      <th>Carly Fiorina</th>\n",
              "      <th>Chris Christie</th>\n",
              "      <th>Donald Trump</th>\n",
              "      <th>Hillary Clinton</th>\n",
              "      <th>Jeb Bush</th>\n",
              "      <th>John Kasich</th>\n",
              "      <th>Marco Rubio</th>\n",
              "      <th>Martin O'Malley</th>\n",
              "      <th>Mike Huckabee</th>\n",
              "      <th>Rand Paul</th>\n",
              "      <th>Rick Santorum</th>\n",
              "      <th>Ted Cruz</th>\n",
              "    </tr>\n",
              "    <tr>\n",
              "      <th>state</th>\n",
              "      <th></th>\n",
              "      <th></th>\n",
              "      <th></th>\n",
              "      <th></th>\n",
              "      <th></th>\n",
              "      <th></th>\n",
              "      <th></th>\n",
              "      <th></th>\n",
              "      <th></th>\n",
              "      <th></th>\n",
              "      <th></th>\n",
              "      <th></th>\n",
              "      <th></th>\n",
              "      <th></th>\n",
              "      <th></th>\n",
              "      <th></th>\n",
              "    </tr>\n",
              "  </thead>\n",
              "  <tbody>\n",
              "    <tr>\n",
              "      <th>Alabama</th>\n",
              "      <td>0</td>\n",
              "      <td>0</td>\n",
              "      <td>87517</td>\n",
              "      <td>76399</td>\n",
              "      <td>0</td>\n",
              "      <td>0</td>\n",
              "      <td>371735</td>\n",
              "      <td>309928</td>\n",
              "      <td>0</td>\n",
              "      <td>37970</td>\n",
              "      <td>159802</td>\n",
              "      <td>0</td>\n",
              "      <td>0</td>\n",
              "      <td>0</td>\n",
              "      <td>0</td>\n",
              "      <td>180608</td>\n",
              "    </tr>\n",
              "    <tr>\n",
              "      <th>Alaska</th>\n",
              "      <td>0</td>\n",
              "      <td>0</td>\n",
              "      <td>2401</td>\n",
              "      <td>440</td>\n",
              "      <td>0</td>\n",
              "      <td>0</td>\n",
              "      <td>7346</td>\n",
              "      <td>99</td>\n",
              "      <td>0</td>\n",
              "      <td>892</td>\n",
              "      <td>3318</td>\n",
              "      <td>0</td>\n",
              "      <td>0</td>\n",
              "      <td>0</td>\n",
              "      <td>0</td>\n",
              "      <td>7973</td>\n",
              "    </tr>\n",
              "    <tr>\n",
              "      <th>Arizona</th>\n",
              "      <td>0</td>\n",
              "      <td>0</td>\n",
              "      <td>0</td>\n",
              "      <td>163400</td>\n",
              "      <td>0</td>\n",
              "      <td>0</td>\n",
              "      <td>249916</td>\n",
              "      <td>235697</td>\n",
              "      <td>0</td>\n",
              "      <td>53040</td>\n",
              "      <td>0</td>\n",
              "      <td>0</td>\n",
              "      <td>0</td>\n",
              "      <td>0</td>\n",
              "      <td>0</td>\n",
              "      <td>132147</td>\n",
              "    </tr>\n",
              "    <tr>\n",
              "      <th>Arkansas</th>\n",
              "      <td>0</td>\n",
              "      <td>0</td>\n",
              "      <td>23173</td>\n",
              "      <td>64868</td>\n",
              "      <td>0</td>\n",
              "      <td>0</td>\n",
              "      <td>133144</td>\n",
              "      <td>144580</td>\n",
              "      <td>0</td>\n",
              "      <td>15098</td>\n",
              "      <td>101235</td>\n",
              "      <td>0</td>\n",
              "      <td>0</td>\n",
              "      <td>0</td>\n",
              "      <td>0</td>\n",
              "      <td>123873</td>\n",
              "    </tr>\n",
              "    <tr>\n",
              "      <th>California</th>\n",
              "      <td>0</td>\n",
              "      <td>0</td>\n",
              "      <td>0</td>\n",
              "      <td>1502043</td>\n",
              "      <td>0</td>\n",
              "      <td>0</td>\n",
              "      <td>1174829</td>\n",
              "      <td>1940580</td>\n",
              "      <td>0</td>\n",
              "      <td>176620</td>\n",
              "      <td>0</td>\n",
              "      <td>0</td>\n",
              "      <td>0</td>\n",
              "      <td>0</td>\n",
              "      <td>0</td>\n",
              "      <td>144125</td>\n",
              "    </tr>\n",
              "  </tbody>\n",
              "</table>\n",
              "</div>"
            ],
            "text/plain": [
              "candidate    No Preference   Uncommitted  ...  Rick Santorum  Ted Cruz\n",
              "state                                     ...                         \n",
              "Alabama                  0             0  ...              0    180608\n",
              "Alaska                   0             0  ...              0      7973\n",
              "Arizona                  0             0  ...              0    132147\n",
              "Arkansas                 0             0  ...              0    123873\n",
              "California               0             0  ...              0    144125\n",
              "\n",
              "[5 rows x 16 columns]"
            ]
          },
          "metadata": {
            "tags": []
          },
          "execution_count": 73
        }
      ]
    },
    {
      "cell_type": "code",
      "metadata": {
        "id": "lJz7YQdIvvjA",
        "colab_type": "code",
        "colab": {
          "base_uri": "https://localhost:8080/",
          "height": 1000
        },
        "outputId": "48fdb661-d949-476f-91a8-dc51de84c53a"
      },
      "source": [
        "primary.pivot_table(values = \"fraction_votes\", index = \"state_abbreviation\", columns = \"party\", aggfunc = \"mean\")"
      ],
      "execution_count": 75,
      "outputs": [
        {
          "output_type": "execute_result",
          "data": {
            "text/html": [
              "<div>\n",
              "<style scoped>\n",
              "    .dataframe tbody tr th:only-of-type {\n",
              "        vertical-align: middle;\n",
              "    }\n",
              "\n",
              "    .dataframe tbody tr th {\n",
              "        vertical-align: top;\n",
              "    }\n",
              "\n",
              "    .dataframe thead th {\n",
              "        text-align: right;\n",
              "    }\n",
              "</style>\n",
              "<table border=\"1\" class=\"dataframe\">\n",
              "  <thead>\n",
              "    <tr style=\"text-align: right;\">\n",
              "      <th>party</th>\n",
              "      <th>Democrat</th>\n",
              "      <th>Republican</th>\n",
              "    </tr>\n",
              "    <tr>\n",
              "      <th>state_abbreviation</th>\n",
              "      <th></th>\n",
              "      <th></th>\n",
              "    </tr>\n",
              "  </thead>\n",
              "  <tbody>\n",
              "    <tr>\n",
              "      <th>AK</th>\n",
              "      <td>0.500000</td>\n",
              "      <td>0.200020</td>\n",
              "    </tr>\n",
              "    <tr>\n",
              "      <th>AL</th>\n",
              "      <td>0.477000</td>\n",
              "      <td>0.195310</td>\n",
              "    </tr>\n",
              "    <tr>\n",
              "      <th>AR</th>\n",
              "      <td>0.464973</td>\n",
              "      <td>0.191971</td>\n",
              "    </tr>\n",
              "    <tr>\n",
              "      <th>AZ</th>\n",
              "      <td>0.478433</td>\n",
              "      <td>0.283867</td>\n",
              "    </tr>\n",
              "    <tr>\n",
              "      <th>CA</th>\n",
              "      <td>0.492603</td>\n",
              "      <td>0.318644</td>\n",
              "    </tr>\n",
              "    <tr>\n",
              "      <th>CO</th>\n",
              "      <td>0.481016</td>\n",
              "      <td>NaN</td>\n",
              "    </tr>\n",
              "    <tr>\n",
              "      <th>CT</th>\n",
              "      <td>0.490006</td>\n",
              "      <td>0.325751</td>\n",
              "    </tr>\n",
              "    <tr>\n",
              "      <th>DE</th>\n",
              "      <td>0.492833</td>\n",
              "      <td>0.323444</td>\n",
              "    </tr>\n",
              "    <tr>\n",
              "      <th>FL</th>\n",
              "      <td>0.469821</td>\n",
              "      <td>0.242444</td>\n",
              "    </tr>\n",
              "    <tr>\n",
              "      <th>GA</th>\n",
              "      <td>0.493560</td>\n",
              "      <td>0.196938</td>\n",
              "    </tr>\n",
              "    <tr>\n",
              "      <th>HI</th>\n",
              "      <td>0.499125</td>\n",
              "      <td>0.247250</td>\n",
              "    </tr>\n",
              "    <tr>\n",
              "      <th>IA</th>\n",
              "      <td>0.250003</td>\n",
              "      <td>0.090856</td>\n",
              "    </tr>\n",
              "    <tr>\n",
              "      <th>ID</th>\n",
              "      <td>0.494852</td>\n",
              "      <td>0.240648</td>\n",
              "    </tr>\n",
              "    <tr>\n",
              "      <th>IL</th>\n",
              "      <td>0.490136</td>\n",
              "      <td>0.242121</td>\n",
              "    </tr>\n",
              "    <tr>\n",
              "      <th>IN</th>\n",
              "      <td>0.500000</td>\n",
              "      <td>0.324326</td>\n",
              "    </tr>\n",
              "    <tr>\n",
              "      <th>KS</th>\n",
              "      <td>0.500000</td>\n",
              "      <td>0.247250</td>\n",
              "    </tr>\n",
              "    <tr>\n",
              "      <th>KY</th>\n",
              "      <td>0.454579</td>\n",
              "      <td>0.245298</td>\n",
              "    </tr>\n",
              "    <tr>\n",
              "      <th>LA</th>\n",
              "      <td>0.452469</td>\n",
              "      <td>0.241039</td>\n",
              "    </tr>\n",
              "    <tr>\n",
              "      <th>MA</th>\n",
              "      <td>0.330797</td>\n",
              "      <td>0.193610</td>\n",
              "    </tr>\n",
              "    <tr>\n",
              "      <th>MD</th>\n",
              "      <td>0.467729</td>\n",
              "      <td>0.320917</td>\n",
              "    </tr>\n",
              "    <tr>\n",
              "      <th>ME</th>\n",
              "      <td>0.419019</td>\n",
              "      <td>NaN</td>\n",
              "    </tr>\n",
              "    <tr>\n",
              "      <th>MI</th>\n",
              "      <td>0.487898</td>\n",
              "      <td>0.237316</td>\n",
              "    </tr>\n",
              "    <tr>\n",
              "      <th>MO</th>\n",
              "      <td>0.489509</td>\n",
              "      <td>0.243270</td>\n",
              "    </tr>\n",
              "    <tr>\n",
              "      <th>MS</th>\n",
              "      <td>0.493610</td>\n",
              "      <td>0.243381</td>\n",
              "    </tr>\n",
              "    <tr>\n",
              "      <th>MT</th>\n",
              "      <td>0.469205</td>\n",
              "      <td>0.300048</td>\n",
              "    </tr>\n",
              "    <tr>\n",
              "      <th>NC</th>\n",
              "      <td>0.462345</td>\n",
              "      <td>0.242882</td>\n",
              "    </tr>\n",
              "    <tr>\n",
              "      <th>ND</th>\n",
              "      <td>0.450415</td>\n",
              "      <td>NaN</td>\n",
              "    </tr>\n",
              "    <tr>\n",
              "      <th>NE</th>\n",
              "      <td>0.489258</td>\n",
              "      <td>0.304194</td>\n",
              "    </tr>\n",
              "    <tr>\n",
              "      <th>NH</th>\n",
              "      <td>0.500000</td>\n",
              "      <td>0.125000</td>\n",
              "    </tr>\n",
              "    <tr>\n",
              "      <th>NJ</th>\n",
              "      <td>0.500000</td>\n",
              "      <td>0.333333</td>\n",
              "    </tr>\n",
              "    <tr>\n",
              "      <th>NM</th>\n",
              "      <td>0.500015</td>\n",
              "      <td>0.304091</td>\n",
              "    </tr>\n",
              "    <tr>\n",
              "      <th>NV</th>\n",
              "      <td>0.498559</td>\n",
              "      <td>0.199047</td>\n",
              "    </tr>\n",
              "    <tr>\n",
              "      <th>NY</th>\n",
              "      <td>0.500000</td>\n",
              "      <td>0.333317</td>\n",
              "    </tr>\n",
              "    <tr>\n",
              "      <th>OH</th>\n",
              "      <td>0.492199</td>\n",
              "      <td>0.245074</td>\n",
              "    </tr>\n",
              "    <tr>\n",
              "      <th>OK</th>\n",
              "      <td>0.442182</td>\n",
              "      <td>0.196790</td>\n",
              "    </tr>\n",
              "    <tr>\n",
              "      <th>OR</th>\n",
              "      <td>0.500000</td>\n",
              "      <td>0.333352</td>\n",
              "    </tr>\n",
              "    <tr>\n",
              "      <th>PA</th>\n",
              "      <td>0.492522</td>\n",
              "      <td>0.325527</td>\n",
              "    </tr>\n",
              "    <tr>\n",
              "      <th>RI</th>\n",
              "      <td>0.491024</td>\n",
              "      <td>0.328683</td>\n",
              "    </tr>\n",
              "    <tr>\n",
              "      <th>SC</th>\n",
              "      <td>0.496587</td>\n",
              "      <td>0.166649</td>\n",
              "    </tr>\n",
              "    <tr>\n",
              "      <th>SD</th>\n",
              "      <td>0.500000</td>\n",
              "      <td>0.333394</td>\n",
              "    </tr>\n",
              "    <tr>\n",
              "      <th>TN</th>\n",
              "      <td>0.486184</td>\n",
              "      <td>0.195865</td>\n",
              "    </tr>\n",
              "    <tr>\n",
              "      <th>TX</th>\n",
              "      <td>0.479587</td>\n",
              "      <td>0.191356</td>\n",
              "    </tr>\n",
              "    <tr>\n",
              "      <th>UT</th>\n",
              "      <td>0.438103</td>\n",
              "      <td>0.333379</td>\n",
              "    </tr>\n",
              "    <tr>\n",
              "      <th>VA</th>\n",
              "      <td>0.496838</td>\n",
              "      <td>0.197638</td>\n",
              "    </tr>\n",
              "    <tr>\n",
              "      <th>VT</th>\n",
              "      <td>0.498407</td>\n",
              "      <td>0.191951</td>\n",
              "    </tr>\n",
              "    <tr>\n",
              "      <th>WA</th>\n",
              "      <td>0.498692</td>\n",
              "      <td>0.319778</td>\n",
              "    </tr>\n",
              "    <tr>\n",
              "      <th>WI</th>\n",
              "      <td>0.497597</td>\n",
              "      <td>0.323593</td>\n",
              "    </tr>\n",
              "    <tr>\n",
              "      <th>WV</th>\n",
              "      <td>0.431200</td>\n",
              "      <td>0.310333</td>\n",
              "    </tr>\n",
              "    <tr>\n",
              "      <th>WY</th>\n",
              "      <td>0.500000</td>\n",
              "      <td>0.235333</td>\n",
              "    </tr>\n",
              "  </tbody>\n",
              "</table>\n",
              "</div>"
            ],
            "text/plain": [
              "party               Democrat  Republican\n",
              "state_abbreviation                      \n",
              "AK                  0.500000    0.200020\n",
              "AL                  0.477000    0.195310\n",
              "AR                  0.464973    0.191971\n",
              "AZ                  0.478433    0.283867\n",
              "CA                  0.492603    0.318644\n",
              "CO                  0.481016         NaN\n",
              "CT                  0.490006    0.325751\n",
              "DE                  0.492833    0.323444\n",
              "FL                  0.469821    0.242444\n",
              "GA                  0.493560    0.196938\n",
              "HI                  0.499125    0.247250\n",
              "IA                  0.250003    0.090856\n",
              "ID                  0.494852    0.240648\n",
              "IL                  0.490136    0.242121\n",
              "IN                  0.500000    0.324326\n",
              "KS                  0.500000    0.247250\n",
              "KY                  0.454579    0.245298\n",
              "LA                  0.452469    0.241039\n",
              "MA                  0.330797    0.193610\n",
              "MD                  0.467729    0.320917\n",
              "ME                  0.419019         NaN\n",
              "MI                  0.487898    0.237316\n",
              "MO                  0.489509    0.243270\n",
              "MS                  0.493610    0.243381\n",
              "MT                  0.469205    0.300048\n",
              "NC                  0.462345    0.242882\n",
              "ND                  0.450415         NaN\n",
              "NE                  0.489258    0.304194\n",
              "NH                  0.500000    0.125000\n",
              "NJ                  0.500000    0.333333\n",
              "NM                  0.500015    0.304091\n",
              "NV                  0.498559    0.199047\n",
              "NY                  0.500000    0.333317\n",
              "OH                  0.492199    0.245074\n",
              "OK                  0.442182    0.196790\n",
              "OR                  0.500000    0.333352\n",
              "PA                  0.492522    0.325527\n",
              "RI                  0.491024    0.328683\n",
              "SC                  0.496587    0.166649\n",
              "SD                  0.500000    0.333394\n",
              "TN                  0.486184    0.195865\n",
              "TX                  0.479587    0.191356\n",
              "UT                  0.438103    0.333379\n",
              "VA                  0.496838    0.197638\n",
              "VT                  0.498407    0.191951\n",
              "WA                  0.498692    0.319778\n",
              "WI                  0.497597    0.323593\n",
              "WV                  0.431200    0.310333\n",
              "WY                  0.500000    0.235333"
            ]
          },
          "metadata": {
            "tags": []
          },
          "execution_count": 75
        }
      ]
    },
    {
      "cell_type": "code",
      "metadata": {
        "id": "DfFMfy5AwQLz",
        "colab_type": "code",
        "colab": {}
      },
      "source": [
        ""
      ],
      "execution_count": 0,
      "outputs": []
    }
  ]
}