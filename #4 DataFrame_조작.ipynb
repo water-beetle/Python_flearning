{
  "nbformat": 4,
  "nbformat_minor": 0,
  "metadata": {
    "colab": {
      "name": "#4 DataFrame 조작.ipynb",
      "provenance": [],
      "authorship_tag": "ABX9TyPyNO80LOjdGrWRiZqVUEUd",
      "include_colab_link": true
    },
    "kernelspec": {
      "name": "python3",
      "display_name": "Python 3"
    }
  },
  "cells": [
    {
      "cell_type": "markdown",
      "metadata": {
        "id": "view-in-github",
        "colab_type": "text"
      },
      "source": [
        "<a href=\"https://colab.research.google.com/github/water-beetle/Python_flearning/blob/master/%234%20DataFrame_%EC%A1%B0%EC%9E%91.ipynb\" target=\"_parent\"><img src=\"https://colab.research.google.com/assets/colab-badge.svg\" alt=\"Open In Colab\"/></a>"
      ]
    },
    {
      "cell_type": "code",
      "metadata": {
        "id": "yIj16J44UZgt",
        "colab_type": "code",
        "colab": {}
      },
      "source": [
        "import pandas as pd\n",
        "import numpy as np"
      ],
      "execution_count": 0,
      "outputs": []
    },
    {
      "cell_type": "code",
      "metadata": {
        "id": "a57yqCi8UiFi",
        "colab_type": "code",
        "colab": {}
      },
      "source": [
        "df = pd.DataFrame(np.random.randn(6,4))"
      ],
      "execution_count": 0,
      "outputs": []
    },
    {
      "cell_type": "code",
      "metadata": {
        "id": "jaHqj2xmUxsn",
        "colab_type": "code",
        "colab": {
          "base_uri": "https://localhost:8080/",
          "height": 235
        },
        "outputId": "ef14bbe9-ed19-4ca2-9f90-915e7d6f0c6a"
      },
      "source": [
        "df"
      ],
      "execution_count": 3,
      "outputs": [
        {
          "output_type": "execute_result",
          "data": {
            "text/html": [
              "<div>\n",
              "<style scoped>\n",
              "    .dataframe tbody tr th:only-of-type {\n",
              "        vertical-align: middle;\n",
              "    }\n",
              "\n",
              "    .dataframe tbody tr th {\n",
              "        vertical-align: top;\n",
              "    }\n",
              "\n",
              "    .dataframe thead th {\n",
              "        text-align: right;\n",
              "    }\n",
              "</style>\n",
              "<table border=\"1\" class=\"dataframe\">\n",
              "  <thead>\n",
              "    <tr style=\"text-align: right;\">\n",
              "      <th></th>\n",
              "      <th>0</th>\n",
              "      <th>1</th>\n",
              "      <th>2</th>\n",
              "      <th>3</th>\n",
              "    </tr>\n",
              "  </thead>\n",
              "  <tbody>\n",
              "    <tr>\n",
              "      <th>0</th>\n",
              "      <td>-0.261320</td>\n",
              "      <td>-0.484210</td>\n",
              "      <td>-0.143086</td>\n",
              "      <td>2.223199</td>\n",
              "    </tr>\n",
              "    <tr>\n",
              "      <th>1</th>\n",
              "      <td>2.203539</td>\n",
              "      <td>-1.670082</td>\n",
              "      <td>1.246590</td>\n",
              "      <td>-2.067165</td>\n",
              "    </tr>\n",
              "    <tr>\n",
              "      <th>2</th>\n",
              "      <td>-0.461267</td>\n",
              "      <td>1.477985</td>\n",
              "      <td>-1.292541</td>\n",
              "      <td>-0.165198</td>\n",
              "    </tr>\n",
              "    <tr>\n",
              "      <th>3</th>\n",
              "      <td>-1.966513</td>\n",
              "      <td>1.458140</td>\n",
              "      <td>-1.134808</td>\n",
              "      <td>0.725042</td>\n",
              "    </tr>\n",
              "    <tr>\n",
              "      <th>4</th>\n",
              "      <td>0.032774</td>\n",
              "      <td>-0.599903</td>\n",
              "      <td>-0.023061</td>\n",
              "      <td>-0.887420</td>\n",
              "    </tr>\n",
              "    <tr>\n",
              "      <th>5</th>\n",
              "      <td>-0.344341</td>\n",
              "      <td>-2.455187</td>\n",
              "      <td>1.667007</td>\n",
              "      <td>-0.746826</td>\n",
              "    </tr>\n",
              "  </tbody>\n",
              "</table>\n",
              "</div>"
            ],
            "text/plain": [
              "          0         1         2         3\n",
              "0 -0.261320 -0.484210 -0.143086  2.223199\n",
              "1  2.203539 -1.670082  1.246590 -2.067165\n",
              "2 -0.461267  1.477985 -1.292541 -0.165198\n",
              "3 -1.966513  1.458140 -1.134808  0.725042\n",
              "4  0.032774 -0.599903 -0.023061 -0.887420\n",
              "5 -0.344341 -2.455187  1.667007 -0.746826"
            ]
          },
          "metadata": {
            "tags": []
          },
          "execution_count": 3
        }
      ]
    },
    {
      "cell_type": "code",
      "metadata": {
        "id": "KGSOUCYNUyOO",
        "colab_type": "code",
        "colab": {}
      },
      "source": [
        "df.columns = [\"A\",\"B\",\"C\",\"D\"]\n",
        "df.index = pd.date_range(\"20200210\", periods = 6)"
      ],
      "execution_count": 0,
      "outputs": []
    },
    {
      "cell_type": "code",
      "metadata": {
        "id": "HZbrATwvU_x2",
        "colab_type": "code",
        "colab": {
          "base_uri": "https://localhost:8080/",
          "height": 74
        },
        "outputId": "329bcd4f-4af5-4d3b-de51-9fa288418def"
      },
      "source": [
        "df.index"
      ],
      "execution_count": 8,
      "outputs": [
        {
          "output_type": "execute_result",
          "data": {
            "text/plain": [
              "DatetimeIndex(['2020-02-10', '2020-02-11', '2020-02-12', '2020-02-13',\n",
              "               '2020-02-14', '2020-02-15'],\n",
              "              dtype='datetime64[ns]', freq='D')"
            ]
          },
          "metadata": {
            "tags": []
          },
          "execution_count": 8
        }
      ]
    },
    {
      "cell_type": "code",
      "metadata": {
        "id": "fs-_DOzBVUkv",
        "colab_type": "code",
        "colab": {
          "base_uri": "https://localhost:8080/",
          "height": 235
        },
        "outputId": "ed8d8f8f-7b03-4a48-fe60-25866718bc78"
      },
      "source": [
        "df"
      ],
      "execution_count": 9,
      "outputs": [
        {
          "output_type": "execute_result",
          "data": {
            "text/html": [
              "<div>\n",
              "<style scoped>\n",
              "    .dataframe tbody tr th:only-of-type {\n",
              "        vertical-align: middle;\n",
              "    }\n",
              "\n",
              "    .dataframe tbody tr th {\n",
              "        vertical-align: top;\n",
              "    }\n",
              "\n",
              "    .dataframe thead th {\n",
              "        text-align: right;\n",
              "    }\n",
              "</style>\n",
              "<table border=\"1\" class=\"dataframe\">\n",
              "  <thead>\n",
              "    <tr style=\"text-align: right;\">\n",
              "      <th></th>\n",
              "      <th>A</th>\n",
              "      <th>B</th>\n",
              "      <th>C</th>\n",
              "      <th>D</th>\n",
              "    </tr>\n",
              "  </thead>\n",
              "  <tbody>\n",
              "    <tr>\n",
              "      <th>2020-02-10</th>\n",
              "      <td>-0.261320</td>\n",
              "      <td>-0.484210</td>\n",
              "      <td>-0.143086</td>\n",
              "      <td>2.223199</td>\n",
              "    </tr>\n",
              "    <tr>\n",
              "      <th>2020-02-11</th>\n",
              "      <td>2.203539</td>\n",
              "      <td>-1.670082</td>\n",
              "      <td>1.246590</td>\n",
              "      <td>-2.067165</td>\n",
              "    </tr>\n",
              "    <tr>\n",
              "      <th>2020-02-12</th>\n",
              "      <td>-0.461267</td>\n",
              "      <td>1.477985</td>\n",
              "      <td>-1.292541</td>\n",
              "      <td>-0.165198</td>\n",
              "    </tr>\n",
              "    <tr>\n",
              "      <th>2020-02-13</th>\n",
              "      <td>-1.966513</td>\n",
              "      <td>1.458140</td>\n",
              "      <td>-1.134808</td>\n",
              "      <td>0.725042</td>\n",
              "    </tr>\n",
              "    <tr>\n",
              "      <th>2020-02-14</th>\n",
              "      <td>0.032774</td>\n",
              "      <td>-0.599903</td>\n",
              "      <td>-0.023061</td>\n",
              "      <td>-0.887420</td>\n",
              "    </tr>\n",
              "    <tr>\n",
              "      <th>2020-02-15</th>\n",
              "      <td>-0.344341</td>\n",
              "      <td>-2.455187</td>\n",
              "      <td>1.667007</td>\n",
              "      <td>-0.746826</td>\n",
              "    </tr>\n",
              "  </tbody>\n",
              "</table>\n",
              "</div>"
            ],
            "text/plain": [
              "                   A         B         C         D\n",
              "2020-02-10 -0.261320 -0.484210 -0.143086  2.223199\n",
              "2020-02-11  2.203539 -1.670082  1.246590 -2.067165\n",
              "2020-02-12 -0.461267  1.477985 -1.292541 -0.165198\n",
              "2020-02-13 -1.966513  1.458140 -1.134808  0.725042\n",
              "2020-02-14  0.032774 -0.599903 -0.023061 -0.887420\n",
              "2020-02-15 -0.344341 -2.455187  1.667007 -0.746826"
            ]
          },
          "metadata": {
            "tags": []
          },
          "execution_count": 9
        }
      ]
    },
    {
      "cell_type": "code",
      "metadata": {
        "id": "UkzWwPeIVVzM",
        "colab_type": "code",
        "colab": {}
      },
      "source": [
        "df[\"F\"] = [1.0, np.nan, 3.5, 6.1, np.nan, 7.0]"
      ],
      "execution_count": 0,
      "outputs": []
    },
    {
      "cell_type": "code",
      "metadata": {
        "id": "iE891rjFVc_O",
        "colab_type": "code",
        "colab": {
          "base_uri": "https://localhost:8080/",
          "height": 235
        },
        "outputId": "b91040a3-a695-4e61-a6b7-ca43f68d2a01"
      },
      "source": [
        "df"
      ],
      "execution_count": 11,
      "outputs": [
        {
          "output_type": "execute_result",
          "data": {
            "text/html": [
              "<div>\n",
              "<style scoped>\n",
              "    .dataframe tbody tr th:only-of-type {\n",
              "        vertical-align: middle;\n",
              "    }\n",
              "\n",
              "    .dataframe tbody tr th {\n",
              "        vertical-align: top;\n",
              "    }\n",
              "\n",
              "    .dataframe thead th {\n",
              "        text-align: right;\n",
              "    }\n",
              "</style>\n",
              "<table border=\"1\" class=\"dataframe\">\n",
              "  <thead>\n",
              "    <tr style=\"text-align: right;\">\n",
              "      <th></th>\n",
              "      <th>A</th>\n",
              "      <th>B</th>\n",
              "      <th>C</th>\n",
              "      <th>D</th>\n",
              "      <th>F</th>\n",
              "    </tr>\n",
              "  </thead>\n",
              "  <tbody>\n",
              "    <tr>\n",
              "      <th>2020-02-10</th>\n",
              "      <td>-0.261320</td>\n",
              "      <td>-0.484210</td>\n",
              "      <td>-0.143086</td>\n",
              "      <td>2.223199</td>\n",
              "      <td>1.0</td>\n",
              "    </tr>\n",
              "    <tr>\n",
              "      <th>2020-02-11</th>\n",
              "      <td>2.203539</td>\n",
              "      <td>-1.670082</td>\n",
              "      <td>1.246590</td>\n",
              "      <td>-2.067165</td>\n",
              "      <td>NaN</td>\n",
              "    </tr>\n",
              "    <tr>\n",
              "      <th>2020-02-12</th>\n",
              "      <td>-0.461267</td>\n",
              "      <td>1.477985</td>\n",
              "      <td>-1.292541</td>\n",
              "      <td>-0.165198</td>\n",
              "      <td>3.5</td>\n",
              "    </tr>\n",
              "    <tr>\n",
              "      <th>2020-02-13</th>\n",
              "      <td>-1.966513</td>\n",
              "      <td>1.458140</td>\n",
              "      <td>-1.134808</td>\n",
              "      <td>0.725042</td>\n",
              "      <td>6.1</td>\n",
              "    </tr>\n",
              "    <tr>\n",
              "      <th>2020-02-14</th>\n",
              "      <td>0.032774</td>\n",
              "      <td>-0.599903</td>\n",
              "      <td>-0.023061</td>\n",
              "      <td>-0.887420</td>\n",
              "      <td>NaN</td>\n",
              "    </tr>\n",
              "    <tr>\n",
              "      <th>2020-02-15</th>\n",
              "      <td>-0.344341</td>\n",
              "      <td>-2.455187</td>\n",
              "      <td>1.667007</td>\n",
              "      <td>-0.746826</td>\n",
              "      <td>7.0</td>\n",
              "    </tr>\n",
              "  </tbody>\n",
              "</table>\n",
              "</div>"
            ],
            "text/plain": [
              "                   A         B         C         D    F\n",
              "2020-02-10 -0.261320 -0.484210 -0.143086  2.223199  1.0\n",
              "2020-02-11  2.203539 -1.670082  1.246590 -2.067165  NaN\n",
              "2020-02-12 -0.461267  1.477985 -1.292541 -0.165198  3.5\n",
              "2020-02-13 -1.966513  1.458140 -1.134808  0.725042  6.1\n",
              "2020-02-14  0.032774 -0.599903 -0.023061 -0.887420  NaN\n",
              "2020-02-15 -0.344341 -2.455187  1.667007 -0.746826  7.0"
            ]
          },
          "metadata": {
            "tags": []
          },
          "execution_count": 11
        }
      ]
    },
    {
      "cell_type": "markdown",
      "metadata": {
        "id": "rGsvsmXNVnsN",
        "colab_type": "text"
      },
      "source": [
        "NaN이 포함된 열 삭제"
      ]
    },
    {
      "cell_type": "code",
      "metadata": {
        "id": "Gogx66mzVdn2",
        "colab_type": "code",
        "colab": {
          "base_uri": "https://localhost:8080/",
          "height": 173
        },
        "outputId": "b3e7660f-f3fb-42d6-966b-ec51a22c8c48"
      },
      "source": [
        "df.dropna(how=\"any\")"
      ],
      "execution_count": 12,
      "outputs": [
        {
          "output_type": "execute_result",
          "data": {
            "text/html": [
              "<div>\n",
              "<style scoped>\n",
              "    .dataframe tbody tr th:only-of-type {\n",
              "        vertical-align: middle;\n",
              "    }\n",
              "\n",
              "    .dataframe tbody tr th {\n",
              "        vertical-align: top;\n",
              "    }\n",
              "\n",
              "    .dataframe thead th {\n",
              "        text-align: right;\n",
              "    }\n",
              "</style>\n",
              "<table border=\"1\" class=\"dataframe\">\n",
              "  <thead>\n",
              "    <tr style=\"text-align: right;\">\n",
              "      <th></th>\n",
              "      <th>A</th>\n",
              "      <th>B</th>\n",
              "      <th>C</th>\n",
              "      <th>D</th>\n",
              "      <th>F</th>\n",
              "    </tr>\n",
              "  </thead>\n",
              "  <tbody>\n",
              "    <tr>\n",
              "      <th>2020-02-10</th>\n",
              "      <td>-0.261320</td>\n",
              "      <td>-0.484210</td>\n",
              "      <td>-0.143086</td>\n",
              "      <td>2.223199</td>\n",
              "      <td>1.0</td>\n",
              "    </tr>\n",
              "    <tr>\n",
              "      <th>2020-02-12</th>\n",
              "      <td>-0.461267</td>\n",
              "      <td>1.477985</td>\n",
              "      <td>-1.292541</td>\n",
              "      <td>-0.165198</td>\n",
              "      <td>3.5</td>\n",
              "    </tr>\n",
              "    <tr>\n",
              "      <th>2020-02-13</th>\n",
              "      <td>-1.966513</td>\n",
              "      <td>1.458140</td>\n",
              "      <td>-1.134808</td>\n",
              "      <td>0.725042</td>\n",
              "      <td>6.1</td>\n",
              "    </tr>\n",
              "    <tr>\n",
              "      <th>2020-02-15</th>\n",
              "      <td>-0.344341</td>\n",
              "      <td>-2.455187</td>\n",
              "      <td>1.667007</td>\n",
              "      <td>-0.746826</td>\n",
              "      <td>7.0</td>\n",
              "    </tr>\n",
              "  </tbody>\n",
              "</table>\n",
              "</div>"
            ],
            "text/plain": [
              "                   A         B         C         D    F\n",
              "2020-02-10 -0.261320 -0.484210 -0.143086  2.223199  1.0\n",
              "2020-02-12 -0.461267  1.477985 -1.292541 -0.165198  3.5\n",
              "2020-02-13 -1.966513  1.458140 -1.134808  0.725042  6.1\n",
              "2020-02-15 -0.344341 -2.455187  1.667007 -0.746826  7.0"
            ]
          },
          "metadata": {
            "tags": []
          },
          "execution_count": 12
        }
      ]
    },
    {
      "cell_type": "markdown",
      "metadata": {
        "id": "QA4k2A9VVvpE",
        "colab_type": "text"
      },
      "source": [
        "모든 행의 값이 NaN일때 열 삭제"
      ]
    },
    {
      "cell_type": "code",
      "metadata": {
        "id": "Z2OZwYOMVlhL",
        "colab_type": "code",
        "colab": {
          "base_uri": "https://localhost:8080/",
          "height": 235
        },
        "outputId": "dad28ca5-d1f0-4d28-f6e0-887bc0925e1f"
      },
      "source": [
        "df.dropna(how = \"all\")"
      ],
      "execution_count": 13,
      "outputs": [
        {
          "output_type": "execute_result",
          "data": {
            "text/html": [
              "<div>\n",
              "<style scoped>\n",
              "    .dataframe tbody tr th:only-of-type {\n",
              "        vertical-align: middle;\n",
              "    }\n",
              "\n",
              "    .dataframe tbody tr th {\n",
              "        vertical-align: top;\n",
              "    }\n",
              "\n",
              "    .dataframe thead th {\n",
              "        text-align: right;\n",
              "    }\n",
              "</style>\n",
              "<table border=\"1\" class=\"dataframe\">\n",
              "  <thead>\n",
              "    <tr style=\"text-align: right;\">\n",
              "      <th></th>\n",
              "      <th>A</th>\n",
              "      <th>B</th>\n",
              "      <th>C</th>\n",
              "      <th>D</th>\n",
              "      <th>F</th>\n",
              "    </tr>\n",
              "  </thead>\n",
              "  <tbody>\n",
              "    <tr>\n",
              "      <th>2020-02-10</th>\n",
              "      <td>-0.261320</td>\n",
              "      <td>-0.484210</td>\n",
              "      <td>-0.143086</td>\n",
              "      <td>2.223199</td>\n",
              "      <td>1.0</td>\n",
              "    </tr>\n",
              "    <tr>\n",
              "      <th>2020-02-11</th>\n",
              "      <td>2.203539</td>\n",
              "      <td>-1.670082</td>\n",
              "      <td>1.246590</td>\n",
              "      <td>-2.067165</td>\n",
              "      <td>NaN</td>\n",
              "    </tr>\n",
              "    <tr>\n",
              "      <th>2020-02-12</th>\n",
              "      <td>-0.461267</td>\n",
              "      <td>1.477985</td>\n",
              "      <td>-1.292541</td>\n",
              "      <td>-0.165198</td>\n",
              "      <td>3.5</td>\n",
              "    </tr>\n",
              "    <tr>\n",
              "      <th>2020-02-13</th>\n",
              "      <td>-1.966513</td>\n",
              "      <td>1.458140</td>\n",
              "      <td>-1.134808</td>\n",
              "      <td>0.725042</td>\n",
              "      <td>6.1</td>\n",
              "    </tr>\n",
              "    <tr>\n",
              "      <th>2020-02-14</th>\n",
              "      <td>0.032774</td>\n",
              "      <td>-0.599903</td>\n",
              "      <td>-0.023061</td>\n",
              "      <td>-0.887420</td>\n",
              "      <td>NaN</td>\n",
              "    </tr>\n",
              "    <tr>\n",
              "      <th>2020-02-15</th>\n",
              "      <td>-0.344341</td>\n",
              "      <td>-2.455187</td>\n",
              "      <td>1.667007</td>\n",
              "      <td>-0.746826</td>\n",
              "      <td>7.0</td>\n",
              "    </tr>\n",
              "  </tbody>\n",
              "</table>\n",
              "</div>"
            ],
            "text/plain": [
              "                   A         B         C         D    F\n",
              "2020-02-10 -0.261320 -0.484210 -0.143086  2.223199  1.0\n",
              "2020-02-11  2.203539 -1.670082  1.246590 -2.067165  NaN\n",
              "2020-02-12 -0.461267  1.477985 -1.292541 -0.165198  3.5\n",
              "2020-02-13 -1.966513  1.458140 -1.134808  0.725042  6.1\n",
              "2020-02-14  0.032774 -0.599903 -0.023061 -0.887420  NaN\n",
              "2020-02-15 -0.344341 -2.455187  1.667007 -0.746826  7.0"
            ]
          },
          "metadata": {
            "tags": []
          },
          "execution_count": 13
        }
      ]
    },
    {
      "cell_type": "markdown",
      "metadata": {
        "id": "tvBQBS_VV39i",
        "colab_type": "text"
      },
      "source": [
        "NaN을 실제 수치값으로 대체"
      ]
    },
    {
      "cell_type": "code",
      "metadata": {
        "id": "RpVili1JV1h_",
        "colab_type": "code",
        "colab": {
          "base_uri": "https://localhost:8080/",
          "height": 235
        },
        "outputId": "c52bfa8b-89a7-4422-d6d6-a4ce0c32e6e7"
      },
      "source": [
        "df.fillna(value=5.0)"
      ],
      "execution_count": 14,
      "outputs": [
        {
          "output_type": "execute_result",
          "data": {
            "text/html": [
              "<div>\n",
              "<style scoped>\n",
              "    .dataframe tbody tr th:only-of-type {\n",
              "        vertical-align: middle;\n",
              "    }\n",
              "\n",
              "    .dataframe tbody tr th {\n",
              "        vertical-align: top;\n",
              "    }\n",
              "\n",
              "    .dataframe thead th {\n",
              "        text-align: right;\n",
              "    }\n",
              "</style>\n",
              "<table border=\"1\" class=\"dataframe\">\n",
              "  <thead>\n",
              "    <tr style=\"text-align: right;\">\n",
              "      <th></th>\n",
              "      <th>A</th>\n",
              "      <th>B</th>\n",
              "      <th>C</th>\n",
              "      <th>D</th>\n",
              "      <th>F</th>\n",
              "    </tr>\n",
              "  </thead>\n",
              "  <tbody>\n",
              "    <tr>\n",
              "      <th>2020-02-10</th>\n",
              "      <td>-0.261320</td>\n",
              "      <td>-0.484210</td>\n",
              "      <td>-0.143086</td>\n",
              "      <td>2.223199</td>\n",
              "      <td>1.0</td>\n",
              "    </tr>\n",
              "    <tr>\n",
              "      <th>2020-02-11</th>\n",
              "      <td>2.203539</td>\n",
              "      <td>-1.670082</td>\n",
              "      <td>1.246590</td>\n",
              "      <td>-2.067165</td>\n",
              "      <td>5.0</td>\n",
              "    </tr>\n",
              "    <tr>\n",
              "      <th>2020-02-12</th>\n",
              "      <td>-0.461267</td>\n",
              "      <td>1.477985</td>\n",
              "      <td>-1.292541</td>\n",
              "      <td>-0.165198</td>\n",
              "      <td>3.5</td>\n",
              "    </tr>\n",
              "    <tr>\n",
              "      <th>2020-02-13</th>\n",
              "      <td>-1.966513</td>\n",
              "      <td>1.458140</td>\n",
              "      <td>-1.134808</td>\n",
              "      <td>0.725042</td>\n",
              "      <td>6.1</td>\n",
              "    </tr>\n",
              "    <tr>\n",
              "      <th>2020-02-14</th>\n",
              "      <td>0.032774</td>\n",
              "      <td>-0.599903</td>\n",
              "      <td>-0.023061</td>\n",
              "      <td>-0.887420</td>\n",
              "      <td>5.0</td>\n",
              "    </tr>\n",
              "    <tr>\n",
              "      <th>2020-02-15</th>\n",
              "      <td>-0.344341</td>\n",
              "      <td>-2.455187</td>\n",
              "      <td>1.667007</td>\n",
              "      <td>-0.746826</td>\n",
              "      <td>7.0</td>\n",
              "    </tr>\n",
              "  </tbody>\n",
              "</table>\n",
              "</div>"
            ],
            "text/plain": [
              "                   A         B         C         D    F\n",
              "2020-02-10 -0.261320 -0.484210 -0.143086  2.223199  1.0\n",
              "2020-02-11  2.203539 -1.670082  1.246590 -2.067165  5.0\n",
              "2020-02-12 -0.461267  1.477985 -1.292541 -0.165198  3.5\n",
              "2020-02-13 -1.966513  1.458140 -1.134808  0.725042  6.1\n",
              "2020-02-14  0.032774 -0.599903 -0.023061 -0.887420  5.0\n",
              "2020-02-15 -0.344341 -2.455187  1.667007 -0.746826  7.0"
            ]
          },
          "metadata": {
            "tags": []
          },
          "execution_count": 14
        }
      ]
    },
    {
      "cell_type": "code",
      "metadata": {
        "id": "4OoBJ72bV9Bq",
        "colab_type": "code",
        "colab": {
          "base_uri": "https://localhost:8080/",
          "height": 235
        },
        "outputId": "5857eddd-5d46-4c28-ee06-329e6b926540"
      },
      "source": [
        "df.isnull()"
      ],
      "execution_count": 16,
      "outputs": [
        {
          "output_type": "execute_result",
          "data": {
            "text/html": [
              "<div>\n",
              "<style scoped>\n",
              "    .dataframe tbody tr th:only-of-type {\n",
              "        vertical-align: middle;\n",
              "    }\n",
              "\n",
              "    .dataframe tbody tr th {\n",
              "        vertical-align: top;\n",
              "    }\n",
              "\n",
              "    .dataframe thead th {\n",
              "        text-align: right;\n",
              "    }\n",
              "</style>\n",
              "<table border=\"1\" class=\"dataframe\">\n",
              "  <thead>\n",
              "    <tr style=\"text-align: right;\">\n",
              "      <th></th>\n",
              "      <th>A</th>\n",
              "      <th>B</th>\n",
              "      <th>C</th>\n",
              "      <th>D</th>\n",
              "      <th>F</th>\n",
              "    </tr>\n",
              "  </thead>\n",
              "  <tbody>\n",
              "    <tr>\n",
              "      <th>2020-02-10</th>\n",
              "      <td>False</td>\n",
              "      <td>False</td>\n",
              "      <td>False</td>\n",
              "      <td>False</td>\n",
              "      <td>False</td>\n",
              "    </tr>\n",
              "    <tr>\n",
              "      <th>2020-02-11</th>\n",
              "      <td>False</td>\n",
              "      <td>False</td>\n",
              "      <td>False</td>\n",
              "      <td>False</td>\n",
              "      <td>True</td>\n",
              "    </tr>\n",
              "    <tr>\n",
              "      <th>2020-02-12</th>\n",
              "      <td>False</td>\n",
              "      <td>False</td>\n",
              "      <td>False</td>\n",
              "      <td>False</td>\n",
              "      <td>False</td>\n",
              "    </tr>\n",
              "    <tr>\n",
              "      <th>2020-02-13</th>\n",
              "      <td>False</td>\n",
              "      <td>False</td>\n",
              "      <td>False</td>\n",
              "      <td>False</td>\n",
              "      <td>False</td>\n",
              "    </tr>\n",
              "    <tr>\n",
              "      <th>2020-02-14</th>\n",
              "      <td>False</td>\n",
              "      <td>False</td>\n",
              "      <td>False</td>\n",
              "      <td>False</td>\n",
              "      <td>True</td>\n",
              "    </tr>\n",
              "    <tr>\n",
              "      <th>2020-02-15</th>\n",
              "      <td>False</td>\n",
              "      <td>False</td>\n",
              "      <td>False</td>\n",
              "      <td>False</td>\n",
              "      <td>False</td>\n",
              "    </tr>\n",
              "  </tbody>\n",
              "</table>\n",
              "</div>"
            ],
            "text/plain": [
              "                A      B      C      D      F\n",
              "2020-02-10  False  False  False  False  False\n",
              "2020-02-11  False  False  False  False   True\n",
              "2020-02-12  False  False  False  False  False\n",
              "2020-02-13  False  False  False  False  False\n",
              "2020-02-14  False  False  False  False   True\n",
              "2020-02-15  False  False  False  False  False"
            ]
          },
          "metadata": {
            "tags": []
          },
          "execution_count": 16
        }
      ]
    },
    {
      "cell_type": "code",
      "metadata": {
        "id": "uLbUehsAWAl-",
        "colab_type": "code",
        "colab": {
          "base_uri": "https://localhost:8080/",
          "height": 111
        },
        "outputId": "18ad8f6f-ae77-4a52-a07e-f6b69a18531b"
      },
      "source": [
        "df.loc[df.isnull()[\"F\"], :]"
      ],
      "execution_count": 18,
      "outputs": [
        {
          "output_type": "execute_result",
          "data": {
            "text/html": [
              "<div>\n",
              "<style scoped>\n",
              "    .dataframe tbody tr th:only-of-type {\n",
              "        vertical-align: middle;\n",
              "    }\n",
              "\n",
              "    .dataframe tbody tr th {\n",
              "        vertical-align: top;\n",
              "    }\n",
              "\n",
              "    .dataframe thead th {\n",
              "        text-align: right;\n",
              "    }\n",
              "</style>\n",
              "<table border=\"1\" class=\"dataframe\">\n",
              "  <thead>\n",
              "    <tr style=\"text-align: right;\">\n",
              "      <th></th>\n",
              "      <th>A</th>\n",
              "      <th>B</th>\n",
              "      <th>C</th>\n",
              "      <th>D</th>\n",
              "      <th>F</th>\n",
              "    </tr>\n",
              "  </thead>\n",
              "  <tbody>\n",
              "    <tr>\n",
              "      <th>2020-02-11</th>\n",
              "      <td>2.203539</td>\n",
              "      <td>-1.670082</td>\n",
              "      <td>1.246590</td>\n",
              "      <td>-2.067165</td>\n",
              "      <td>NaN</td>\n",
              "    </tr>\n",
              "    <tr>\n",
              "      <th>2020-02-14</th>\n",
              "      <td>0.032774</td>\n",
              "      <td>-0.599903</td>\n",
              "      <td>-0.023061</td>\n",
              "      <td>-0.887420</td>\n",
              "      <td>NaN</td>\n",
              "    </tr>\n",
              "  </tbody>\n",
              "</table>\n",
              "</div>"
            ],
            "text/plain": [
              "                   A         B         C         D   F\n",
              "2020-02-11  2.203539 -1.670082  1.246590 -2.067165 NaN\n",
              "2020-02-14  0.032774 -0.599903 -0.023061 -0.887420 NaN"
            ]
          },
          "metadata": {
            "tags": []
          },
          "execution_count": 18
        }
      ]
    },
    {
      "cell_type": "code",
      "metadata": {
        "id": "yBU-ECUBWKUF",
        "colab_type": "code",
        "colab": {
          "base_uri": "https://localhost:8080/",
          "height": 204
        },
        "outputId": "c13c6b2f-9844-410e-a7f3-585d955f7ced"
      },
      "source": [
        "df.drop(pd.to_datetime(\"20200210\"))"
      ],
      "execution_count": 19,
      "outputs": [
        {
          "output_type": "execute_result",
          "data": {
            "text/html": [
              "<div>\n",
              "<style scoped>\n",
              "    .dataframe tbody tr th:only-of-type {\n",
              "        vertical-align: middle;\n",
              "    }\n",
              "\n",
              "    .dataframe tbody tr th {\n",
              "        vertical-align: top;\n",
              "    }\n",
              "\n",
              "    .dataframe thead th {\n",
              "        text-align: right;\n",
              "    }\n",
              "</style>\n",
              "<table border=\"1\" class=\"dataframe\">\n",
              "  <thead>\n",
              "    <tr style=\"text-align: right;\">\n",
              "      <th></th>\n",
              "      <th>A</th>\n",
              "      <th>B</th>\n",
              "      <th>C</th>\n",
              "      <th>D</th>\n",
              "      <th>F</th>\n",
              "    </tr>\n",
              "  </thead>\n",
              "  <tbody>\n",
              "    <tr>\n",
              "      <th>2020-02-11</th>\n",
              "      <td>2.203539</td>\n",
              "      <td>-1.670082</td>\n",
              "      <td>1.246590</td>\n",
              "      <td>-2.067165</td>\n",
              "      <td>NaN</td>\n",
              "    </tr>\n",
              "    <tr>\n",
              "      <th>2020-02-12</th>\n",
              "      <td>-0.461267</td>\n",
              "      <td>1.477985</td>\n",
              "      <td>-1.292541</td>\n",
              "      <td>-0.165198</td>\n",
              "      <td>3.5</td>\n",
              "    </tr>\n",
              "    <tr>\n",
              "      <th>2020-02-13</th>\n",
              "      <td>-1.966513</td>\n",
              "      <td>1.458140</td>\n",
              "      <td>-1.134808</td>\n",
              "      <td>0.725042</td>\n",
              "      <td>6.1</td>\n",
              "    </tr>\n",
              "    <tr>\n",
              "      <th>2020-02-14</th>\n",
              "      <td>0.032774</td>\n",
              "      <td>-0.599903</td>\n",
              "      <td>-0.023061</td>\n",
              "      <td>-0.887420</td>\n",
              "      <td>NaN</td>\n",
              "    </tr>\n",
              "    <tr>\n",
              "      <th>2020-02-15</th>\n",
              "      <td>-0.344341</td>\n",
              "      <td>-2.455187</td>\n",
              "      <td>1.667007</td>\n",
              "      <td>-0.746826</td>\n",
              "      <td>7.0</td>\n",
              "    </tr>\n",
              "  </tbody>\n",
              "</table>\n",
              "</div>"
            ],
            "text/plain": [
              "                   A         B         C         D    F\n",
              "2020-02-11  2.203539 -1.670082  1.246590 -2.067165  NaN\n",
              "2020-02-12 -0.461267  1.477985 -1.292541 -0.165198  3.5\n",
              "2020-02-13 -1.966513  1.458140 -1.134808  0.725042  6.1\n",
              "2020-02-14  0.032774 -0.599903 -0.023061 -0.887420  NaN\n",
              "2020-02-15 -0.344341 -2.455187  1.667007 -0.746826  7.0"
            ]
          },
          "metadata": {
            "tags": []
          },
          "execution_count": 19
        }
      ]
    },
    {
      "cell_type": "code",
      "metadata": {
        "id": "VbazATV-WqSW",
        "colab_type": "code",
        "colab": {
          "base_uri": "https://localhost:8080/",
          "height": 235
        },
        "outputId": "cb066ddc-ea56-4a5f-94b5-443a5c4f9abd"
      },
      "source": [
        "#열삭제는 axis=1 추가\n",
        "df.drop(\"F\", axis=1)"
      ],
      "execution_count": 23,
      "outputs": [
        {
          "output_type": "execute_result",
          "data": {
            "text/html": [
              "<div>\n",
              "<style scoped>\n",
              "    .dataframe tbody tr th:only-of-type {\n",
              "        vertical-align: middle;\n",
              "    }\n",
              "\n",
              "    .dataframe tbody tr th {\n",
              "        vertical-align: top;\n",
              "    }\n",
              "\n",
              "    .dataframe thead th {\n",
              "        text-align: right;\n",
              "    }\n",
              "</style>\n",
              "<table border=\"1\" class=\"dataframe\">\n",
              "  <thead>\n",
              "    <tr style=\"text-align: right;\">\n",
              "      <th></th>\n",
              "      <th>A</th>\n",
              "      <th>B</th>\n",
              "      <th>C</th>\n",
              "      <th>D</th>\n",
              "    </tr>\n",
              "  </thead>\n",
              "  <tbody>\n",
              "    <tr>\n",
              "      <th>2020-02-10</th>\n",
              "      <td>-0.261320</td>\n",
              "      <td>-0.484210</td>\n",
              "      <td>-0.143086</td>\n",
              "      <td>2.223199</td>\n",
              "    </tr>\n",
              "    <tr>\n",
              "      <th>2020-02-11</th>\n",
              "      <td>2.203539</td>\n",
              "      <td>-1.670082</td>\n",
              "      <td>1.246590</td>\n",
              "      <td>-2.067165</td>\n",
              "    </tr>\n",
              "    <tr>\n",
              "      <th>2020-02-12</th>\n",
              "      <td>-0.461267</td>\n",
              "      <td>1.477985</td>\n",
              "      <td>-1.292541</td>\n",
              "      <td>-0.165198</td>\n",
              "    </tr>\n",
              "    <tr>\n",
              "      <th>2020-02-13</th>\n",
              "      <td>-1.966513</td>\n",
              "      <td>1.458140</td>\n",
              "      <td>-1.134808</td>\n",
              "      <td>0.725042</td>\n",
              "    </tr>\n",
              "    <tr>\n",
              "      <th>2020-02-14</th>\n",
              "      <td>0.032774</td>\n",
              "      <td>-0.599903</td>\n",
              "      <td>-0.023061</td>\n",
              "      <td>-0.887420</td>\n",
              "    </tr>\n",
              "    <tr>\n",
              "      <th>2020-02-15</th>\n",
              "      <td>-0.344341</td>\n",
              "      <td>-2.455187</td>\n",
              "      <td>1.667007</td>\n",
              "      <td>-0.746826</td>\n",
              "    </tr>\n",
              "  </tbody>\n",
              "</table>\n",
              "</div>"
            ],
            "text/plain": [
              "                   A         B         C         D\n",
              "2020-02-10 -0.261320 -0.484210 -0.143086  2.223199\n",
              "2020-02-11  2.203539 -1.670082  1.246590 -2.067165\n",
              "2020-02-12 -0.461267  1.477985 -1.292541 -0.165198\n",
              "2020-02-13 -1.966513  1.458140 -1.134808  0.725042\n",
              "2020-02-14  0.032774 -0.599903 -0.023061 -0.887420\n",
              "2020-02-15 -0.344341 -2.455187  1.667007 -0.746826"
            ]
          },
          "metadata": {
            "tags": []
          },
          "execution_count": 23
        }
      ]
    },
    {
      "cell_type": "code",
      "metadata": {
        "id": "cGud9pzUWv63",
        "colab_type": "code",
        "colab": {}
      },
      "source": [
        ""
      ],
      "execution_count": 0,
      "outputs": []
    }
  ]
}