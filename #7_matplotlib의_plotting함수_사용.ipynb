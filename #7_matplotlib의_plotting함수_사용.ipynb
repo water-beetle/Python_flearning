{
  "nbformat": 4,
  "nbformat_minor": 0,
  "metadata": {
    "colab": {
      "name": "#7 matplotlib의 plotting함수 사용.ipynb",
      "provenance": [],
      "authorship_tag": "ABX9TyMjTuUDWgpGMdWnbGX8iljv",
      "include_colab_link": true
    },
    "kernelspec": {
      "name": "python3",
      "display_name": "Python 3"
    }
  },
  "cells": [
    {
      "cell_type": "markdown",
      "metadata": {
        "id": "view-in-github",
        "colab_type": "text"
      },
      "source": [
        "<a href=\"https://colab.research.google.com/github/water-beetle/Python_flearning/blob/master/%237_matplotlib%EC%9D%98_plotting%ED%95%A8%EC%88%98_%EC%82%AC%EC%9A%A9.ipynb\" target=\"_parent\"><img src=\"https://colab.research.google.com/assets/colab-badge.svg\" alt=\"Open In Colab\"/></a>"
      ]
    },
    {
      "cell_type": "code",
      "metadata": {
        "id": "zPWHlCqdd_XB",
        "colab_type": "code",
        "colab": {}
      },
      "source": [
        "#생성되는 plot을 interactive하게 사용가능\n",
        "%matplotlib nbagg"
      ],
      "execution_count": 0,
      "outputs": []
    },
    {
      "cell_type": "code",
      "metadata": {
        "id": "Gd54Stclegfs",
        "colab_type": "code",
        "colab": {}
      },
      "source": [
        "#생성된 plot을 추가 조작 불가능\n",
        "#colab은 matplotlib에 대해 inline이 아닌 백엔드를 지원하지 않기 때문에 inline만 그래프 출력 가능 \n",
        "%matplotlib inline"
      ],
      "execution_count": 0,
      "outputs": []
    },
    {
      "cell_type": "code",
      "metadata": {
        "id": "VhQVzYu7ex1V",
        "colab_type": "code",
        "colab": {}
      },
      "source": [
        "import matplotlib\n",
        "import matplotlib.pyplot as plt\n",
        "import pandas as pd\n",
        "import numpy as np"
      ],
      "execution_count": 0,
      "outputs": []
    },
    {
      "cell_type": "code",
      "metadata": {
        "id": "Hz8ex8reez6q",
        "colab_type": "code",
        "colab": {}
      },
      "source": [
        "#cumsum은 누적함수\n",
        "s = pd.Series(np.random.randn(10).cumsum(), index=np.arange(0,100,10))"
      ],
      "execution_count": 0,
      "outputs": []
    },
    {
      "cell_type": "code",
      "metadata": {
        "id": "k0CjwUs0fBgD",
        "colab_type": "code",
        "colab": {
          "base_uri": "https://localhost:8080/",
          "height": 226
        },
        "outputId": "16d4a8f6-0939-47c2-c31d-388af1b9fe55"
      },
      "source": [
        "s"
      ],
      "execution_count": 4,
      "outputs": [
        {
          "output_type": "execute_result",
          "data": {
            "text/plain": [
              "0     0.410330\n",
              "10    1.889653\n",
              "20    1.814758\n",
              "30    0.869967\n",
              "40    0.829765\n",
              "50   -1.221918\n",
              "60   -2.302825\n",
              "70   -4.562562\n",
              "80   -4.472975\n",
              "90   -4.249296\n",
              "dtype: float64"
            ]
          },
          "metadata": {
            "tags": []
          },
          "execution_count": 4
        }
      ]
    },
    {
      "cell_type": "markdown",
      "metadata": {
        "id": "A8wVW4XJj8Vc",
        "colab_type": "text"
      },
      "source": [
        "#Line Plot"
      ]
    },
    {
      "cell_type": "code",
      "metadata": {
        "id": "Pk5ziCiqfJo_",
        "colab_type": "code",
        "colab": {
          "base_uri": "https://localhost:8080/",
          "height": 284
        },
        "outputId": "259b222b-a86c-42f1-cb37-07257446683d"
      },
      "source": [
        "s.plot()\n",
        "#plt.plot(s)"
      ],
      "execution_count": 4,
      "outputs": [
        {
          "output_type": "execute_result",
          "data": {
            "text/plain": [
              "<matplotlib.axes._subplots.AxesSubplot at 0x7f42b3eaea20>"
            ]
          },
          "metadata": {
            "tags": []
          },
          "execution_count": 4
        },
        {
          "output_type": "display_data",
          "data": {
            "image/png": "[encoded data removed]",
            "text/plain": [
              "<Figure size 432x288 with 1 Axes>"
            ]
          },
          "metadata": {
            "tags": []
          }
        }
      ]
    },
    {
      "cell_type": "code",
      "metadata": {
        "id": "m0TbC2sTgKAD",
        "colab_type": "code",
        "colab": {}
      },
      "source": [
        "df = pd.DataFrame(np.random.randn(10,4).cumsum(axis=0),\n",
        "                  columns = [\"A\", \"B\", \"C\", \"D\"],\n",
        "                  index=np.arange(0,100,10))"
      ],
      "execution_count": 0,
      "outputs": []
    },
    {
      "cell_type": "code",
      "metadata": {
        "id": "roBxS-cmiyBu",
        "colab_type": "code",
        "colab": {
          "base_uri": "https://localhost:8080/",
          "height": 359
        },
        "outputId": "6bfb55a9-edd9-4d65-f971-616949d9214d"
      },
      "source": [
        "df"
      ],
      "execution_count": 6,
      "outputs": [
        {
          "output_type": "execute_result",
          "data": {
            "text/html": [
              "<div>\n",
              "<style scoped>\n",
              "    .dataframe tbody tr th:only-of-type {\n",
              "        vertical-align: middle;\n",
              "    }\n",
              "\n",
              "    .dataframe tbody tr th {\n",
              "        vertical-align: top;\n",
              "    }\n",
              "\n",
              "    .dataframe thead th {\n",
              "        text-align: right;\n",
              "    }\n",
              "</style>\n",
              "<table border=\"1\" class=\"dataframe\">\n",
              "  <thead>\n",
              "    <tr style=\"text-align: right;\">\n",
              "      <th></th>\n",
              "      <th>A</th>\n",
              "      <th>B</th>\n",
              "      <th>C</th>\n",
              "      <th>D</th>\n",
              "    </tr>\n",
              "  </thead>\n",
              "  <tbody>\n",
              "    <tr>\n",
              "      <th>0</th>\n",
              "      <td>0.506977</td>\n",
              "      <td>-1.437475</td>\n",
              "      <td>-0.428563</td>\n",
              "      <td>0.319926</td>\n",
              "    </tr>\n",
              "    <tr>\n",
              "      <th>10</th>\n",
              "      <td>0.939820</td>\n",
              "      <td>-0.765169</td>\n",
              "      <td>0.502642</td>\n",
              "      <td>1.208367</td>\n",
              "    </tr>\n",
              "    <tr>\n",
              "      <th>20</th>\n",
              "      <td>2.246404</td>\n",
              "      <td>-1.909424</td>\n",
              "      <td>0.400679</td>\n",
              "      <td>0.974481</td>\n",
              "    </tr>\n",
              "    <tr>\n",
              "      <th>30</th>\n",
              "      <td>1.944864</td>\n",
              "      <td>-1.748908</td>\n",
              "      <td>-0.543203</td>\n",
              "      <td>-0.053137</td>\n",
              "    </tr>\n",
              "    <tr>\n",
              "      <th>40</th>\n",
              "      <td>1.727184</td>\n",
              "      <td>-0.773470</td>\n",
              "      <td>-0.243782</td>\n",
              "      <td>0.535641</td>\n",
              "    </tr>\n",
              "    <tr>\n",
              "      <th>50</th>\n",
              "      <td>2.949127</td>\n",
              "      <td>-1.030800</td>\n",
              "      <td>-0.825597</td>\n",
              "      <td>0.270033</td>\n",
              "    </tr>\n",
              "    <tr>\n",
              "      <th>60</th>\n",
              "      <td>4.344838</td>\n",
              "      <td>-0.857337</td>\n",
              "      <td>0.156193</td>\n",
              "      <td>0.463134</td>\n",
              "    </tr>\n",
              "    <tr>\n",
              "      <th>70</th>\n",
              "      <td>5.865301</td>\n",
              "      <td>-0.456552</td>\n",
              "      <td>0.028822</td>\n",
              "      <td>0.960150</td>\n",
              "    </tr>\n",
              "    <tr>\n",
              "      <th>80</th>\n",
              "      <td>4.645384</td>\n",
              "      <td>-0.593428</td>\n",
              "      <td>1.203706</td>\n",
              "      <td>1.842289</td>\n",
              "    </tr>\n",
              "    <tr>\n",
              "      <th>90</th>\n",
              "      <td>4.927512</td>\n",
              "      <td>-1.519063</td>\n",
              "      <td>0.066426</td>\n",
              "      <td>1.434596</td>\n",
              "    </tr>\n",
              "  </tbody>\n",
              "</table>\n",
              "</div>"
            ],
            "text/plain": [
              "           A         B         C         D\n",
              "0   0.506977 -1.437475 -0.428563  0.319926\n",
              "10  0.939820 -0.765169  0.502642  1.208367\n",
              "20  2.246404 -1.909424  0.400679  0.974481\n",
              "30  1.944864 -1.748908 -0.543203 -0.053137\n",
              "40  1.727184 -0.773470 -0.243782  0.535641\n",
              "50  2.949127 -1.030800 -0.825597  0.270033\n",
              "60  4.344838 -0.857337  0.156193  0.463134\n",
              "70  5.865301 -0.456552  0.028822  0.960150\n",
              "80  4.645384 -0.593428  1.203706  1.842289\n",
              "90  4.927512 -1.519063  0.066426  1.434596"
            ]
          },
          "metadata": {
            "tags": []
          },
          "execution_count": 6
        }
      ]
    },
    {
      "cell_type": "code",
      "metadata": {
        "id": "DM3w1UKbizpf",
        "colab_type": "code",
        "colab": {
          "base_uri": "https://localhost:8080/",
          "height": 284
        },
        "outputId": "ab7708cc-d73b-4c7b-cb69-ff7753a008a1"
      },
      "source": [
        "df.plot()"
      ],
      "execution_count": 7,
      "outputs": [
        {
          "output_type": "execute_result",
          "data": {
            "text/plain": [
              "<matplotlib.axes._subplots.AxesSubplot at 0x7f42b3115390>"
            ]
          },
          "metadata": {
            "tags": []
          },
          "execution_count": 7
        },
        {
          "output_type": "display_data",
          "data": {
            "image/png": "[encoded data removed]",
            "text/plain": [
              "<Figure size 432x288 with 1 Axes>"
            ]
          },
          "metadata": {
            "tags": []
          }
        }
      ]
    },
    {
      "cell_type": "code",
      "metadata": {
        "id": "e0nN_XEsi1e5",
        "colab_type": "code",
        "colab": {
          "base_uri": "https://localhost:8080/",
          "height": 286
        },
        "outputId": "d8028faa-341a-450c-e8ed-9600c1289fa9"
      },
      "source": [
        "df[\"B\"].plot()"
      ],
      "execution_count": 10,
      "outputs": [
        {
          "output_type": "execute_result",
          "data": {
            "text/plain": [
              "<matplotlib.axes._subplots.AxesSubplot at 0x7f42b2e65160>"
            ]
          },
          "metadata": {
            "tags": []
          },
          "execution_count": 10
        },
        {
          "output_type": "display_data",
          "data": {
            "image/png": "[encoded data removed]",
            "text/plain": [
              "<Figure size 432x288 with 1 Axes>"
            ]
          },
          "metadata": {
            "tags": []
          }
        }
      ]
    },
    {
      "cell_type": "markdown",
      "metadata": {
        "id": "XMDuFPdokBfb",
        "colab_type": "text"
      },
      "source": [
        "#Bar Plot"
      ]
    },
    {
      "cell_type": "code",
      "metadata": {
        "id": "GbUHn7lfjGNk",
        "colab_type": "code",
        "colab": {}
      },
      "source": [
        "s3 = pd.Series(np.random.randn(16), index = list(\"abcdefghijklmnop\"))"
      ],
      "execution_count": 0,
      "outputs": []
    },
    {
      "cell_type": "code",
      "metadata": {
        "id": "kdnQa1F4kRJd",
        "colab_type": "code",
        "colab": {
          "base_uri": "https://localhost:8080/",
          "height": 340
        },
        "outputId": "40ddcfaf-6b43-4f4a-e12f-4853e36abe78"
      },
      "source": [
        "s3"
      ],
      "execution_count": 19,
      "outputs": [
        {
          "output_type": "execute_result",
          "data": {
            "text/plain": [
              "a    1.165937\n",
              "b    1.266134\n",
              "c   -0.386705\n",
              "d    0.785983\n",
              "e   -1.809957\n",
              "f   -0.068730\n",
              "g    0.066137\n",
              "h    0.601127\n",
              "i   -1.238727\n",
              "j    0.174760\n",
              "k    0.552684\n",
              "l   -0.697948\n",
              "m   -1.104647\n",
              "n    2.288223\n",
              "o    0.743384\n",
              "p   -0.035183\n",
              "dtype: float64"
            ]
          },
          "metadata": {
            "tags": []
          },
          "execution_count": 19
        }
      ]
    },
    {
      "cell_type": "code",
      "metadata": {
        "id": "kcGUSpZPkRga",
        "colab_type": "code",
        "colab": {
          "base_uri": "https://localhost:8080/",
          "height": 284
        },
        "outputId": "ffad657a-45ab-421f-f292-670e2ac92e12"
      },
      "source": [
        "s3.plot(kind=\"bar\")"
      ],
      "execution_count": 20,
      "outputs": [
        {
          "output_type": "execute_result",
          "data": {
            "text/plain": [
              "<matplotlib.axes._subplots.AxesSubplot at 0x7f42b2dc36a0>"
            ]
          },
          "metadata": {
            "tags": []
          },
          "execution_count": 20
        },
        {
          "output_type": "display_data",
          "data": {
            "image/png": "[encoded data removed]",
            "text/plain": [
              "<Figure size 432x288 with 1 Axes>"
            ]
          },
          "metadata": {
            "tags": []
          }
        }
      ]
    },
    {
      "cell_type": "markdown",
      "metadata": {
        "id": "v13nJVuMkjRq",
        "colab_type": "text"
      },
      "source": [
        "가로방향"
      ]
    },
    {
      "cell_type": "code",
      "metadata": {
        "id": "y5iMrOB1kVvB",
        "colab_type": "code",
        "colab": {
          "base_uri": "https://localhost:8080/",
          "height": 284
        },
        "outputId": "8ece321b-beed-410f-950d-78a3cec4a869"
      },
      "source": [
        "s3.plot(kind=\"barh\")"
      ],
      "execution_count": 22,
      "outputs": [
        {
          "output_type": "execute_result",
          "data": {
            "text/plain": [
              "<matplotlib.axes._subplots.AxesSubplot at 0x7f42b2c7e7b8>"
            ]
          },
          "metadata": {
            "tags": []
          },
          "execution_count": 22
        },
        {
          "output_type": "display_data",
          "data": {
            "image/png": "[encoded data removed]",
            "text/plain": [
              "<Figure size 432x288 with 1 Axes>"
            ]
          },
          "metadata": {
            "tags": []
          }
        }
      ]
    },
    {
      "cell_type": "code",
      "metadata": {
        "id": "Uxhxp2_-krTN",
        "colab_type": "code",
        "colab": {}
      },
      "source": [
        "d3 = pd.DataFrame(np.random.randn(6,4),\n",
        "      index = [\"one\", \"two\", \"three\", \"four\", \"five\", \"six\"],\n",
        "      columns = pd.Index([\"A\", \"B\", \"C\", \"D\"], name=\"Genus\"))"
      ],
      "execution_count": 0,
      "outputs": []
    },
    {
      "cell_type": "code",
      "metadata": {
        "id": "8sR8l2Plk6qy",
        "colab_type": "code",
        "colab": {
          "base_uri": "https://localhost:8080/",
          "height": 235
        },
        "outputId": "115f9904-fd67-4794-bf70-582ccd5668d1"
      },
      "source": [
        "d3"
      ],
      "execution_count": 28,
      "outputs": [
        {
          "output_type": "execute_result",
          "data": {
            "text/html": [
              "<div>\n",
              "<style scoped>\n",
              "    .dataframe tbody tr th:only-of-type {\n",
              "        vertical-align: middle;\n",
              "    }\n",
              "\n",
              "    .dataframe tbody tr th {\n",
              "        vertical-align: top;\n",
              "    }\n",
              "\n",
              "    .dataframe thead th {\n",
              "        text-align: right;\n",
              "    }\n",
              "</style>\n",
              "<table border=\"1\" class=\"dataframe\">\n",
              "  <thead>\n",
              "    <tr style=\"text-align: right;\">\n",
              "      <th>Genus</th>\n",
              "      <th>A</th>\n",
              "      <th>B</th>\n",
              "      <th>C</th>\n",
              "      <th>D</th>\n",
              "    </tr>\n",
              "  </thead>\n",
              "  <tbody>\n",
              "    <tr>\n",
              "      <th>one</th>\n",
              "      <td>-1.347882</td>\n",
              "      <td>0.690781</td>\n",
              "      <td>-0.055157</td>\n",
              "      <td>0.644575</td>\n",
              "    </tr>\n",
              "    <tr>\n",
              "      <th>two</th>\n",
              "      <td>0.368792</td>\n",
              "      <td>0.692649</td>\n",
              "      <td>0.871430</td>\n",
              "      <td>-0.112824</td>\n",
              "    </tr>\n",
              "    <tr>\n",
              "      <th>three</th>\n",
              "      <td>0.374038</td>\n",
              "      <td>-0.583216</td>\n",
              "      <td>0.233657</td>\n",
              "      <td>-0.568060</td>\n",
              "    </tr>\n",
              "    <tr>\n",
              "      <th>four</th>\n",
              "      <td>-0.982739</td>\n",
              "      <td>0.598477</td>\n",
              "      <td>-0.637985</td>\n",
              "      <td>1.455113</td>\n",
              "    </tr>\n",
              "    <tr>\n",
              "      <th>five</th>\n",
              "      <td>-1.020219</td>\n",
              "      <td>-1.551266</td>\n",
              "      <td>0.296289</td>\n",
              "      <td>-1.240904</td>\n",
              "    </tr>\n",
              "    <tr>\n",
              "      <th>six</th>\n",
              "      <td>0.533000</td>\n",
              "      <td>-0.089727</td>\n",
              "      <td>0.048527</td>\n",
              "      <td>1.014744</td>\n",
              "    </tr>\n",
              "  </tbody>\n",
              "</table>\n",
              "</div>"
            ],
            "text/plain": [
              "Genus         A         B         C         D\n",
              "one   -1.347882  0.690781 -0.055157  0.644575\n",
              "two    0.368792  0.692649  0.871430 -0.112824\n",
              "three  0.374038 -0.583216  0.233657 -0.568060\n",
              "four  -0.982739  0.598477 -0.637985  1.455113\n",
              "five  -1.020219 -1.551266  0.296289 -1.240904\n",
              "six    0.533000 -0.089727  0.048527  1.014744"
            ]
          },
          "metadata": {
            "tags": []
          },
          "execution_count": 28
        }
      ]
    },
    {
      "cell_type": "code",
      "metadata": {
        "id": "UYhv5-eclQUE",
        "colab_type": "code",
        "colab": {
          "base_uri": "https://localhost:8080/",
          "height": 301
        },
        "outputId": "bd27c286-6d83-4b00-f9cd-f8838d4cb79c"
      },
      "source": [
        "d3.plot(kind=\"bar\")"
      ],
      "execution_count": 29,
      "outputs": [
        {
          "output_type": "execute_result",
          "data": {
            "text/plain": [
              "<matplotlib.axes._subplots.AxesSubplot at 0x7f42b396b470>"
            ]
          },
          "metadata": {
            "tags": []
          },
          "execution_count": 29
        },
        {
          "output_type": "display_data",
          "data": {
            "image/png": "[encoded data removed]",
            "text/plain": [
              "<Figure size 432x288 with 1 Axes>"
            ]
          },
          "metadata": {
            "tags": []
          }
        }
      ]
    },
    {
      "cell_type": "code",
      "metadata": {
        "id": "FadWbgIclTUT",
        "colab_type": "code",
        "colab": {
          "base_uri": "https://localhost:8080/",
          "height": 284
        },
        "outputId": "d9b8dd2a-32dd-4f1d-a6c3-fa0833830ea1"
      },
      "source": [
        "#하나의 index에 대해 각 열값의 상대적 비율\n",
        "d3.plot(kind=\"barh\",stacked=True)"
      ],
      "execution_count": 31,
      "outputs": [
        {
          "output_type": "execute_result",
          "data": {
            "text/plain": [
              "<matplotlib.axes._subplots.AxesSubplot at 0x7f42b2a60c50>"
            ]
          },
          "metadata": {
            "tags": []
          },
          "execution_count": 31
        },
        {
          "output_type": "display_data",
          "data": {
            "image/png": "[encoded data removed]",
            "text/plain": [
              "<Figure size 432x288 with 1 Axes>"
            ]
          },
          "metadata": {
            "tags": []
          }
        }
      ]
    },
    {
      "cell_type": "markdown",
      "metadata": {
        "id": "VwH0uuE7lv4r",
        "colab_type": "text"
      },
      "source": [
        "#히스토그램"
      ]
    },
    {
      "cell_type": "code",
      "metadata": {
        "id": "EAVWZmvklYjp",
        "colab_type": "code",
        "colab": {}
      },
      "source": [
        "s4 = pd.Series(np.random.normal(0,1,size=100000))"
      ],
      "execution_count": 0,
      "outputs": []
    },
    {
      "cell_type": "code",
      "metadata": {
        "id": "2np6IjGBl4Z9",
        "colab_type": "code",
        "colab": {
          "base_uri": "https://localhost:8080/",
          "height": 245
        },
        "outputId": "41e4cba9-2349-4ff2-d4ea-f09527d1876b"
      },
      "source": [
        "s4"
      ],
      "execution_count": 37,
      "outputs": [
        {
          "output_type": "execute_result",
          "data": {
            "text/plain": [
              "0     -1.439358\n",
              "1      0.230582\n",
              "2     -0.537038\n",
              "3     -0.061907\n",
              "4     -0.053140\n",
              "         ...   \n",
              "995    0.596598\n",
              "996   -1.058358\n",
              "997    0.484362\n",
              "998   -1.596234\n",
              "999   -0.310053\n",
              "Length: 1000, dtype: float64"
            ]
          },
          "metadata": {
            "tags": []
          },
          "execution_count": 37
        }
      ]
    },
    {
      "cell_type": "code",
      "metadata": {
        "colab_type": "code",
        "outputId": "e3166b8c-99e0-4ff1-9b83-24a4a43a6181",
        "id": "URZ1YyNKmjCV",
        "colab": {
          "base_uri": "https://localhost:8080/",
          "height": 284
        }
      },
      "source": [
        "s4.hist()"
      ],
      "execution_count": 0,
      "outputs": [
        {
          "output_type": "execute_result",
          "data": {
            "text/plain": [
              "<matplotlib.axes._subplots.AxesSubplot at 0x7f42b2856240>"
            ]
          },
          "metadata": {
            "tags": []
          },
          "execution_count": 41
        },
        {
          "output_type": "display_data",
          "data": {
            "image/png": "[encoded data removed]",
            "text/plain": [
              "<Figure size 432x288 with 1 Axes>"
            ]
          },
          "metadata": {
            "tags": []
          }
        }
      ]
    },
    {
      "cell_type": "code",
      "metadata": {
        "id": "aLdYy74Zmjp_",
        "colab_type": "code",
        "colab": {
          "base_uri": "https://localhost:8080/",
          "height": 284
        },
        "outputId": "9ac0ef47-6a9d-43c8-e3d3-8aa2cc71ccc2"
      },
      "source": [
        "s4.hist(bins=10)"
      ],
      "execution_count": 45,
      "outputs": [
        {
          "output_type": "execute_result",
          "data": {
            "text/plain": [
              "<matplotlib.axes._subplots.AxesSubplot at 0x7f42b29ae2e8>"
            ]
          },
          "metadata": {
            "tags": []
          },
          "execution_count": 45
        },
        {
          "output_type": "display_data",
          "data": {
            "image/png": "[encoded data removed]",
            "text/plain": [
              "<Figure size 432x288 with 1 Axes>"
            ]
          },
          "metadata": {
            "tags": []
          }
        }
      ]
    },
    {
      "cell_type": "code",
      "metadata": {
        "id": "LlJfkbrOl-7K",
        "colab_type": "code",
        "colab": {
          "base_uri": "https://localhost:8080/",
          "height": 284
        },
        "outputId": "ce94b3a5-ab52-488a-84b6-b2641126ff1e"
      },
      "source": [
        "#bin 개수 중가- 각 구간을 촘촘하게 나타냄 \n",
        "s4.hist(bins=100)"
      ],
      "execution_count": 46,
      "outputs": [
        {
          "output_type": "execute_result",
          "data": {
            "text/plain": [
              "<matplotlib.axes._subplots.AxesSubplot at 0x7f42b246ecc0>"
            ]
          },
          "metadata": {
            "tags": []
          },
          "execution_count": 46
        },
        {
          "output_type": "display_data",
          "data": {
            "image/png": "[encoded data removed]",
            "text/plain": [
              "<Figure size 432x288 with 1 Axes>"
            ]
          },
          "metadata": {
            "tags": []
          }
        }
      ]
    },
    {
      "cell_type": "markdown",
      "metadata": {
        "id": "M5Pyb2Kmmyhg",
        "colab_type": "text"
      },
      "source": [
        "#산점도 - 서로 다른 독립변수의 관계확인"
      ]
    },
    {
      "cell_type": "code",
      "metadata": {
        "id": "8bPU1F89mTZV",
        "colab_type": "code",
        "colab": {}
      },
      "source": [
        "x1 = np.random.normal(1,1,size=(100,1))\n",
        "x2 = np.random.normal(-2, 4,size=(100,1))\n",
        "X = np.concatenate((x1, x2), axis=1)"
      ],
      "execution_count": 0,
      "outputs": []
    },
    {
      "cell_type": "code",
      "metadata": {
        "id": "11weZUyCnJgn",
        "colab_type": "code",
        "colab": {
          "base_uri": "https://localhost:8080/",
          "height": 112
        },
        "outputId": "75423f93-d31c-4028-f252-d8b8ebbb2f89"
      },
      "source": [
        "X[0:5, :]"
      ],
      "execution_count": 52,
      "outputs": [
        {
          "output_type": "execute_result",
          "data": {
            "text/plain": [
              "array([[ 0.69386287, -2.0113755 ],\n",
              "       [ 1.28279277,  0.55383265],\n",
              "       [ 1.70590449, -3.88363088],\n",
              "       [ 2.28185377,  0.77659717],\n",
              "       [ 1.75774343, -2.03152563]])"
            ]
          },
          "metadata": {
            "tags": []
          },
          "execution_count": 52
        }
      ]
    },
    {
      "cell_type": "code",
      "metadata": {
        "id": "nnlZNejQnKD6",
        "colab_type": "code",
        "colab": {}
      },
      "source": [
        "  df3 = pd.DataFrame(X, columns=[\"X1\",\"X2\"])"
      ],
      "execution_count": 0,
      "outputs": []
    },
    {
      "cell_type": "code",
      "metadata": {
        "id": "srweUz5XneCi",
        "colab_type": "code",
        "colab": {
          "base_uri": "https://localhost:8080/",
          "height": 419
        },
        "outputId": "b6422db3-e1d1-451b-fba9-d7fb45f694e9"
      },
      "source": [
        "df3"
      ],
      "execution_count": 54,
      "outputs": [
        {
          "output_type": "execute_result",
          "data": {
            "text/html": [
              "<div>\n",
              "<style scoped>\n",
              "    .dataframe tbody tr th:only-of-type {\n",
              "        vertical-align: middle;\n",
              "    }\n",
              "\n",
              "    .dataframe tbody tr th {\n",
              "        vertical-align: top;\n",
              "    }\n",
              "\n",
              "    .dataframe thead th {\n",
              "        text-align: right;\n",
              "    }\n",
              "</style>\n",
              "<table border=\"1\" class=\"dataframe\">\n",
              "  <thead>\n",
              "    <tr style=\"text-align: right;\">\n",
              "      <th></th>\n",
              "      <th>X1</th>\n",
              "      <th>X2</th>\n",
              "    </tr>\n",
              "  </thead>\n",
              "  <tbody>\n",
              "    <tr>\n",
              "      <th>0</th>\n",
              "      <td>0.693863</td>\n",
              "      <td>-2.011376</td>\n",
              "    </tr>\n",
              "    <tr>\n",
              "      <th>1</th>\n",
              "      <td>1.282793</td>\n",
              "      <td>0.553833</td>\n",
              "    </tr>\n",
              "    <tr>\n",
              "      <th>2</th>\n",
              "      <td>1.705904</td>\n",
              "      <td>-3.883631</td>\n",
              "    </tr>\n",
              "    <tr>\n",
              "      <th>3</th>\n",
              "      <td>2.281854</td>\n",
              "      <td>0.776597</td>\n",
              "    </tr>\n",
              "    <tr>\n",
              "      <th>4</th>\n",
              "      <td>1.757743</td>\n",
              "      <td>-2.031526</td>\n",
              "    </tr>\n",
              "    <tr>\n",
              "      <th>...</th>\n",
              "      <td>...</td>\n",
              "      <td>...</td>\n",
              "    </tr>\n",
              "    <tr>\n",
              "      <th>95</th>\n",
              "      <td>0.977698</td>\n",
              "      <td>-7.112176</td>\n",
              "    </tr>\n",
              "    <tr>\n",
              "      <th>96</th>\n",
              "      <td>0.650146</td>\n",
              "      <td>-0.140403</td>\n",
              "    </tr>\n",
              "    <tr>\n",
              "      <th>97</th>\n",
              "      <td>0.357314</td>\n",
              "      <td>-3.585669</td>\n",
              "    </tr>\n",
              "    <tr>\n",
              "      <th>98</th>\n",
              "      <td>1.897973</td>\n",
              "      <td>-4.206629</td>\n",
              "    </tr>\n",
              "    <tr>\n",
              "      <th>99</th>\n",
              "      <td>2.065520</td>\n",
              "      <td>-2.183774</td>\n",
              "    </tr>\n",
              "  </tbody>\n",
              "</table>\n",
              "<p>100 rows × 2 columns</p>\n",
              "</div>"
            ],
            "text/plain": [
              "          X1        X2\n",
              "0   0.693863 -2.011376\n",
              "1   1.282793  0.553833\n",
              "2   1.705904 -3.883631\n",
              "3   2.281854  0.776597\n",
              "4   1.757743 -2.031526\n",
              "..       ...       ...\n",
              "95  0.977698 -7.112176\n",
              "96  0.650146 -0.140403\n",
              "97  0.357314 -3.585669\n",
              "98  1.897973 -4.206629\n",
              "99  2.065520 -2.183774\n",
              "\n",
              "[100 rows x 2 columns]"
            ]
          },
          "metadata": {
            "tags": []
          },
          "execution_count": 54
        }
      ]
    },
    {
      "cell_type": "code",
      "metadata": {
        "id": "HMcZ4SQenexd",
        "colab_type": "code",
        "colab": {
          "base_uri": "https://localhost:8080/",
          "height": 284
        },
        "outputId": "50ec202b-d27f-4ece-f26e-3dedebee4a50"
      },
      "source": [
        "plt.scatter(df3[\"X1\"],df3[\"X2\"])"
      ],
      "execution_count": 57,
      "outputs": [
        {
          "output_type": "execute_result",
          "data": {
            "text/plain": [
              "<matplotlib.collections.PathCollection at 0x7f42b1f9a198>"
            ]
          },
          "metadata": {
            "tags": []
          },
          "execution_count": 57
        },
        {
          "output_type": "display_data",
          "data": {
            "image/png": "[encoded data removed]",
            "text/plain": [
              "<Figure size 432x288 with 1 Axes>"
            ]
          },
          "metadata": {
            "tags": []
          }
        }
      ]
    },
    {
      "cell_type": "code",
      "metadata": {
        "id": "aorfGOGMnlUf",
        "colab_type": "code",
        "colab": {}
      },
      "source": [
        ""
      ],
      "execution_count": 0,
      "outputs": []
    }
  ]
}