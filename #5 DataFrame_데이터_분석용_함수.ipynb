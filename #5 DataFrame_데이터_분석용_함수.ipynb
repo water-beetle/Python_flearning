{
  "nbformat": 4,
  "nbformat_minor": 0,
  "metadata": {
    "colab": {
      "name": "DataFrame 데이터 분석용 함수.ipynb",
      "provenance": [],
      "authorship_tag": "ABX9TyNO2vCVF9C9aYSDY8uUJT1E",
      "include_colab_link": true
    },
    "kernelspec": {
      "name": "python3",
      "display_name": "Python 3"
    }
  },
  "cells": [
    {
      "cell_type": "markdown",
      "metadata": {
        "id": "view-in-github",
        "colab_type": "text"
      },
      "source": [
        "<a href=\"https://colab.research.google.com/github/water-beetle/Python_flearning/blob/master/%235%20DataFrame_%EB%8D%B0%EC%9D%B4%ED%84%B0_%EB%B6%84%EC%84%9D%EC%9A%A9_%ED%95%A8%EC%88%98.ipynb\" target=\"_parent\"><img src=\"https://colab.research.google.com/assets/colab-badge.svg\" alt=\"Open In Colab\"/></a>"
      ]
    },
    {
      "cell_type": "code",
      "metadata": {
        "id": "X1AwcIbDXVWF",
        "colab_type": "code",
        "colab": {}
      },
      "source": [
        "import numpy as np\n",
        "import pandas as pd"
      ],
      "execution_count": 0,
      "outputs": []
    },
    {
      "cell_type": "code",
      "metadata": {
        "id": "PcfSKtXkXfLk",
        "colab_type": "code",
        "colab": {}
      },
      "source": [
        "data = [[1.4, np.nan],\n",
        "        [7.1, -4.5],\n",
        "        [np.nan, np.nan],\n",
        "        [0.75, -1.3]]\n",
        "df = pd.DataFrame(data, columns=[\"one\", \"two\"], index=[\"a\",\"b\",\"c\",\"d\"])"
      ],
      "execution_count": 0,
      "outputs": []
    },
    {
      "cell_type": "code",
      "metadata": {
        "id": "W6bdDRFUX6ws",
        "colab_type": "code",
        "colab": {
          "base_uri": "https://localhost:8080/",
          "height": 173
        },
        "outputId": "6b882b88-2204-48ca-ca1b-2e877379b655"
      },
      "source": [
        "df"
      ],
      "execution_count": 8,
      "outputs": [
        {
          "output_type": "execute_result",
          "data": {
            "text/html": [
              "<div>\n",
              "<style scoped>\n",
              "    .dataframe tbody tr th:only-of-type {\n",
              "        vertical-align: middle;\n",
              "    }\n",
              "\n",
              "    .dataframe tbody tr th {\n",
              "        vertical-align: top;\n",
              "    }\n",
              "\n",
              "    .dataframe thead th {\n",
              "        text-align: right;\n",
              "    }\n",
              "</style>\n",
              "<table border=\"1\" class=\"dataframe\">\n",
              "  <thead>\n",
              "    <tr style=\"text-align: right;\">\n",
              "      <th></th>\n",
              "      <th>one</th>\n",
              "      <th>two</th>\n",
              "    </tr>\n",
              "  </thead>\n",
              "  <tbody>\n",
              "    <tr>\n",
              "      <th>a</th>\n",
              "      <td>1.40</td>\n",
              "      <td>NaN</td>\n",
              "    </tr>\n",
              "    <tr>\n",
              "      <th>b</th>\n",
              "      <td>7.10</td>\n",
              "      <td>-4.5</td>\n",
              "    </tr>\n",
              "    <tr>\n",
              "      <th>c</th>\n",
              "      <td>NaN</td>\n",
              "      <td>NaN</td>\n",
              "    </tr>\n",
              "    <tr>\n",
              "      <th>d</th>\n",
              "      <td>0.75</td>\n",
              "      <td>-1.3</td>\n",
              "    </tr>\n",
              "  </tbody>\n",
              "</table>\n",
              "</div>"
            ],
            "text/plain": [
              "    one  two\n",
              "a  1.40  NaN\n",
              "b  7.10 -4.5\n",
              "c   NaN  NaN\n",
              "d  0.75 -1.3"
            ]
          },
          "metadata": {
            "tags": []
          },
          "execution_count": 8
        }
      ]
    },
    {
      "cell_type": "code",
      "metadata": {
        "id": "YGWB6OhsYbKh",
        "colab_type": "code",
        "colab": {
          "base_uri": "https://localhost:8080/",
          "height": 74
        },
        "outputId": "ea49920e-173b-4cf9-e66c-6792a125cb38"
      },
      "source": [
        "df.sum(axis = 0)"
      ],
      "execution_count": 9,
      "outputs": [
        {
          "output_type": "execute_result",
          "data": {
            "text/plain": [
              "one    9.25\n",
              "two   -5.80\n",
              "dtype: float64"
            ]
          },
          "metadata": {
            "tags": []
          },
          "execution_count": 9
        }
      ]
    },
    {
      "cell_type": "code",
      "metadata": {
        "id": "08jHRy3oYlW3",
        "colab_type": "code",
        "colab": {
          "base_uri": "https://localhost:8080/",
          "height": 112
        },
        "outputId": "ac57f879-9f49-4afa-eedd-3e72bfd56bdb"
      },
      "source": [
        "df.sum(axis = 1)"
      ],
      "execution_count": 10,
      "outputs": [
        {
          "output_type": "execute_result",
          "data": {
            "text/plain": [
              "a    1.40\n",
              "b    2.60\n",
              "c    0.00\n",
              "d   -0.55\n",
              "dtype: float64"
            ]
          },
          "metadata": {
            "tags": []
          },
          "execution_count": 10
        }
      ]
    },
    {
      "cell_type": "code",
      "metadata": {
        "id": "ISQae_fPYuWF",
        "colab_type": "code",
        "colab": {
          "base_uri": "https://localhost:8080/",
          "height": 36
        },
        "outputId": "1e9276ad-dd3b-4d28-af79-5c08e82d5fee"
      },
      "source": [
        "df[\"one\"].sum()"
      ],
      "execution_count": 12,
      "outputs": [
        {
          "output_type": "execute_result",
          "data": {
            "text/plain": [
              "9.25"
            ]
          },
          "metadata": {
            "tags": []
          },
          "execution_count": 12
        }
      ]
    },
    {
      "cell_type": "markdown",
      "metadata": {
        "id": "c0yQqkuwZM_Y",
        "colab_type": "text"
      },
      "source": [
        "평균 - .mean, 분산 - .var"
      ]
    },
    {
      "cell_type": "code",
      "metadata": {
        "id": "fPVlWqYpY_h8",
        "colab_type": "code",
        "colab": {
          "base_uri": "https://localhost:8080/",
          "height": 112
        },
        "outputId": "df086671-24d8-4701-94f6-fae40cc5c546"
      },
      "source": [
        "#skipna - NaN이 하나라도 포함되면 NaN 출력\n",
        "df.mean(axis=1, skipna=False)"
      ],
      "execution_count": 14,
      "outputs": [
        {
          "output_type": "execute_result",
          "data": {
            "text/plain": [
              "a      NaN\n",
              "b    1.300\n",
              "c      NaN\n",
              "d   -0.275\n",
              "dtype: float64"
            ]
          },
          "metadata": {
            "tags": []
          },
          "execution_count": 14
        }
      ]
    },
    {
      "cell_type": "code",
      "metadata": {
        "id": "1366_A5DZeBu",
        "colab_type": "code",
        "colab": {}
      },
      "source": [
        "df2 = pd.DataFrame(np.random.randn(6,4),\n",
        "                   columns=[\"A\",\"B\",\"C\",\"D\"],\n",
        "                   index = pd.date_range(\"20200210\", periods = 6))"
      ],
      "execution_count": 0,
      "outputs": []
    },
    {
      "cell_type": "code",
      "metadata": {
        "id": "3R1NcVhgaVoy",
        "colab_type": "code",
        "colab": {
          "base_uri": "https://localhost:8080/",
          "height": 235
        },
        "outputId": "b5214a4b-d442-416c-b1e6-639bb2457daf"
      },
      "source": [
        "df2"
      ],
      "execution_count": 16,
      "outputs": [
        {
          "output_type": "execute_result",
          "data": {
            "text/html": [
              "<div>\n",
              "<style scoped>\n",
              "    .dataframe tbody tr th:only-of-type {\n",
              "        vertical-align: middle;\n",
              "    }\n",
              "\n",
              "    .dataframe tbody tr th {\n",
              "        vertical-align: top;\n",
              "    }\n",
              "\n",
              "    .dataframe thead th {\n",
              "        text-align: right;\n",
              "    }\n",
              "</style>\n",
              "<table border=\"1\" class=\"dataframe\">\n",
              "  <thead>\n",
              "    <tr style=\"text-align: right;\">\n",
              "      <th></th>\n",
              "      <th>A</th>\n",
              "      <th>B</th>\n",
              "      <th>C</th>\n",
              "      <th>D</th>\n",
              "    </tr>\n",
              "  </thead>\n",
              "  <tbody>\n",
              "    <tr>\n",
              "      <th>2020-02-10</th>\n",
              "      <td>-0.173861</td>\n",
              "      <td>0.476974</td>\n",
              "      <td>0.203108</td>\n",
              "      <td>1.323414</td>\n",
              "    </tr>\n",
              "    <tr>\n",
              "      <th>2020-02-11</th>\n",
              "      <td>1.576960</td>\n",
              "      <td>1.204783</td>\n",
              "      <td>0.290009</td>\n",
              "      <td>-1.839856</td>\n",
              "    </tr>\n",
              "    <tr>\n",
              "      <th>2020-02-12</th>\n",
              "      <td>0.571868</td>\n",
              "      <td>0.083589</td>\n",
              "      <td>0.102691</td>\n",
              "      <td>-0.475955</td>\n",
              "    </tr>\n",
              "    <tr>\n",
              "      <th>2020-02-13</th>\n",
              "      <td>-0.479030</td>\n",
              "      <td>3.251089</td>\n",
              "      <td>0.966400</td>\n",
              "      <td>0.215017</td>\n",
              "    </tr>\n",
              "    <tr>\n",
              "      <th>2020-02-14</th>\n",
              "      <td>0.437326</td>\n",
              "      <td>-1.424738</td>\n",
              "      <td>-0.374033</td>\n",
              "      <td>-0.213729</td>\n",
              "    </tr>\n",
              "    <tr>\n",
              "      <th>2020-02-15</th>\n",
              "      <td>0.256795</td>\n",
              "      <td>0.257277</td>\n",
              "      <td>-0.540296</td>\n",
              "      <td>2.112920</td>\n",
              "    </tr>\n",
              "  </tbody>\n",
              "</table>\n",
              "</div>"
            ],
            "text/plain": [
              "                   A         B         C         D\n",
              "2020-02-10 -0.173861  0.476974  0.203108  1.323414\n",
              "2020-02-11  1.576960  1.204783  0.290009 -1.839856\n",
              "2020-02-12  0.571868  0.083589  0.102691 -0.475955\n",
              "2020-02-13 -0.479030  3.251089  0.966400  0.215017\n",
              "2020-02-14  0.437326 -1.424738 -0.374033 -0.213729\n",
              "2020-02-15  0.256795  0.257277 -0.540296  2.112920"
            ]
          },
          "metadata": {
            "tags": []
          },
          "execution_count": 16
        }
      ]
    },
    {
      "cell_type": "markdown",
      "metadata": {
        "id": "7T_2eWqVbLC-",
        "colab_type": "text"
      },
      "source": [
        "**공분산, 상관계수란 - https://m.blog.naver.com/PostView.nhn?blogId=lodastatin&logNo=80116178535&proxyReferer=https%3A%2F%2Fwww.google.com%2F 참고**"
      ]
    },
    {
      "cell_type": "markdown",
      "metadata": {
        "id": "8pd6ks-saj7y",
        "colab_type": "text"
      },
      "source": [
        "상관계수 계산"
      ]
    },
    {
      "cell_type": "code",
      "metadata": {
        "id": "KWh_A2MTaWYu",
        "colab_type": "code",
        "colab": {
          "base_uri": "https://localhost:8080/",
          "height": 36
        },
        "outputId": "fe99bde2-3ce6-44be-e09e-71c2c9fd6705"
      },
      "source": [
        "df2[\"A\"].corr(df2[\"B\"])"
      ],
      "execution_count": 17,
      "outputs": [
        {
          "output_type": "execute_result",
          "data": {
            "text/plain": [
              "-0.30167710582267254"
            ]
          },
          "metadata": {
            "tags": []
          },
          "execution_count": 17
        }
      ]
    },
    {
      "cell_type": "markdown",
      "metadata": {
        "id": "DZ7Rqmq3alLi",
        "colab_type": "text"
      },
      "source": [
        "공분산 계산"
      ]
    },
    {
      "cell_type": "code",
      "metadata": {
        "id": "NO9MqzonajGF",
        "colab_type": "code",
        "colab": {
          "base_uri": "https://localhost:8080/",
          "height": 36
        },
        "outputId": "060680c6-1930-477a-c401-7fbd8494636a"
      },
      "source": [
        "df2[\"B\"].cov(df2[\"C\"])"
      ],
      "execution_count": 18,
      "outputs": [
        {
          "output_type": "execute_result",
          "data": {
            "text/plain": [
              "0.7149989300638528"
            ]
          },
          "metadata": {
            "tags": []
          },
          "execution_count": 18
        }
      ]
    },
    {
      "cell_type": "code",
      "metadata": {
        "id": "KJs5c3m5ap0e",
        "colab_type": "code",
        "colab": {
          "base_uri": "https://localhost:8080/",
          "height": 173
        },
        "outputId": "03420fd9-3f5d-4546-d592-8339a2334d65"
      },
      "source": [
        "df2.corr()"
      ],
      "execution_count": 19,
      "outputs": [
        {
          "output_type": "execute_result",
          "data": {
            "text/html": [
              "<div>\n",
              "<style scoped>\n",
              "    .dataframe tbody tr th:only-of-type {\n",
              "        vertical-align: middle;\n",
              "    }\n",
              "\n",
              "    .dataframe tbody tr th {\n",
              "        vertical-align: top;\n",
              "    }\n",
              "\n",
              "    .dataframe thead th {\n",
              "        text-align: right;\n",
              "    }\n",
              "</style>\n",
              "<table border=\"1\" class=\"dataframe\">\n",
              "  <thead>\n",
              "    <tr style=\"text-align: right;\">\n",
              "      <th></th>\n",
              "      <th>A</th>\n",
              "      <th>B</th>\n",
              "      <th>C</th>\n",
              "      <th>D</th>\n",
              "    </tr>\n",
              "  </thead>\n",
              "  <tbody>\n",
              "    <tr>\n",
              "      <th>A</th>\n",
              "      <td>1.000000</td>\n",
              "      <td>-0.301677</td>\n",
              "      <td>-0.273671</td>\n",
              "      <td>-0.699324</td>\n",
              "    </tr>\n",
              "    <tr>\n",
              "      <th>B</th>\n",
              "      <td>-0.301677</td>\n",
              "      <td>1.000000</td>\n",
              "      <td>0.866753</td>\n",
              "      <td>-0.074261</td>\n",
              "    </tr>\n",
              "    <tr>\n",
              "      <th>C</th>\n",
              "      <td>-0.273671</td>\n",
              "      <td>0.866753</td>\n",
              "      <td>1.000000</td>\n",
              "      <td>-0.345629</td>\n",
              "    </tr>\n",
              "    <tr>\n",
              "      <th>D</th>\n",
              "      <td>-0.699324</td>\n",
              "      <td>-0.074261</td>\n",
              "      <td>-0.345629</td>\n",
              "      <td>1.000000</td>\n",
              "    </tr>\n",
              "  </tbody>\n",
              "</table>\n",
              "</div>"
            ],
            "text/plain": [
              "          A         B         C         D\n",
              "A  1.000000 -0.301677 -0.273671 -0.699324\n",
              "B -0.301677  1.000000  0.866753 -0.074261\n",
              "C -0.273671  0.866753  1.000000 -0.345629\n",
              "D -0.699324 -0.074261 -0.345629  1.000000"
            ]
          },
          "metadata": {
            "tags": []
          },
          "execution_count": 19
        }
      ]
    },
    {
      "cell_type": "code",
      "metadata": {
        "id": "WmcPvaozbdZ-",
        "colab_type": "code",
        "colab": {
          "base_uri": "https://localhost:8080/",
          "height": 173
        },
        "outputId": "9d5eef70-806c-4c44-873b-2c1b2b310da3"
      },
      "source": [
        "df2.cov()"
      ],
      "execution_count": 20,
      "outputs": [
        {
          "output_type": "execute_result",
          "data": {
            "text/html": [
              "<div>\n",
              "<style scoped>\n",
              "    .dataframe tbody tr th:only-of-type {\n",
              "        vertical-align: middle;\n",
              "    }\n",
              "\n",
              "    .dataframe tbody tr th {\n",
              "        vertical-align: top;\n",
              "    }\n",
              "\n",
              "    .dataframe thead th {\n",
              "        text-align: right;\n",
              "    }\n",
              "</style>\n",
              "<table border=\"1\" class=\"dataframe\">\n",
              "  <thead>\n",
              "    <tr style=\"text-align: right;\">\n",
              "      <th></th>\n",
              "      <th>A</th>\n",
              "      <th>B</th>\n",
              "      <th>C</th>\n",
              "      <th>D</th>\n",
              "    </tr>\n",
              "  </thead>\n",
              "  <tbody>\n",
              "    <tr>\n",
              "      <th>A</th>\n",
              "      <td>0.506268</td>\n",
              "      <td>-0.330904</td>\n",
              "      <td>-0.104198</td>\n",
              "      <td>-0.693401</td>\n",
              "    </tr>\n",
              "    <tr>\n",
              "      <th>B</th>\n",
              "      <td>-0.330904</td>\n",
              "      <td>2.376509</td>\n",
              "      <td>0.714999</td>\n",
              "      <td>-0.159532</td>\n",
              "    </tr>\n",
              "    <tr>\n",
              "      <th>C</th>\n",
              "      <td>-0.104198</td>\n",
              "      <td>0.714999</td>\n",
              "      <td>0.286339</td>\n",
              "      <td>-0.257731</td>\n",
              "    </tr>\n",
              "    <tr>\n",
              "      <th>D</th>\n",
              "      <td>-0.693401</td>\n",
              "      <td>-0.159532</td>\n",
              "      <td>-0.257731</td>\n",
              "      <td>1.941925</td>\n",
              "    </tr>\n",
              "  </tbody>\n",
              "</table>\n",
              "</div>"
            ],
            "text/plain": [
              "          A         B         C         D\n",
              "A  0.506268 -0.330904 -0.104198 -0.693401\n",
              "B -0.330904  2.376509  0.714999 -0.159532\n",
              "C -0.104198  0.714999  0.286339 -0.257731\n",
              "D -0.693401 -0.159532 -0.257731  1.941925"
            ]
          },
          "metadata": {
            "tags": []
          },
          "execution_count": 20
        }
      ]
    },
    {
      "cell_type": "markdown",
      "metadata": {
        "id": "0BJs-2Mjb8X-",
        "colab_type": "text"
      },
      "source": [
        "#정렬"
      ]
    },
    {
      "cell_type": "code",
      "metadata": {
        "id": "fFqCGfXobeJe",
        "colab_type": "code",
        "colab": {}
      },
      "source": [
        "dates = df2.index\n",
        "random_dates = np.random.permutation(dates)\n",
        "df2 = df2.reindex(index=random_dates, columns=[\"D\",\"B\",\"C\",\"A\"])"
      ],
      "execution_count": 0,
      "outputs": []
    },
    {
      "cell_type": "code",
      "metadata": {
        "id": "qVBsWERmb6pI",
        "colab_type": "code",
        "colab": {
          "base_uri": "https://localhost:8080/",
          "height": 235
        },
        "outputId": "7241de3b-3601-495a-ec1a-45ab9d294057"
      },
      "source": [
        "df2"
      ],
      "execution_count": 22,
      "outputs": [
        {
          "output_type": "execute_result",
          "data": {
            "text/html": [
              "<div>\n",
              "<style scoped>\n",
              "    .dataframe tbody tr th:only-of-type {\n",
              "        vertical-align: middle;\n",
              "    }\n",
              "\n",
              "    .dataframe tbody tr th {\n",
              "        vertical-align: top;\n",
              "    }\n",
              "\n",
              "    .dataframe thead th {\n",
              "        text-align: right;\n",
              "    }\n",
              "</style>\n",
              "<table border=\"1\" class=\"dataframe\">\n",
              "  <thead>\n",
              "    <tr style=\"text-align: right;\">\n",
              "      <th></th>\n",
              "      <th>D</th>\n",
              "      <th>B</th>\n",
              "      <th>C</th>\n",
              "      <th>A</th>\n",
              "    </tr>\n",
              "  </thead>\n",
              "  <tbody>\n",
              "    <tr>\n",
              "      <th>2020-02-13</th>\n",
              "      <td>0.215017</td>\n",
              "      <td>3.251089</td>\n",
              "      <td>0.966400</td>\n",
              "      <td>-0.479030</td>\n",
              "    </tr>\n",
              "    <tr>\n",
              "      <th>2020-02-11</th>\n",
              "      <td>-1.839856</td>\n",
              "      <td>1.204783</td>\n",
              "      <td>0.290009</td>\n",
              "      <td>1.576960</td>\n",
              "    </tr>\n",
              "    <tr>\n",
              "      <th>2020-02-15</th>\n",
              "      <td>2.112920</td>\n",
              "      <td>0.257277</td>\n",
              "      <td>-0.540296</td>\n",
              "      <td>0.256795</td>\n",
              "    </tr>\n",
              "    <tr>\n",
              "      <th>2020-02-14</th>\n",
              "      <td>-0.213729</td>\n",
              "      <td>-1.424738</td>\n",
              "      <td>-0.374033</td>\n",
              "      <td>0.437326</td>\n",
              "    </tr>\n",
              "    <tr>\n",
              "      <th>2020-02-12</th>\n",
              "      <td>-0.475955</td>\n",
              "      <td>0.083589</td>\n",
              "      <td>0.102691</td>\n",
              "      <td>0.571868</td>\n",
              "    </tr>\n",
              "    <tr>\n",
              "      <th>2020-02-10</th>\n",
              "      <td>1.323414</td>\n",
              "      <td>0.476974</td>\n",
              "      <td>0.203108</td>\n",
              "      <td>-0.173861</td>\n",
              "    </tr>\n",
              "  </tbody>\n",
              "</table>\n",
              "</div>"
            ],
            "text/plain": [
              "                   D         B         C         A\n",
              "2020-02-13  0.215017  3.251089  0.966400 -0.479030\n",
              "2020-02-11 -1.839856  1.204783  0.290009  1.576960\n",
              "2020-02-15  2.112920  0.257277 -0.540296  0.256795\n",
              "2020-02-14 -0.213729 -1.424738 -0.374033  0.437326\n",
              "2020-02-12 -0.475955  0.083589  0.102691  0.571868\n",
              "2020-02-10  1.323414  0.476974  0.203108 -0.173861"
            ]
          },
          "metadata": {
            "tags": []
          },
          "execution_count": 22
        }
      ]
    },
    {
      "cell_type": "markdown",
      "metadata": {
        "id": "xqL4r2tRcHEb",
        "colab_type": "text"
      },
      "source": [
        "**오름차순 정렬**"
      ]
    },
    {
      "cell_type": "code",
      "metadata": {
        "id": "66YUlCUpb7HV",
        "colab_type": "code",
        "colab": {
          "base_uri": "https://localhost:8080/",
          "height": 235
        },
        "outputId": "d09e2256-366d-494a-c175-ecb787d30ca1"
      },
      "source": [
        "df2.sort_index(axis=0)"
      ],
      "execution_count": 24,
      "outputs": [
        {
          "output_type": "execute_result",
          "data": {
            "text/html": [
              "<div>\n",
              "<style scoped>\n",
              "    .dataframe tbody tr th:only-of-type {\n",
              "        vertical-align: middle;\n",
              "    }\n",
              "\n",
              "    .dataframe tbody tr th {\n",
              "        vertical-align: top;\n",
              "    }\n",
              "\n",
              "    .dataframe thead th {\n",
              "        text-align: right;\n",
              "    }\n",
              "</style>\n",
              "<table border=\"1\" class=\"dataframe\">\n",
              "  <thead>\n",
              "    <tr style=\"text-align: right;\">\n",
              "      <th></th>\n",
              "      <th>D</th>\n",
              "      <th>B</th>\n",
              "      <th>C</th>\n",
              "      <th>A</th>\n",
              "    </tr>\n",
              "  </thead>\n",
              "  <tbody>\n",
              "    <tr>\n",
              "      <th>2020-02-10</th>\n",
              "      <td>1.323414</td>\n",
              "      <td>0.476974</td>\n",
              "      <td>0.203108</td>\n",
              "      <td>-0.173861</td>\n",
              "    </tr>\n",
              "    <tr>\n",
              "      <th>2020-02-11</th>\n",
              "      <td>-1.839856</td>\n",
              "      <td>1.204783</td>\n",
              "      <td>0.290009</td>\n",
              "      <td>1.576960</td>\n",
              "    </tr>\n",
              "    <tr>\n",
              "      <th>2020-02-12</th>\n",
              "      <td>-0.475955</td>\n",
              "      <td>0.083589</td>\n",
              "      <td>0.102691</td>\n",
              "      <td>0.571868</td>\n",
              "    </tr>\n",
              "    <tr>\n",
              "      <th>2020-02-13</th>\n",
              "      <td>0.215017</td>\n",
              "      <td>3.251089</td>\n",
              "      <td>0.966400</td>\n",
              "      <td>-0.479030</td>\n",
              "    </tr>\n",
              "    <tr>\n",
              "      <th>2020-02-14</th>\n",
              "      <td>-0.213729</td>\n",
              "      <td>-1.424738</td>\n",
              "      <td>-0.374033</td>\n",
              "      <td>0.437326</td>\n",
              "    </tr>\n",
              "    <tr>\n",
              "      <th>2020-02-15</th>\n",
              "      <td>2.112920</td>\n",
              "      <td>0.257277</td>\n",
              "      <td>-0.540296</td>\n",
              "      <td>0.256795</td>\n",
              "    </tr>\n",
              "  </tbody>\n",
              "</table>\n",
              "</div>"
            ],
            "text/plain": [
              "                   D         B         C         A\n",
              "2020-02-10  1.323414  0.476974  0.203108 -0.173861\n",
              "2020-02-11 -1.839856  1.204783  0.290009  1.576960\n",
              "2020-02-12 -0.475955  0.083589  0.102691  0.571868\n",
              "2020-02-13  0.215017  3.251089  0.966400 -0.479030\n",
              "2020-02-14 -0.213729 -1.424738 -0.374033  0.437326\n",
              "2020-02-15  2.112920  0.257277 -0.540296  0.256795"
            ]
          },
          "metadata": {
            "tags": []
          },
          "execution_count": 24
        }
      ]
    },
    {
      "cell_type": "code",
      "metadata": {
        "id": "O8v5DmpXcKwj",
        "colab_type": "code",
        "colab": {
          "base_uri": "https://localhost:8080/",
          "height": 235
        },
        "outputId": "11d407ea-6365-4501-ffbc-9bc1428718c6"
      },
      "source": [
        "df2.sort_index(axis=1)"
      ],
      "execution_count": 25,
      "outputs": [
        {
          "output_type": "execute_result",
          "data": {
            "text/html": [
              "<div>\n",
              "<style scoped>\n",
              "    .dataframe tbody tr th:only-of-type {\n",
              "        vertical-align: middle;\n",
              "    }\n",
              "\n",
              "    .dataframe tbody tr th {\n",
              "        vertical-align: top;\n",
              "    }\n",
              "\n",
              "    .dataframe thead th {\n",
              "        text-align: right;\n",
              "    }\n",
              "</style>\n",
              "<table border=\"1\" class=\"dataframe\">\n",
              "  <thead>\n",
              "    <tr style=\"text-align: right;\">\n",
              "      <th></th>\n",
              "      <th>A</th>\n",
              "      <th>B</th>\n",
              "      <th>C</th>\n",
              "      <th>D</th>\n",
              "    </tr>\n",
              "  </thead>\n",
              "  <tbody>\n",
              "    <tr>\n",
              "      <th>2020-02-13</th>\n",
              "      <td>-0.479030</td>\n",
              "      <td>3.251089</td>\n",
              "      <td>0.966400</td>\n",
              "      <td>0.215017</td>\n",
              "    </tr>\n",
              "    <tr>\n",
              "      <th>2020-02-11</th>\n",
              "      <td>1.576960</td>\n",
              "      <td>1.204783</td>\n",
              "      <td>0.290009</td>\n",
              "      <td>-1.839856</td>\n",
              "    </tr>\n",
              "    <tr>\n",
              "      <th>2020-02-15</th>\n",
              "      <td>0.256795</td>\n",
              "      <td>0.257277</td>\n",
              "      <td>-0.540296</td>\n",
              "      <td>2.112920</td>\n",
              "    </tr>\n",
              "    <tr>\n",
              "      <th>2020-02-14</th>\n",
              "      <td>0.437326</td>\n",
              "      <td>-1.424738</td>\n",
              "      <td>-0.374033</td>\n",
              "      <td>-0.213729</td>\n",
              "    </tr>\n",
              "    <tr>\n",
              "      <th>2020-02-12</th>\n",
              "      <td>0.571868</td>\n",
              "      <td>0.083589</td>\n",
              "      <td>0.102691</td>\n",
              "      <td>-0.475955</td>\n",
              "    </tr>\n",
              "    <tr>\n",
              "      <th>2020-02-10</th>\n",
              "      <td>-0.173861</td>\n",
              "      <td>0.476974</td>\n",
              "      <td>0.203108</td>\n",
              "      <td>1.323414</td>\n",
              "    </tr>\n",
              "  </tbody>\n",
              "</table>\n",
              "</div>"
            ],
            "text/plain": [
              "                   A         B         C         D\n",
              "2020-02-13 -0.479030  3.251089  0.966400  0.215017\n",
              "2020-02-11  1.576960  1.204783  0.290009 -1.839856\n",
              "2020-02-15  0.256795  0.257277 -0.540296  2.112920\n",
              "2020-02-14  0.437326 -1.424738 -0.374033 -0.213729\n",
              "2020-02-12  0.571868  0.083589  0.102691 -0.475955\n",
              "2020-02-10 -0.173861  0.476974  0.203108  1.323414"
            ]
          },
          "metadata": {
            "tags": []
          },
          "execution_count": 25
        }
      ]
    },
    {
      "cell_type": "markdown",
      "metadata": {
        "id": "R1q0vtxicWLt",
        "colab_type": "text"
      },
      "source": [
        "**내림차순 정렬**"
      ]
    },
    {
      "cell_type": "code",
      "metadata": {
        "id": "oFvAU7jDcS2o",
        "colab_type": "code",
        "colab": {
          "base_uri": "https://localhost:8080/",
          "height": 235
        },
        "outputId": "e9330d2c-3e59-4e50-fb04-0bf98e1cc725"
      },
      "source": [
        "df2.sort_index(axis=0, ascending=False)"
      ],
      "execution_count": 26,
      "outputs": [
        {
          "output_type": "execute_result",
          "data": {
            "text/html": [
              "<div>\n",
              "<style scoped>\n",
              "    .dataframe tbody tr th:only-of-type {\n",
              "        vertical-align: middle;\n",
              "    }\n",
              "\n",
              "    .dataframe tbody tr th {\n",
              "        vertical-align: top;\n",
              "    }\n",
              "\n",
              "    .dataframe thead th {\n",
              "        text-align: right;\n",
              "    }\n",
              "</style>\n",
              "<table border=\"1\" class=\"dataframe\">\n",
              "  <thead>\n",
              "    <tr style=\"text-align: right;\">\n",
              "      <th></th>\n",
              "      <th>D</th>\n",
              "      <th>B</th>\n",
              "      <th>C</th>\n",
              "      <th>A</th>\n",
              "    </tr>\n",
              "  </thead>\n",
              "  <tbody>\n",
              "    <tr>\n",
              "      <th>2020-02-15</th>\n",
              "      <td>2.112920</td>\n",
              "      <td>0.257277</td>\n",
              "      <td>-0.540296</td>\n",
              "      <td>0.256795</td>\n",
              "    </tr>\n",
              "    <tr>\n",
              "      <th>2020-02-14</th>\n",
              "      <td>-0.213729</td>\n",
              "      <td>-1.424738</td>\n",
              "      <td>-0.374033</td>\n",
              "      <td>0.437326</td>\n",
              "    </tr>\n",
              "    <tr>\n",
              "      <th>2020-02-13</th>\n",
              "      <td>0.215017</td>\n",
              "      <td>3.251089</td>\n",
              "      <td>0.966400</td>\n",
              "      <td>-0.479030</td>\n",
              "    </tr>\n",
              "    <tr>\n",
              "      <th>2020-02-12</th>\n",
              "      <td>-0.475955</td>\n",
              "      <td>0.083589</td>\n",
              "      <td>0.102691</td>\n",
              "      <td>0.571868</td>\n",
              "    </tr>\n",
              "    <tr>\n",
              "      <th>2020-02-11</th>\n",
              "      <td>-1.839856</td>\n",
              "      <td>1.204783</td>\n",
              "      <td>0.290009</td>\n",
              "      <td>1.576960</td>\n",
              "    </tr>\n",
              "    <tr>\n",
              "      <th>2020-02-10</th>\n",
              "      <td>1.323414</td>\n",
              "      <td>0.476974</td>\n",
              "      <td>0.203108</td>\n",
              "      <td>-0.173861</td>\n",
              "    </tr>\n",
              "  </tbody>\n",
              "</table>\n",
              "</div>"
            ],
            "text/plain": [
              "                   D         B         C         A\n",
              "2020-02-15  2.112920  0.257277 -0.540296  0.256795\n",
              "2020-02-14 -0.213729 -1.424738 -0.374033  0.437326\n",
              "2020-02-13  0.215017  3.251089  0.966400 -0.479030\n",
              "2020-02-12 -0.475955  0.083589  0.102691  0.571868\n",
              "2020-02-11 -1.839856  1.204783  0.290009  1.576960\n",
              "2020-02-10  1.323414  0.476974  0.203108 -0.173861"
            ]
          },
          "metadata": {
            "tags": []
          },
          "execution_count": 26
        }
      ]
    },
    {
      "cell_type": "markdown",
      "metadata": {
        "id": "YK7QapjNcj1p",
        "colab_type": "text"
      },
      "source": [
        "**값 기준 정렬**"
      ]
    },
    {
      "cell_type": "code",
      "metadata": {
        "id": "NYAnh3kocfIm",
        "colab_type": "code",
        "colab": {
          "base_uri": "https://localhost:8080/",
          "height": 235
        },
        "outputId": "c6e06b6c-1c8a-4640-b154-0b7374154c70"
      },
      "source": [
        "df2.sort_values(by=\"D\")"
      ],
      "execution_count": 27,
      "outputs": [
        {
          "output_type": "execute_result",
          "data": {
            "text/html": [
              "<div>\n",
              "<style scoped>\n",
              "    .dataframe tbody tr th:only-of-type {\n",
              "        vertical-align: middle;\n",
              "    }\n",
              "\n",
              "    .dataframe tbody tr th {\n",
              "        vertical-align: top;\n",
              "    }\n",
              "\n",
              "    .dataframe thead th {\n",
              "        text-align: right;\n",
              "    }\n",
              "</style>\n",
              "<table border=\"1\" class=\"dataframe\">\n",
              "  <thead>\n",
              "    <tr style=\"text-align: right;\">\n",
              "      <th></th>\n",
              "      <th>D</th>\n",
              "      <th>B</th>\n",
              "      <th>C</th>\n",
              "      <th>A</th>\n",
              "    </tr>\n",
              "  </thead>\n",
              "  <tbody>\n",
              "    <tr>\n",
              "      <th>2020-02-11</th>\n",
              "      <td>-1.839856</td>\n",
              "      <td>1.204783</td>\n",
              "      <td>0.290009</td>\n",
              "      <td>1.576960</td>\n",
              "    </tr>\n",
              "    <tr>\n",
              "      <th>2020-02-12</th>\n",
              "      <td>-0.475955</td>\n",
              "      <td>0.083589</td>\n",
              "      <td>0.102691</td>\n",
              "      <td>0.571868</td>\n",
              "    </tr>\n",
              "    <tr>\n",
              "      <th>2020-02-14</th>\n",
              "      <td>-0.213729</td>\n",
              "      <td>-1.424738</td>\n",
              "      <td>-0.374033</td>\n",
              "      <td>0.437326</td>\n",
              "    </tr>\n",
              "    <tr>\n",
              "      <th>2020-02-13</th>\n",
              "      <td>0.215017</td>\n",
              "      <td>3.251089</td>\n",
              "      <td>0.966400</td>\n",
              "      <td>-0.479030</td>\n",
              "    </tr>\n",
              "    <tr>\n",
              "      <th>2020-02-10</th>\n",
              "      <td>1.323414</td>\n",
              "      <td>0.476974</td>\n",
              "      <td>0.203108</td>\n",
              "      <td>-0.173861</td>\n",
              "    </tr>\n",
              "    <tr>\n",
              "      <th>2020-02-15</th>\n",
              "      <td>2.112920</td>\n",
              "      <td>0.257277</td>\n",
              "      <td>-0.540296</td>\n",
              "      <td>0.256795</td>\n",
              "    </tr>\n",
              "  </tbody>\n",
              "</table>\n",
              "</div>"
            ],
            "text/plain": [
              "                   D         B         C         A\n",
              "2020-02-11 -1.839856  1.204783  0.290009  1.576960\n",
              "2020-02-12 -0.475955  0.083589  0.102691  0.571868\n",
              "2020-02-14 -0.213729 -1.424738 -0.374033  0.437326\n",
              "2020-02-13  0.215017  3.251089  0.966400 -0.479030\n",
              "2020-02-10  1.323414  0.476974  0.203108 -0.173861\n",
              "2020-02-15  2.112920  0.257277 -0.540296  0.256795"
            ]
          },
          "metadata": {
            "tags": []
          },
          "execution_count": 27
        }
      ]
    },
    {
      "cell_type": "code",
      "metadata": {
        "id": "QgDcN_brco2_",
        "colab_type": "code",
        "colab": {
          "base_uri": "https://localhost:8080/",
          "height": 235
        },
        "outputId": "83141b1b-913f-43a1-9606-08545c752357"
      },
      "source": [
        "df2.sort_values(by=\"B\", ascending=\"False\")"
      ],
      "execution_count": 28,
      "outputs": [
        {
          "output_type": "execute_result",
          "data": {
            "text/html": [
              "<div>\n",
              "<style scoped>\n",
              "    .dataframe tbody tr th:only-of-type {\n",
              "        vertical-align: middle;\n",
              "    }\n",
              "\n",
              "    .dataframe tbody tr th {\n",
              "        vertical-align: top;\n",
              "    }\n",
              "\n",
              "    .dataframe thead th {\n",
              "        text-align: right;\n",
              "    }\n",
              "</style>\n",
              "<table border=\"1\" class=\"dataframe\">\n",
              "  <thead>\n",
              "    <tr style=\"text-align: right;\">\n",
              "      <th></th>\n",
              "      <th>D</th>\n",
              "      <th>B</th>\n",
              "      <th>C</th>\n",
              "      <th>A</th>\n",
              "    </tr>\n",
              "  </thead>\n",
              "  <tbody>\n",
              "    <tr>\n",
              "      <th>2020-02-14</th>\n",
              "      <td>-0.213729</td>\n",
              "      <td>-1.424738</td>\n",
              "      <td>-0.374033</td>\n",
              "      <td>0.437326</td>\n",
              "    </tr>\n",
              "    <tr>\n",
              "      <th>2020-02-12</th>\n",
              "      <td>-0.475955</td>\n",
              "      <td>0.083589</td>\n",
              "      <td>0.102691</td>\n",
              "      <td>0.571868</td>\n",
              "    </tr>\n",
              "    <tr>\n",
              "      <th>2020-02-15</th>\n",
              "      <td>2.112920</td>\n",
              "      <td>0.257277</td>\n",
              "      <td>-0.540296</td>\n",
              "      <td>0.256795</td>\n",
              "    </tr>\n",
              "    <tr>\n",
              "      <th>2020-02-10</th>\n",
              "      <td>1.323414</td>\n",
              "      <td>0.476974</td>\n",
              "      <td>0.203108</td>\n",
              "      <td>-0.173861</td>\n",
              "    </tr>\n",
              "    <tr>\n",
              "      <th>2020-02-11</th>\n",
              "      <td>-1.839856</td>\n",
              "      <td>1.204783</td>\n",
              "      <td>0.290009</td>\n",
              "      <td>1.576960</td>\n",
              "    </tr>\n",
              "    <tr>\n",
              "      <th>2020-02-13</th>\n",
              "      <td>0.215017</td>\n",
              "      <td>3.251089</td>\n",
              "      <td>0.966400</td>\n",
              "      <td>-0.479030</td>\n",
              "    </tr>\n",
              "  </tbody>\n",
              "</table>\n",
              "</div>"
            ],
            "text/plain": [
              "                   D         B         C         A\n",
              "2020-02-14 -0.213729 -1.424738 -0.374033  0.437326\n",
              "2020-02-12 -0.475955  0.083589  0.102691  0.571868\n",
              "2020-02-15  2.112920  0.257277 -0.540296  0.256795\n",
              "2020-02-10  1.323414  0.476974  0.203108 -0.173861\n",
              "2020-02-11 -1.839856  1.204783  0.290009  1.576960\n",
              "2020-02-13  0.215017  3.251089  0.966400 -0.479030"
            ]
          },
          "metadata": {
            "tags": []
          },
          "execution_count": 28
        }
      ]
    },
    {
      "cell_type": "code",
      "metadata": {
        "id": "TafD8OgPculM",
        "colab_type": "code",
        "colab": {}
      },
      "source": [
        "df2[\"E\"] = np.random.randint(0,6, size=6)\n",
        "df2[\"F\"] = [\"alpha\", \"beta\", \"gamma\", \"gamma\", \"alpha\", \"gamma\"]"
      ],
      "execution_count": 0,
      "outputs": []
    },
    {
      "cell_type": "code",
      "metadata": {
        "id": "fdsV5qTUdOZ_",
        "colab_type": "code",
        "colab": {
          "base_uri": "https://localhost:8080/",
          "height": 235
        },
        "outputId": "c1f95e2d-188d-48c9-8d99-bd7ec0c4476c"
      },
      "source": [
        "df2"
      ],
      "execution_count": 30,
      "outputs": [
        {
          "output_type": "execute_result",
          "data": {
            "text/html": [
              "<div>\n",
              "<style scoped>\n",
              "    .dataframe tbody tr th:only-of-type {\n",
              "        vertical-align: middle;\n",
              "    }\n",
              "\n",
              "    .dataframe tbody tr th {\n",
              "        vertical-align: top;\n",
              "    }\n",
              "\n",
              "    .dataframe thead th {\n",
              "        text-align: right;\n",
              "    }\n",
              "</style>\n",
              "<table border=\"1\" class=\"dataframe\">\n",
              "  <thead>\n",
              "    <tr style=\"text-align: right;\">\n",
              "      <th></th>\n",
              "      <th>D</th>\n",
              "      <th>B</th>\n",
              "      <th>C</th>\n",
              "      <th>A</th>\n",
              "      <th>E</th>\n",
              "      <th>F</th>\n",
              "    </tr>\n",
              "  </thead>\n",
              "  <tbody>\n",
              "    <tr>\n",
              "      <th>2020-02-13</th>\n",
              "      <td>0.215017</td>\n",
              "      <td>3.251089</td>\n",
              "      <td>0.966400</td>\n",
              "      <td>-0.479030</td>\n",
              "      <td>4</td>\n",
              "      <td>alpha</td>\n",
              "    </tr>\n",
              "    <tr>\n",
              "      <th>2020-02-11</th>\n",
              "      <td>-1.839856</td>\n",
              "      <td>1.204783</td>\n",
              "      <td>0.290009</td>\n",
              "      <td>1.576960</td>\n",
              "      <td>4</td>\n",
              "      <td>beta</td>\n",
              "    </tr>\n",
              "    <tr>\n",
              "      <th>2020-02-15</th>\n",
              "      <td>2.112920</td>\n",
              "      <td>0.257277</td>\n",
              "      <td>-0.540296</td>\n",
              "      <td>0.256795</td>\n",
              "      <td>5</td>\n",
              "      <td>gamma</td>\n",
              "    </tr>\n",
              "    <tr>\n",
              "      <th>2020-02-14</th>\n",
              "      <td>-0.213729</td>\n",
              "      <td>-1.424738</td>\n",
              "      <td>-0.374033</td>\n",
              "      <td>0.437326</td>\n",
              "      <td>1</td>\n",
              "      <td>gamma</td>\n",
              "    </tr>\n",
              "    <tr>\n",
              "      <th>2020-02-12</th>\n",
              "      <td>-0.475955</td>\n",
              "      <td>0.083589</td>\n",
              "      <td>0.102691</td>\n",
              "      <td>0.571868</td>\n",
              "      <td>1</td>\n",
              "      <td>alpha</td>\n",
              "    </tr>\n",
              "    <tr>\n",
              "      <th>2020-02-10</th>\n",
              "      <td>1.323414</td>\n",
              "      <td>0.476974</td>\n",
              "      <td>0.203108</td>\n",
              "      <td>-0.173861</td>\n",
              "      <td>1</td>\n",
              "      <td>gamma</td>\n",
              "    </tr>\n",
              "  </tbody>\n",
              "</table>\n",
              "</div>"
            ],
            "text/plain": [
              "                   D         B         C         A  E      F\n",
              "2020-02-13  0.215017  3.251089  0.966400 -0.479030  4  alpha\n",
              "2020-02-11 -1.839856  1.204783  0.290009  1.576960  4   beta\n",
              "2020-02-15  2.112920  0.257277 -0.540296  0.256795  5  gamma\n",
              "2020-02-14 -0.213729 -1.424738 -0.374033  0.437326  1  gamma\n",
              "2020-02-12 -0.475955  0.083589  0.102691  0.571868  1  alpha\n",
              "2020-02-10  1.323414  0.476974  0.203108 -0.173861  1  gamma"
            ]
          },
          "metadata": {
            "tags": []
          },
          "execution_count": 30
        }
      ]
    },
    {
      "cell_type": "code",
      "metadata": {
        "id": "WhLmlklodOxO",
        "colab_type": "code",
        "colab": {
          "base_uri": "https://localhost:8080/",
          "height": 235
        },
        "outputId": "2a14b938-74c5-4934-d570-d673e09ee7e2"
      },
      "source": [
        "df2.sort_values(by=[\"E\", \"F\"])"
      ],
      "execution_count": 31,
      "outputs": [
        {
          "output_type": "execute_result",
          "data": {
            "text/html": [
              "<div>\n",
              "<style scoped>\n",
              "    .dataframe tbody tr th:only-of-type {\n",
              "        vertical-align: middle;\n",
              "    }\n",
              "\n",
              "    .dataframe tbody tr th {\n",
              "        vertical-align: top;\n",
              "    }\n",
              "\n",
              "    .dataframe thead th {\n",
              "        text-align: right;\n",
              "    }\n",
              "</style>\n",
              "<table border=\"1\" class=\"dataframe\">\n",
              "  <thead>\n",
              "    <tr style=\"text-align: right;\">\n",
              "      <th></th>\n",
              "      <th>D</th>\n",
              "      <th>B</th>\n",
              "      <th>C</th>\n",
              "      <th>A</th>\n",
              "      <th>E</th>\n",
              "      <th>F</th>\n",
              "    </tr>\n",
              "  </thead>\n",
              "  <tbody>\n",
              "    <tr>\n",
              "      <th>2020-02-12</th>\n",
              "      <td>-0.475955</td>\n",
              "      <td>0.083589</td>\n",
              "      <td>0.102691</td>\n",
              "      <td>0.571868</td>\n",
              "      <td>1</td>\n",
              "      <td>alpha</td>\n",
              "    </tr>\n",
              "    <tr>\n",
              "      <th>2020-02-14</th>\n",
              "      <td>-0.213729</td>\n",
              "      <td>-1.424738</td>\n",
              "      <td>-0.374033</td>\n",
              "      <td>0.437326</td>\n",
              "      <td>1</td>\n",
              "      <td>gamma</td>\n",
              "    </tr>\n",
              "    <tr>\n",
              "      <th>2020-02-10</th>\n",
              "      <td>1.323414</td>\n",
              "      <td>0.476974</td>\n",
              "      <td>0.203108</td>\n",
              "      <td>-0.173861</td>\n",
              "      <td>1</td>\n",
              "      <td>gamma</td>\n",
              "    </tr>\n",
              "    <tr>\n",
              "      <th>2020-02-13</th>\n",
              "      <td>0.215017</td>\n",
              "      <td>3.251089</td>\n",
              "      <td>0.966400</td>\n",
              "      <td>-0.479030</td>\n",
              "      <td>4</td>\n",
              "      <td>alpha</td>\n",
              "    </tr>\n",
              "    <tr>\n",
              "      <th>2020-02-11</th>\n",
              "      <td>-1.839856</td>\n",
              "      <td>1.204783</td>\n",
              "      <td>0.290009</td>\n",
              "      <td>1.576960</td>\n",
              "      <td>4</td>\n",
              "      <td>beta</td>\n",
              "    </tr>\n",
              "    <tr>\n",
              "      <th>2020-02-15</th>\n",
              "      <td>2.112920</td>\n",
              "      <td>0.257277</td>\n",
              "      <td>-0.540296</td>\n",
              "      <td>0.256795</td>\n",
              "      <td>5</td>\n",
              "      <td>gamma</td>\n",
              "    </tr>\n",
              "  </tbody>\n",
              "</table>\n",
              "</div>"
            ],
            "text/plain": [
              "                   D         B         C         A  E      F\n",
              "2020-02-12 -0.475955  0.083589  0.102691  0.571868  1  alpha\n",
              "2020-02-14 -0.213729 -1.424738 -0.374033  0.437326  1  gamma\n",
              "2020-02-10  1.323414  0.476974  0.203108 -0.173861  1  gamma\n",
              "2020-02-13  0.215017  3.251089  0.966400 -0.479030  4  alpha\n",
              "2020-02-11 -1.839856  1.204783  0.290009  1.576960  4   beta\n",
              "2020-02-15  2.112920  0.257277 -0.540296  0.256795  5  gamma"
            ]
          },
          "metadata": {
            "tags": []
          },
          "execution_count": 31
        }
      ]
    },
    {
      "cell_type": "code",
      "metadata": {
        "id": "Ss6nGCmWdVk-",
        "colab_type": "code",
        "colab": {
          "base_uri": "https://localhost:8080/",
          "height": 235
        },
        "outputId": "413b1e9f-ec09-4147-907b-3c954743074c"
      },
      "source": [
        "df2.sort_values(by=[\"F\",\"E\"])"
      ],
      "execution_count": 32,
      "outputs": [
        {
          "output_type": "execute_result",
          "data": {
            "text/html": [
              "<div>\n",
              "<style scoped>\n",
              "    .dataframe tbody tr th:only-of-type {\n",
              "        vertical-align: middle;\n",
              "    }\n",
              "\n",
              "    .dataframe tbody tr th {\n",
              "        vertical-align: top;\n",
              "    }\n",
              "\n",
              "    .dataframe thead th {\n",
              "        text-align: right;\n",
              "    }\n",
              "</style>\n",
              "<table border=\"1\" class=\"dataframe\">\n",
              "  <thead>\n",
              "    <tr style=\"text-align: right;\">\n",
              "      <th></th>\n",
              "      <th>D</th>\n",
              "      <th>B</th>\n",
              "      <th>C</th>\n",
              "      <th>A</th>\n",
              "      <th>E</th>\n",
              "      <th>F</th>\n",
              "    </tr>\n",
              "  </thead>\n",
              "  <tbody>\n",
              "    <tr>\n",
              "      <th>2020-02-12</th>\n",
              "      <td>-0.475955</td>\n",
              "      <td>0.083589</td>\n",
              "      <td>0.102691</td>\n",
              "      <td>0.571868</td>\n",
              "      <td>1</td>\n",
              "      <td>alpha</td>\n",
              "    </tr>\n",
              "    <tr>\n",
              "      <th>2020-02-13</th>\n",
              "      <td>0.215017</td>\n",
              "      <td>3.251089</td>\n",
              "      <td>0.966400</td>\n",
              "      <td>-0.479030</td>\n",
              "      <td>4</td>\n",
              "      <td>alpha</td>\n",
              "    </tr>\n",
              "    <tr>\n",
              "      <th>2020-02-11</th>\n",
              "      <td>-1.839856</td>\n",
              "      <td>1.204783</td>\n",
              "      <td>0.290009</td>\n",
              "      <td>1.576960</td>\n",
              "      <td>4</td>\n",
              "      <td>beta</td>\n",
              "    </tr>\n",
              "    <tr>\n",
              "      <th>2020-02-14</th>\n",
              "      <td>-0.213729</td>\n",
              "      <td>-1.424738</td>\n",
              "      <td>-0.374033</td>\n",
              "      <td>0.437326</td>\n",
              "      <td>1</td>\n",
              "      <td>gamma</td>\n",
              "    </tr>\n",
              "    <tr>\n",
              "      <th>2020-02-10</th>\n",
              "      <td>1.323414</td>\n",
              "      <td>0.476974</td>\n",
              "      <td>0.203108</td>\n",
              "      <td>-0.173861</td>\n",
              "      <td>1</td>\n",
              "      <td>gamma</td>\n",
              "    </tr>\n",
              "    <tr>\n",
              "      <th>2020-02-15</th>\n",
              "      <td>2.112920</td>\n",
              "      <td>0.257277</td>\n",
              "      <td>-0.540296</td>\n",
              "      <td>0.256795</td>\n",
              "      <td>5</td>\n",
              "      <td>gamma</td>\n",
              "    </tr>\n",
              "  </tbody>\n",
              "</table>\n",
              "</div>"
            ],
            "text/plain": [
              "                   D         B         C         A  E      F\n",
              "2020-02-12 -0.475955  0.083589  0.102691  0.571868  1  alpha\n",
              "2020-02-13  0.215017  3.251089  0.966400 -0.479030  4  alpha\n",
              "2020-02-11 -1.839856  1.204783  0.290009  1.576960  4   beta\n",
              "2020-02-14 -0.213729 -1.424738 -0.374033  0.437326  1  gamma\n",
              "2020-02-10  1.323414  0.476974  0.203108 -0.173861  1  gamma\n",
              "2020-02-15  2.112920  0.257277 -0.540296  0.256795  5  gamma"
            ]
          },
          "metadata": {
            "tags": []
          },
          "execution_count": 32
        }
      ]
    },
    {
      "cell_type": "code",
      "metadata": {
        "id": "oqwzzohQdZKW",
        "colab_type": "code",
        "colab": {
          "base_uri": "https://localhost:8080/",
          "height": 36
        },
        "outputId": "e75215c0-47fb-4cb2-cdb2-e58b26fb89a1"
      },
      "source": [
        "df2[\"F\"].unique()"
      ],
      "execution_count": 33,
      "outputs": [
        {
          "output_type": "execute_result",
          "data": {
            "text/plain": [
              "array(['alpha', 'beta', 'gamma'], dtype=object)"
            ]
          },
          "metadata": {
            "tags": []
          },
          "execution_count": 33
        }
      ]
    },
    {
      "cell_type": "code",
      "metadata": {
        "id": "OjNuyd1hdcyf",
        "colab_type": "code",
        "colab": {
          "base_uri": "https://localhost:8080/",
          "height": 93
        },
        "outputId": "01518f89-4d00-4e67-972d-fdef3234c530"
      },
      "source": [
        "df2[\"F\"].value_counts()"
      ],
      "execution_count": 34,
      "outputs": [
        {
          "output_type": "execute_result",
          "data": {
            "text/plain": [
              "gamma    3\n",
              "alpha    2\n",
              "beta     1\n",
              "Name: F, dtype: int64"
            ]
          },
          "metadata": {
            "tags": []
          },
          "execution_count": 34
        }
      ]
    },
    {
      "cell_type": "code",
      "metadata": {
        "id": "pTnqGav1dgWp",
        "colab_type": "code",
        "colab": {
          "base_uri": "https://localhost:8080/",
          "height": 150
        },
        "outputId": "3d725273-b2ca-4003-e20c-ecca8e1329a7"
      },
      "source": [
        "df2[\"F\"].isin([\"alpha\", \"beta\"])"
      ],
      "execution_count": 35,
      "outputs": [
        {
          "output_type": "execute_result",
          "data": {
            "text/plain": [
              "2020-02-13     True\n",
              "2020-02-11     True\n",
              "2020-02-15    False\n",
              "2020-02-14    False\n",
              "2020-02-12     True\n",
              "2020-02-10    False\n",
              "Name: F, dtype: bool"
            ]
          },
          "metadata": {
            "tags": []
          },
          "execution_count": 35
        }
      ]
    },
    {
      "cell_type": "code",
      "metadata": {
        "id": "FwIfQcyGdnKX",
        "colab_type": "code",
        "colab": {
          "base_uri": "https://localhost:8080/",
          "height": 142
        },
        "outputId": "5ef57daa-0156-429e-aeb5-09f23f6e2e09"
      },
      "source": [
        "df2.loc[df2[\"F\"].isin([\"alpha\",\"beta\"]), :]"
      ],
      "execution_count": 36,
      "outputs": [
        {
          "output_type": "execute_result",
          "data": {
            "text/html": [
              "<div>\n",
              "<style scoped>\n",
              "    .dataframe tbody tr th:only-of-type {\n",
              "        vertical-align: middle;\n",
              "    }\n",
              "\n",
              "    .dataframe tbody tr th {\n",
              "        vertical-align: top;\n",
              "    }\n",
              "\n",
              "    .dataframe thead th {\n",
              "        text-align: right;\n",
              "    }\n",
              "</style>\n",
              "<table border=\"1\" class=\"dataframe\">\n",
              "  <thead>\n",
              "    <tr style=\"text-align: right;\">\n",
              "      <th></th>\n",
              "      <th>D</th>\n",
              "      <th>B</th>\n",
              "      <th>C</th>\n",
              "      <th>A</th>\n",
              "      <th>E</th>\n",
              "      <th>F</th>\n",
              "    </tr>\n",
              "  </thead>\n",
              "  <tbody>\n",
              "    <tr>\n",
              "      <th>2020-02-13</th>\n",
              "      <td>0.215017</td>\n",
              "      <td>3.251089</td>\n",
              "      <td>0.966400</td>\n",
              "      <td>-0.479030</td>\n",
              "      <td>4</td>\n",
              "      <td>alpha</td>\n",
              "    </tr>\n",
              "    <tr>\n",
              "      <th>2020-02-11</th>\n",
              "      <td>-1.839856</td>\n",
              "      <td>1.204783</td>\n",
              "      <td>0.290009</td>\n",
              "      <td>1.576960</td>\n",
              "      <td>4</td>\n",
              "      <td>beta</td>\n",
              "    </tr>\n",
              "    <tr>\n",
              "      <th>2020-02-12</th>\n",
              "      <td>-0.475955</td>\n",
              "      <td>0.083589</td>\n",
              "      <td>0.102691</td>\n",
              "      <td>0.571868</td>\n",
              "      <td>1</td>\n",
              "      <td>alpha</td>\n",
              "    </tr>\n",
              "  </tbody>\n",
              "</table>\n",
              "</div>"
            ],
            "text/plain": [
              "                   D         B         C         A  E      F\n",
              "2020-02-13  0.215017  3.251089  0.966400 -0.479030  4  alpha\n",
              "2020-02-11 -1.839856  1.204783  0.290009  1.576960  4   beta\n",
              "2020-02-12 -0.475955  0.083589  0.102691  0.571868  1  alpha"
            ]
          },
          "metadata": {
            "tags": []
          },
          "execution_count": 36
        }
      ]
    },
    {
      "cell_type": "markdown",
      "metadata": {
        "id": "fpGauTBCd7TR",
        "colab_type": "text"
      },
      "source": [
        "**사용자 정의 함수**"
      ]
    },
    {
      "cell_type": "code",
      "metadata": {
        "id": "M47M2KTbd4C2",
        "colab_type": "code",
        "colab": {}
      },
      "source": [
        "df3 = pd.DataFrame(np.random.randn(4,3), columns=[\"b\",\"d\",\"e\"],\n",
        "                   index = [\"Seoul\", \"Incheon\", \"Busan\", \"Daegu\"])"
      ],
      "execution_count": 0,
      "outputs": []
    },
    {
      "cell_type": "code",
      "metadata": {
        "id": "G8SgC5EHeQ4m",
        "colab_type": "code",
        "colab": {
          "base_uri": "https://localhost:8080/",
          "height": 173
        },
        "outputId": "dd1f5455-7f15-49b7-ac32-7a429004ab46"
      },
      "source": [
        "df3"
      ],
      "execution_count": 38,
      "outputs": [
        {
          "output_type": "execute_result",
          "data": {
            "text/html": [
              "<div>\n",
              "<style scoped>\n",
              "    .dataframe tbody tr th:only-of-type {\n",
              "        vertical-align: middle;\n",
              "    }\n",
              "\n",
              "    .dataframe tbody tr th {\n",
              "        vertical-align: top;\n",
              "    }\n",
              "\n",
              "    .dataframe thead th {\n",
              "        text-align: right;\n",
              "    }\n",
              "</style>\n",
              "<table border=\"1\" class=\"dataframe\">\n",
              "  <thead>\n",
              "    <tr style=\"text-align: right;\">\n",
              "      <th></th>\n",
              "      <th>b</th>\n",
              "      <th>d</th>\n",
              "      <th>e</th>\n",
              "    </tr>\n",
              "  </thead>\n",
              "  <tbody>\n",
              "    <tr>\n",
              "      <th>Seoul</th>\n",
              "      <td>1.132815</td>\n",
              "      <td>1.260421</td>\n",
              "      <td>-1.514860</td>\n",
              "    </tr>\n",
              "    <tr>\n",
              "      <th>Incheon</th>\n",
              "      <td>0.285691</td>\n",
              "      <td>-0.051045</td>\n",
              "      <td>0.673309</td>\n",
              "    </tr>\n",
              "    <tr>\n",
              "      <th>Busan</th>\n",
              "      <td>0.265822</td>\n",
              "      <td>-1.952483</td>\n",
              "      <td>0.541941</td>\n",
              "    </tr>\n",
              "    <tr>\n",
              "      <th>Daegu</th>\n",
              "      <td>-0.054966</td>\n",
              "      <td>0.675982</td>\n",
              "      <td>-0.744401</td>\n",
              "    </tr>\n",
              "  </tbody>\n",
              "</table>\n",
              "</div>"
            ],
            "text/plain": [
              "                b         d         e\n",
              "Seoul    1.132815  1.260421 -1.514860\n",
              "Incheon  0.285691 -0.051045  0.673309\n",
              "Busan    0.265822 -1.952483  0.541941\n",
              "Daegu   -0.054966  0.675982 -0.744401"
            ]
          },
          "metadata": {
            "tags": []
          },
          "execution_count": 38
        }
      ]
    },
    {
      "cell_type": "code",
      "metadata": {
        "id": "EymX_2eXeSm_",
        "colab_type": "code",
        "colab": {}
      },
      "source": [
        "func = lambda x: x.max()-x.min()"
      ],
      "execution_count": 0,
      "outputs": []
    },
    {
      "cell_type": "code",
      "metadata": {
        "id": "uHgxvyliebFW",
        "colab_type": "code",
        "colab": {
          "base_uri": "https://localhost:8080/",
          "height": 93
        },
        "outputId": "db84a363-9044-47f3-8809-ddbbb33790fd"
      },
      "source": [
        "df3.apply(func, axis=0)"
      ],
      "execution_count": 40,
      "outputs": [
        {
          "output_type": "execute_result",
          "data": {
            "text/plain": [
              "b    1.187781\n",
              "d    3.212904\n",
              "e    2.188169\n",
              "dtype: float64"
            ]
          },
          "metadata": {
            "tags": []
          },
          "execution_count": 40
        }
      ]
    },
    {
      "cell_type": "code",
      "metadata": {
        "id": "aY_7VbK3emN3",
        "colab_type": "code",
        "colab": {
          "base_uri": "https://localhost:8080/",
          "height": 112
        },
        "outputId": "60baa3ec-bfc8-46d5-96a3-bc2b56fe1357"
      },
      "source": [
        "df3.apply(func, axis=1)"
      ],
      "execution_count": 43,
      "outputs": [
        {
          "output_type": "execute_result",
          "data": {
            "text/plain": [
              "Seoul      2.775281\n",
              "Incheon    0.724354\n",
              "Busan      2.494424\n",
              "Daegu      1.420382\n",
              "dtype: float64"
            ]
          },
          "metadata": {
            "tags": []
          },
          "execution_count": 43
        }
      ]
    },
    {
      "cell_type": "code",
      "metadata": {
        "id": "vnaHyz-GerTH",
        "colab_type": "code",
        "colab": {}
      },
      "source": [
        ""
      ],
      "execution_count": 0,
      "outputs": []
    }
  ]
}